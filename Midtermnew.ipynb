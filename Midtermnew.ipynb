{
 "cells": [
  {
   "cell_type": "markdown",
   "id": "9bdecab0-5280-4df9-a5df-77aa908b4438",
   "metadata": {
    "jp-MarkdownHeadingCollapsed": true,
    "tags": []
   },
   "source": [
    "# MIDTERM Project WISDM Data"
   ]
  },
  {
   "cell_type": "markdown",
   "id": "6b6bad33-30b6-4ed3-9c82-97b296c35650",
   "metadata": {
    "tags": []
   },
   "source": [
    "# Step1"
   ]
  },
  {
   "cell_type": "markdown",
   "id": "bb929525-a27f-442f-946d-3b62f91d6f96",
   "metadata": {
    "tags": []
   },
   "source": [
    "## Organizing Cleaning Data"
   ]
  },
  {
   "cell_type": "code",
   "execution_count": 7,
   "id": "75ca9ecd-4b52-4c90-9ef8-4f0d3443de11",
   "metadata": {},
   "outputs": [
    {
     "name": "stdout",
     "output_type": "stream",
     "text": [
      "Requirement already satisfied: seaborn in /opt/conda/lib/python3.10/site-packages (0.12.2)\n",
      "Requirement already satisfied: matplotlib!=3.6.1,>=3.1 in /opt/conda/lib/python3.10/site-packages (from seaborn) (3.6.3)\n",
      "Requirement already satisfied: numpy!=1.24.0,>=1.17 in /opt/conda/lib/python3.10/site-packages (from seaborn) (1.24.1)\n",
      "Requirement already satisfied: pandas>=0.25 in /opt/conda/lib/python3.10/site-packages (from seaborn) (1.5.2)\n",
      "Requirement already satisfied: packaging>=20.0 in /opt/conda/lib/python3.10/site-packages (from matplotlib!=3.6.1,>=3.1->seaborn) (23.0)\n",
      "Requirement already satisfied: pyparsing>=2.2.1 in /opt/conda/lib/python3.10/site-packages (from matplotlib!=3.6.1,>=3.1->seaborn) (3.0.9)\n",
      "Requirement already satisfied: contourpy>=1.0.1 in /opt/conda/lib/python3.10/site-packages (from matplotlib!=3.6.1,>=3.1->seaborn) (1.0.7)\n",
      "Requirement already satisfied: pillow>=6.2.0 in /opt/conda/lib/python3.10/site-packages (from matplotlib!=3.6.1,>=3.1->seaborn) (9.4.0)\n",
      "Requirement already satisfied: cycler>=0.10 in /opt/conda/lib/python3.10/site-packages (from matplotlib!=3.6.1,>=3.1->seaborn) (0.11.0)\n",
      "Requirement already satisfied: python-dateutil>=2.7 in /opt/conda/lib/python3.10/site-packages (from matplotlib!=3.6.1,>=3.1->seaborn) (2.8.2)\n",
      "Requirement already satisfied: fonttools>=4.22.0 in /opt/conda/lib/python3.10/site-packages (from matplotlib!=3.6.1,>=3.1->seaborn) (4.38.0)\n",
      "Requirement already satisfied: kiwisolver>=1.0.1 in /opt/conda/lib/python3.10/site-packages (from matplotlib!=3.6.1,>=3.1->seaborn) (1.4.4)\n",
      "Requirement already satisfied: pytz>=2020.1 in /opt/conda/lib/python3.10/site-packages (from pandas>=0.25->seaborn) (2022.7)\n",
      "Requirement already satisfied: six>=1.5 in /opt/conda/lib/python3.10/site-packages (from python-dateutil>=2.7->matplotlib!=3.6.1,>=3.1->seaborn) (1.16.0)\n"
     ]
    }
   ],
   "source": [
    "import os\n",
    "import pandas as pd\n",
    "from scipy.io import arff\n",
    "import numpy as np\n",
    "import matplotlib.pyplot as plt\n",
    "import math\n",
    "from patsy import dmatrices\n",
    "import statsmodels.discrete.discrete_model as sm\n",
    "import statsmodels.formula.api as smf\n",
    "import statsmodels.api as sma\n",
    "from statsmodels.graphics.regressionplots import *\n",
    "from sklearn import datasets, linear_model\n",
    "from sklearn.metrics import confusion_matrix\n",
    "from sklearn.discriminant_analysis import LinearDiscriminantAnalysis as LDA\n",
    "from sklearn.discriminant_analysis import QuadraticDiscriminantAnalysis as QDA\n",
    "from sklearn.naive_bayes import GaussianNB as NB\n",
    "from sklearn.neighbors import KNeighborsClassifier as KNN\n",
    "from sklearn import preprocessing\n",
    "from sklearn.model_selection import KFold, cross_val_score\n",
    "!pip install seaborn \n",
    "import seaborn as sns"
   ]
  },
  {
   "cell_type": "code",
   "execution_count": 2,
   "id": "e772aff6-f595-4a2e-8dd4-6094a4f977f6",
   "metadata": {},
   "outputs": [],
   "source": [
    "#Set the path\n",
    "path = '/home/jovyan/mid_project/watch/accel'"
   ]
  },
  {
   "cell_type": "code",
   "execution_count": 3,
   "id": "cbf0caf0-813b-4708-ae8a-d0bc0d64887b",
   "metadata": {},
   "outputs": [],
   "source": [
    "#Loop and merge all ARFF files\n",
    "df_list = []\n",
    "for filename in os.listdir(path):\n",
    "    if filename.endswith('.arff'):\n",
    "        filepath = os.path.join(path, filename)\n",
    "        data, meta = arff.loadarff(filepath)\n",
    "        arff_data = pd.DataFrame(data)\n",
    "        df_list.append(arff_data)"
   ]
  },
  {
   "cell_type": "code",
   "execution_count": 4,
   "id": "96d2ce19-d4dd-417d-ba0e-e061f9d2cae5",
   "metadata": {},
   "outputs": [],
   "source": [
    "merged_arff = pd.concat(df_list, axis=0, ignore_index=True)"
   ]
  },
  {
   "cell_type": "code",
   "execution_count": 5,
   "id": "ffbb3399-f3fe-41f4-8e1c-89c3664f67f4",
   "metadata": {},
   "outputs": [],
   "source": [
    "#Set the output file path\n",
    "merge_path = './merged.arff'\n",
    "\n",
    "#Writing to the file\n",
    "with open(merge_path, 'w') as output_file:\n",
    "    output_file.write('@relation {}\\n\\n'.format(meta.name))\n",
    "\n",
    "    for i, (name, dtype) in enumerate(zip(meta.names(), meta.types())):\n",
    "        output_file.write('@attribute {} {}\\n'.format(name, dtype))\n",
    "\n",
    "    output_file.write('\\n@data\\n')\n",
    "    for i, row in merged_arff.iterrows():\n",
    "        output_file.write(','.join(map(str, row.tolist())) + '\\n')"
   ]
  },
  {
   "cell_type": "code",
   "execution_count": 6,
   "id": "4625b9f7-b910-419b-b30f-73c15e18b54b",
   "metadata": {},
   "outputs": [],
   "source": [
    "#Convert to CSV file\n",
    "merged_csv = pd.DataFrame(merged_arff.values, columns=meta.names())\n",
    "merged_csv.to_csv('merged.csv', index=False)"
   ]
  },
  {
   "cell_type": "code",
   "execution_count": 2,
   "id": "4ef2d8e7-7f78-4175-a306-200c2727a720",
   "metadata": {},
   "outputs": [],
   "source": [
    "WatchData = pd.read_csv('/home/jovyan/mid_project/NEWmerged.csv', header=0)"
   ]
  },
  {
   "cell_type": "code",
   "execution_count": 3,
   "id": "e1a154a7-beaa-4b6e-854d-c573a258621b",
   "metadata": {},
   "outputs": [
    {
     "data": {
      "text/plain": [
       "(713, 12)"
      ]
     },
     "execution_count": 3,
     "metadata": {},
     "output_type": "execute_result"
    }
   ],
   "source": [
    "WatchData.shape"
   ]
  },
  {
   "cell_type": "code",
   "execution_count": 4,
   "id": "75598256-1ebb-46aa-bb5b-9f45bec16dd0",
   "metadata": {},
   "outputs": [
    {
     "name": "stdout",
     "output_type": "stream",
     "text": [
      "No. of training examples: 642\n",
      "No. of testing examples: 71\n"
     ]
    }
   ],
   "source": [
    "# Spliting the data into training and testing data\n",
    "training_data = WatchData.sample(frac=0.9, random_state=25)\n",
    "testing_data = WatchData.drop(training_data.index)\n",
    "\n",
    "print(f\"No. of training examples: {training_data.shape[0]}\")\n",
    "print(f\"No. of testing examples: {testing_data.shape[0]}\")\n"
   ]
  },
  {
   "cell_type": "markdown",
   "id": "5846dfd8-d9c0-4111-9edc-b800cedbcbc5",
   "metadata": {
    "jp-MarkdownHeadingCollapsed": true,
    "tags": []
   },
   "source": [
    "## Distribution of the variables"
   ]
  },
  {
   "cell_type": "code",
   "execution_count": 8,
   "id": "f3b7864a-fc38-4016-af86-7d622392ecf5",
   "metadata": {},
   "outputs": [
    {
     "data": {
      "text/html": [
       "<div>\n",
       "<style scoped>\n",
       "    .dataframe tbody tr th:only-of-type {\n",
       "        vertical-align: middle;\n",
       "    }\n",
       "\n",
       "    .dataframe tbody tr th {\n",
       "        vertical-align: top;\n",
       "    }\n",
       "\n",
       "    .dataframe thead th {\n",
       "        text-align: right;\n",
       "    }\n",
       "</style>\n",
       "<table border=\"1\" class=\"dataframe\">\n",
       "  <thead>\n",
       "    <tr style=\"text-align: right;\">\n",
       "      <th></th>\n",
       "      <th>XAVG</th>\n",
       "      <th>YAVG</th>\n",
       "      <th>ZAVG</th>\n",
       "      <th>XPEAK</th>\n",
       "      <th>YPEAK</th>\n",
       "      <th>ZPEAK</th>\n",
       "      <th>XVAR</th>\n",
       "      <th>YVAR</th>\n",
       "      <th>ZVAR</th>\n",
       "      <th>RESULTANT</th>\n",
       "    </tr>\n",
       "  </thead>\n",
       "  <tbody>\n",
       "    <tr>\n",
       "      <th>count</th>\n",
       "      <td>713.000000</td>\n",
       "      <td>713.000000</td>\n",
       "      <td>713.000000</td>\n",
       "      <td>713.000000</td>\n",
       "      <td>713.000000</td>\n",
       "      <td>713.00000</td>\n",
       "      <td>713.000000</td>\n",
       "      <td>713.000000</td>\n",
       "      <td>713.000000</td>\n",
       "      <td>713.000000</td>\n",
       "    </tr>\n",
       "    <tr>\n",
       "      <th>mean</th>\n",
       "      <td>1.361799</td>\n",
       "      <td>-0.866829</td>\n",
       "      <td>1.622867</td>\n",
       "      <td>44.613358</td>\n",
       "      <td>39.555803</td>\n",
       "      <td>40.96617</td>\n",
       "      <td>0.425525</td>\n",
       "      <td>0.450756</td>\n",
       "      <td>0.422270</td>\n",
       "      <td>10.727278</td>\n",
       "    </tr>\n",
       "    <tr>\n",
       "      <th>std</th>\n",
       "      <td>5.677711</td>\n",
       "      <td>5.619113</td>\n",
       "      <td>3.238464</td>\n",
       "      <td>14.697534</td>\n",
       "      <td>13.220496</td>\n",
       "      <td>10.01451</td>\n",
       "      <td>0.204367</td>\n",
       "      <td>0.182582</td>\n",
       "      <td>0.176529</td>\n",
       "      <td>1.505531</td>\n",
       "    </tr>\n",
       "    <tr>\n",
       "      <th>min</th>\n",
       "      <td>-9.484310</td>\n",
       "      <td>-9.981750</td>\n",
       "      <td>-8.237780</td>\n",
       "      <td>24.615400</td>\n",
       "      <td>25.128200</td>\n",
       "      <td>23.90240</td>\n",
       "      <td>0.038000</td>\n",
       "      <td>0.059330</td>\n",
       "      <td>0.048663</td>\n",
       "      <td>9.478090</td>\n",
       "    </tr>\n",
       "    <tr>\n",
       "      <th>25%</th>\n",
       "      <td>-2.786100</td>\n",
       "      <td>-5.346180</td>\n",
       "      <td>-0.222798</td>\n",
       "      <td>35.818200</td>\n",
       "      <td>31.694900</td>\n",
       "      <td>34.46430</td>\n",
       "      <td>0.286967</td>\n",
       "      <td>0.327602</td>\n",
       "      <td>0.299962</td>\n",
       "      <td>9.839490</td>\n",
       "    </tr>\n",
       "    <tr>\n",
       "      <th>50%</th>\n",
       "      <td>1.760870</td>\n",
       "      <td>-2.150120</td>\n",
       "      <td>1.695700</td>\n",
       "      <td>41.956500</td>\n",
       "      <td>35.636400</td>\n",
       "      <td>38.97960</td>\n",
       "      <td>0.411477</td>\n",
       "      <td>0.455820</td>\n",
       "      <td>0.414771</td>\n",
       "      <td>9.989550</td>\n",
       "    </tr>\n",
       "    <tr>\n",
       "      <th>75%</th>\n",
       "      <td>5.800620</td>\n",
       "      <td>4.505860</td>\n",
       "      <td>3.136080</td>\n",
       "      <td>48.684200</td>\n",
       "      <td>42.444400</td>\n",
       "      <td>45.34880</td>\n",
       "      <td>0.561451</td>\n",
       "      <td>0.543897</td>\n",
       "      <td>0.545714</td>\n",
       "      <td>11.131300</td>\n",
       "    </tr>\n",
       "    <tr>\n",
       "      <th>max</th>\n",
       "      <td>11.490200</td>\n",
       "      <td>9.671680</td>\n",
       "      <td>9.729320</td>\n",
       "      <td>138.571000</td>\n",
       "      <td>118.750000</td>\n",
       "      <td>96.84210</td>\n",
       "      <td>0.912429</td>\n",
       "      <td>0.941135</td>\n",
       "      <td>0.898315</td>\n",
       "      <td>17.887200</td>\n",
       "    </tr>\n",
       "  </tbody>\n",
       "</table>\n",
       "</div>"
      ],
      "text/plain": [
       "             XAVG        YAVG        ZAVG       XPEAK       YPEAK      ZPEAK  \\\n",
       "count  713.000000  713.000000  713.000000  713.000000  713.000000  713.00000   \n",
       "mean     1.361799   -0.866829    1.622867   44.613358   39.555803   40.96617   \n",
       "std      5.677711    5.619113    3.238464   14.697534   13.220496   10.01451   \n",
       "min     -9.484310   -9.981750   -8.237780   24.615400   25.128200   23.90240   \n",
       "25%     -2.786100   -5.346180   -0.222798   35.818200   31.694900   34.46430   \n",
       "50%      1.760870   -2.150120    1.695700   41.956500   35.636400   38.97960   \n",
       "75%      5.800620    4.505860    3.136080   48.684200   42.444400   45.34880   \n",
       "max     11.490200    9.671680    9.729320  138.571000  118.750000   96.84210   \n",
       "\n",
       "             XVAR        YVAR        ZVAR   RESULTANT  \n",
       "count  713.000000  713.000000  713.000000  713.000000  \n",
       "mean     0.425525    0.450756    0.422270   10.727278  \n",
       "std      0.204367    0.182582    0.176529    1.505531  \n",
       "min      0.038000    0.059330    0.048663    9.478090  \n",
       "25%      0.286967    0.327602    0.299962    9.839490  \n",
       "50%      0.411477    0.455820    0.414771    9.989550  \n",
       "75%      0.561451    0.543897    0.545714   11.131300  \n",
       "max      0.912429    0.941135    0.898315   17.887200  "
      ]
     },
     "execution_count": 8,
     "metadata": {},
     "output_type": "execute_result"
    }
   ],
   "source": [
    "WatchData.describe()"
   ]
  },
  {
   "cell_type": "code",
   "execution_count": 18,
   "id": "8198247c-d396-424c-a9e9-1dd9ce53d030",
   "metadata": {},
   "outputs": [
    {
     "name": "stderr",
     "output_type": "stream",
     "text": [
      "/tmp/ipykernel_68/1615273170.py:1: UserWarning: \n",
      "\n",
      "`distplot` is a deprecated function and will be removed in seaborn v0.14.0.\n",
      "\n",
      "Please adapt your code to use either `displot` (a figure-level function with\n",
      "similar flexibility) or `histplot` (an axes-level function for histograms).\n",
      "\n",
      "For a guide to updating your code to use the new functions, please see\n",
      "https://gist.github.com/mwaskom/de44147ed2974457ad6372750bbe5751\n",
      "\n",
      "  sns.distplot(WatchData['XAVG'], hist=True, kde=False,\n"
     ]
    },
    {
     "data": {
      "text/plain": [
       "Text(0, 0.5, 'Number Observations')"
      ]
     },
     "execution_count": 18,
     "metadata": {},
     "output_type": "execute_result"
    },
    {
     "data": {
      "image/png": "[encoded data removed]",
      "text/plain": [
       "<Figure size 640x480 with 1 Axes>"
      ]
     },
     "metadata": {},
     "output_type": "display_data"
    }
   ],
   "source": [
    "sns.distplot(WatchData['XAVG'], hist=True, kde=False, \n",
    "             bins=int(20), color = 'blue',\n",
    "             hist_kws={'edgecolor':'black'})\n",
    "# Add labels\n",
    "plt.title('Histogram of the XAVG')\n",
    "plt.xlabel('XAVG')\n",
    "plt.ylabel('Number Observations')"
   ]
  },
  {
   "cell_type": "code",
   "execution_count": 19,
   "id": "74381746-55be-4fce-af62-6df2e1a28fee",
   "metadata": {},
   "outputs": [
    {
     "name": "stderr",
     "output_type": "stream",
     "text": [
      "/tmp/ipykernel_68/2537356071.py:1: UserWarning: \n",
      "\n",
      "`distplot` is a deprecated function and will be removed in seaborn v0.14.0.\n",
      "\n",
      "Please adapt your code to use either `displot` (a figure-level function with\n",
      "similar flexibility) or `histplot` (an axes-level function for histograms).\n",
      "\n",
      "For a guide to updating your code to use the new functions, please see\n",
      "https://gist.github.com/mwaskom/de44147ed2974457ad6372750bbe5751\n",
      "\n",
      "  sns.distplot(WatchData['YAVG'], hist=True, kde=False,\n"
     ]
    },
    {
     "data": {
      "text/plain": [
       "Text(0, 0.5, 'Number Observations')"
      ]
     },
     "execution_count": 19,
     "metadata": {},
     "output_type": "execute_result"
    },
    {
     "data": {
      "image/png": "[encoded data removed]",
      "text/plain": [
       "<Figure size 640x480 with 1 Axes>"
      ]
     },
     "metadata": {},
     "output_type": "display_data"
    }
   ],
   "source": [
    "sns.distplot(WatchData['YAVG'], hist=True, kde=False, \n",
    "             bins=int(20), color = 'blue',\n",
    "             hist_kws={'edgecolor':'black'})\n",
    "# Add labels\n",
    "plt.title('Histogram of the YAVG')\n",
    "plt.xlabel('YAVG')\n",
    "plt.ylabel('Number Observations')"
   ]
  },
  {
   "cell_type": "code",
   "execution_count": 20,
   "id": "5bae5298-b638-47de-a7b9-e1c76c349607",
   "metadata": {},
   "outputs": [
    {
     "name": "stderr",
     "output_type": "stream",
     "text": [
      "/tmp/ipykernel_68/4166438722.py:1: UserWarning: \n",
      "\n",
      "`distplot` is a deprecated function and will be removed in seaborn v0.14.0.\n",
      "\n",
      "Please adapt your code to use either `displot` (a figure-level function with\n",
      "similar flexibility) or `histplot` (an axes-level function for histograms).\n",
      "\n",
      "For a guide to updating your code to use the new functions, please see\n",
      "https://gist.github.com/mwaskom/de44147ed2974457ad6372750bbe5751\n",
      "\n",
      "  sns.distplot(WatchData['ZAVG'], hist=True, kde=False,\n"
     ]
    },
    {
     "data": {
      "text/plain": [
       "Text(0, 0.5, 'Number Observations')"
      ]
     },
     "execution_count": 20,
     "metadata": {},
     "output_type": "execute_result"
    },
    {
     "data": {
      "image/png": "[encoded data removed]",
      "text/plain": [
       "<Figure size 640x480 with 1 Axes>"
      ]
     },
     "metadata": {},
     "output_type": "display_data"
    }
   ],
   "source": [
    "sns.distplot(WatchData['ZAVG'], hist=True, kde=False, \n",
    "             bins=int(20), color = 'blue',\n",
    "             hist_kws={'edgecolor':'black'})\n",
    "# Add labels\n",
    "plt.title('Histogram of the ZAVG')\n",
    "plt.xlabel('ZAVG')\n",
    "plt.ylabel('Number Observations')"
   ]
  },
  {
   "cell_type": "code",
   "execution_count": 21,
   "id": "9e9db8b0-6327-497b-a770-4e3473b71469",
   "metadata": {},
   "outputs": [
    {
     "name": "stderr",
     "output_type": "stream",
     "text": [
      "/tmp/ipykernel_68/116180556.py:1: UserWarning: \n",
      "\n",
      "`distplot` is a deprecated function and will be removed in seaborn v0.14.0.\n",
      "\n",
      "Please adapt your code to use either `displot` (a figure-level function with\n",
      "similar flexibility) or `histplot` (an axes-level function for histograms).\n",
      "\n",
      "For a guide to updating your code to use the new functions, please see\n",
      "https://gist.github.com/mwaskom/de44147ed2974457ad6372750bbe5751\n",
      "\n",
      "  sns.distplot(WatchData['XPEAK'], hist=True, kde=False,\n"
     ]
    },
    {
     "data": {
      "text/plain": [
       "Text(0, 0.5, 'Number Observations')"
      ]
     },
     "execution_count": 21,
     "metadata": {},
     "output_type": "execute_result"
    },
    {
     "data": {
      "image/png": "[encoded data removed]",
      "text/plain": [
       "<Figure size 640x480 with 1 Axes>"
      ]
     },
     "metadata": {},
     "output_type": "display_data"
    }
   ],
   "source": [
    "sns.distplot(WatchData['XPEAK'], hist=True, kde=False, \n",
    "             bins=int(20), color = 'blue',\n",
    "             hist_kws={'edgecolor':'black'})\n",
    "# Add labels\n",
    "plt.title('Histogram of the XPEAK')\n",
    "plt.xlabel('XPEAK')\n",
    "plt.ylabel('Number Observations')"
   ]
  },
  {
   "cell_type": "code",
   "execution_count": 22,
   "id": "76852099-90ed-48f0-997c-d67d42375eb4",
   "metadata": {},
   "outputs": [
    {
     "name": "stderr",
     "output_type": "stream",
     "text": [
      "/tmp/ipykernel_68/250241265.py:1: UserWarning: \n",
      "\n",
      "`distplot` is a deprecated function and will be removed in seaborn v0.14.0.\n",
      "\n",
      "Please adapt your code to use either `displot` (a figure-level function with\n",
      "similar flexibility) or `histplot` (an axes-level function for histograms).\n",
      "\n",
      "For a guide to updating your code to use the new functions, please see\n",
      "https://gist.github.com/mwaskom/de44147ed2974457ad6372750bbe5751\n",
      "\n",
      "  sns.distplot(WatchData['YPEAK'], hist=True, kde=False,\n"
     ]
    },
    {
     "data": {
      "text/plain": [
       "Text(0, 0.5, 'Number Observations')"
      ]
     },
     "execution_count": 22,
     "metadata": {},
     "output_type": "execute_result"
    },
    {
     "data": {
      "image/png": "[encoded data removed]",
      "text/plain": [
       "<Figure size 640x480 with 1 Axes>"
      ]
     },
     "metadata": {},
     "output_type": "display_data"
    }
   ],
   "source": [
    "sns.distplot(WatchData['YPEAK'], hist=True, kde=False, \n",
    "             bins=int(20), color = 'blue',\n",
    "             hist_kws={'edgecolor':'black'})\n",
    "# Add labels\n",
    "plt.title('Histogram of the YPEAK')\n",
    "plt.xlabel('YPEAK')\n",
    "plt.ylabel('Number Observations')"
   ]
  },
  {
   "cell_type": "code",
   "execution_count": 23,
   "id": "3aed6777-da0b-4a7e-b2f9-65541aadbbfb",
   "metadata": {},
   "outputs": [
    {
     "name": "stderr",
     "output_type": "stream",
     "text": [
      "/tmp/ipykernel_68/1268083264.py:1: UserWarning: \n",
      "\n",
      "`distplot` is a deprecated function and will be removed in seaborn v0.14.0.\n",
      "\n",
      "Please adapt your code to use either `displot` (a figure-level function with\n",
      "similar flexibility) or `histplot` (an axes-level function for histograms).\n",
      "\n",
      "For a guide to updating your code to use the new functions, please see\n",
      "https://gist.github.com/mwaskom/de44147ed2974457ad6372750bbe5751\n",
      "\n",
      "  sns.distplot(WatchData['ZPEAK'], hist=True, kde=False,\n"
     ]
    },
    {
     "data": {
      "text/plain": [
       "Text(0, 0.5, 'Number Observations')"
      ]
     },
     "execution_count": 23,
     "metadata": {},
     "output_type": "execute_result"
    },
    {
     "data": {
      "image/png": "[encoded data removed]",
      "text/plain": [
       "<Figure size 640x480 with 1 Axes>"
      ]
     },
     "metadata": {},
     "output_type": "display_data"
    }
   ],
   "source": [
    "sns.distplot(WatchData['ZPEAK'], hist=True, kde=False, \n",
    "             bins=int(20), color = 'blue',\n",
    "             hist_kws={'edgecolor':'black'})\n",
    "# Add labels\n",
    "plt.title('Histogram of the ZPEAK')\n",
    "plt.xlabel('ZPEAK')\n",
    "plt.ylabel('Number Observations')"
   ]
  },
  {
   "cell_type": "code",
   "execution_count": 24,
   "id": "1ac651cc-4802-410c-a38e-b983a25b538a",
   "metadata": {},
   "outputs": [
    {
     "name": "stderr",
     "output_type": "stream",
     "text": [
      "/tmp/ipykernel_68/2829999164.py:1: UserWarning: \n",
      "\n",
      "`distplot` is a deprecated function and will be removed in seaborn v0.14.0.\n",
      "\n",
      "Please adapt your code to use either `displot` (a figure-level function with\n",
      "similar flexibility) or `histplot` (an axes-level function for histograms).\n",
      "\n",
      "For a guide to updating your code to use the new functions, please see\n",
      "https://gist.github.com/mwaskom/de44147ed2974457ad6372750bbe5751\n",
      "\n",
      "  sns.distplot(WatchData['XVAR'], hist=True, kde=False,\n"
     ]
    },
    {
     "data": {
      "text/plain": [
       "Text(0, 0.5, 'Number Observations')"
      ]
     },
     "execution_count": 24,
     "metadata": {},
     "output_type": "execute_result"
    },
    {
     "data": {
      "image/png": "[encoded data removed]",
      "text/plain": [
       "<Figure size 640x480 with 1 Axes>"
      ]
     },
     "metadata": {},
     "output_type": "display_data"
    }
   ],
   "source": [
    "sns.distplot(WatchData['XVAR'], hist=True, kde=False, \n",
    "             bins=int(20), color = 'blue',\n",
    "             hist_kws={'edgecolor':'black'})\n",
    "# Add labels\n",
    "plt.title('Histogram of the XVAR')\n",
    "plt.xlabel('XVAR')\n",
    "plt.ylabel('Number Observations')"
   ]
  },
  {
   "cell_type": "code",
   "execution_count": 25,
   "id": "d6f51fd2-d6ea-4964-986d-a00cf3eeb81b",
   "metadata": {},
   "outputs": [
    {
     "name": "stderr",
     "output_type": "stream",
     "text": [
      "/tmp/ipykernel_68/2173519688.py:1: UserWarning: \n",
      "\n",
      "`distplot` is a deprecated function and will be removed in seaborn v0.14.0.\n",
      "\n",
      "Please adapt your code to use either `displot` (a figure-level function with\n",
      "similar flexibility) or `histplot` (an axes-level function for histograms).\n",
      "\n",
      "For a guide to updating your code to use the new functions, please see\n",
      "https://gist.github.com/mwaskom/de44147ed2974457ad6372750bbe5751\n",
      "\n",
      "  sns.distplot(WatchData['YVAR'], hist=True, kde=False,\n"
     ]
    },
    {
     "data": {
      "text/plain": [
       "Text(0, 0.5, 'Number Observations')"
      ]
     },
     "execution_count": 25,
     "metadata": {},
     "output_type": "execute_result"
    },
    {
     "data": {
      "image/png": "[encoded data removed]",
      "text/plain": [
       "<Figure size 640x480 with 1 Axes>"
      ]
     },
     "metadata": {},
     "output_type": "display_data"
    }
   ],
   "source": [
    "sns.distplot(WatchData['YVAR'], hist=True, kde=False, \n",
    "             bins=int(20), color = 'blue',\n",
    "             hist_kws={'edgecolor':'black'})\n",
    "# Add labels\n",
    "plt.title('Histogram of the YVAR')\n",
    "plt.xlabel('YVAR')\n",
    "plt.ylabel('Number Observations')"
   ]
  },
  {
   "cell_type": "code",
   "execution_count": 26,
   "id": "47e98fc5-58f4-4c10-8b1c-5a7053538eed",
   "metadata": {},
   "outputs": [
    {
     "name": "stderr",
     "output_type": "stream",
     "text": [
      "/tmp/ipykernel_68/2173519688.py:1: UserWarning: \n",
      "\n",
      "`distplot` is a deprecated function and will be removed in seaborn v0.14.0.\n",
      "\n",
      "Please adapt your code to use either `displot` (a figure-level function with\n",
      "similar flexibility) or `histplot` (an axes-level function for histograms).\n",
      "\n",
      "For a guide to updating your code to use the new functions, please see\n",
      "https://gist.github.com/mwaskom/de44147ed2974457ad6372750bbe5751\n",
      "\n",
      "  sns.distplot(WatchData['YVAR'], hist=True, kde=False,\n"
     ]
    },
    {
     "data": {
      "text/plain": [
       "Text(0, 0.5, 'Number Observations')"
      ]
     },
     "execution_count": 26,
     "metadata": {},
     "output_type": "execute_result"
    },
    {
     "data": {
      "image/png": "[encoded data removed]",
      "text/plain": [
       "<Figure size 640x480 with 1 Axes>"
      ]
     },
     "metadata": {},
     "output_type": "display_data"
    }
   ],
   "source": [
    "sns.distplot(WatchData['YVAR'], hist=True, kde=False, \n",
    "             bins=int(20), color = 'blue',\n",
    "             hist_kws={'edgecolor':'black'})\n",
    "# Add labels\n",
    "plt.title('Histogram of the YVAR')\n",
    "plt.xlabel('YVAR')\n",
    "plt.ylabel('Number Observations')"
   ]
  },
  {
   "cell_type": "code",
   "execution_count": 27,
   "id": "e01f0d4e-7405-42a8-b194-3444f8a41f82",
   "metadata": {},
   "outputs": [
    {
     "name": "stderr",
     "output_type": "stream",
     "text": [
      "/tmp/ipykernel_68/817701675.py:1: UserWarning: \n",
      "\n",
      "`distplot` is a deprecated function and will be removed in seaborn v0.14.0.\n",
      "\n",
      "Please adapt your code to use either `displot` (a figure-level function with\n",
      "similar flexibility) or `histplot` (an axes-level function for histograms).\n",
      "\n",
      "For a guide to updating your code to use the new functions, please see\n",
      "https://gist.github.com/mwaskom/de44147ed2974457ad6372750bbe5751\n",
      "\n",
      "  sns.distplot(WatchData['RESULTANT'], hist=True, kde=False,\n"
     ]
    },
    {
     "data": {
      "text/plain": [
       "Text(0, 0.5, 'Number Observations')"
      ]
     },
     "execution_count": 27,
     "metadata": {},
     "output_type": "execute_result"
    },
    {
     "data": {
      "image/png": "[encoded data removed]",
      "text/plain": [
       "<Figure size 640x480 with 1 Axes>"
      ]
     },
     "metadata": {},
     "output_type": "display_data"
    }
   ],
   "source": [
    "sns.distplot(WatchData['RESULTANT'], hist=True, kde=False, \n",
    "             bins=int(20), color = 'blue',\n",
    "             hist_kws={'edgecolor':'black'})\n",
    "# Add labels\n",
    "plt.title('Histogram of the RESULTANT')\n",
    "plt.xlabel('RESULTANT')\n",
    "plt.ylabel('Number Observations')"
   ]
  },
  {
   "cell_type": "markdown",
   "id": "3c4a05b4-d1ae-4f82-bf83-fce8d464978a",
   "metadata": {
    "jp-MarkdownHeadingCollapsed": true,
    "tags": []
   },
   "source": [
    "# Step2"
   ]
  },
  {
   "cell_type": "code",
   "execution_count": 23,
   "id": "24271e70-0c97-4a05-8984-3cdabe72dfd0",
   "metadata": {},
   "outputs": [
    {
     "name": "stdout",
     "output_type": "stream",
     "text": [
      "No. of training examples: 514\n",
      "No. of testing examples: 128\n"
     ]
    }
   ],
   "source": [
    "# We first splitted the data for our 80-20 cross validation\n",
    "train_data = training_data.sample(frac=0.8, random_state=25)\n",
    "validation_data = training_data.drop(train_data.index)\n",
    "\n",
    "print(f\"No. of training examples: {train_data.shape[0]}\")\n",
    "print(f\"No. of testing examples: {validation_data.shape[0]}\")"
   ]
  },
  {
   "cell_type": "markdown",
   "id": "2d10ec9f-1ef8-4e73-a817-e4a18416722b",
   "metadata": {
    "tags": []
   },
   "source": [
    "## Multcollinearity"
   ]
  },
  {
   "cell_type": "code",
   "execution_count": 24,
   "id": "76b4abb7-9907-4538-863d-2b0f87721960",
   "metadata": {},
   "outputs": [
    {
     "name": "stdout",
     "output_type": "stream",
     "text": [
      "Requirement already satisfied: seaborn in /opt/conda/lib/python3.10/site-packages (0.12.2)\n",
      "Requirement already satisfied: numpy!=1.24.0,>=1.17 in /opt/conda/lib/python3.10/site-packages (from seaborn) (1.24.1)\n",
      "Requirement already satisfied: matplotlib!=3.6.1,>=3.1 in /opt/conda/lib/python3.10/site-packages (from seaborn) (3.6.3)\n",
      "Requirement already satisfied: pandas>=0.25 in /opt/conda/lib/python3.10/site-packages (from seaborn) (1.5.2)\n",
      "Requirement already satisfied: kiwisolver>=1.0.1 in /opt/conda/lib/python3.10/site-packages (from matplotlib!=3.6.1,>=3.1->seaborn) (1.4.4)\n",
      "Requirement already satisfied: cycler>=0.10 in /opt/conda/lib/python3.10/site-packages (from matplotlib!=3.6.1,>=3.1->seaborn) (0.11.0)\n",
      "Requirement already satisfied: python-dateutil>=2.7 in /opt/conda/lib/python3.10/site-packages (from matplotlib!=3.6.1,>=3.1->seaborn) (2.8.2)\n",
      "Requirement already satisfied: packaging>=20.0 in /opt/conda/lib/python3.10/site-packages (from matplotlib!=3.6.1,>=3.1->seaborn) (23.0)\n",
      "Requirement already satisfied: pillow>=6.2.0 in /opt/conda/lib/python3.10/site-packages (from matplotlib!=3.6.1,>=3.1->seaborn) (9.4.0)\n",
      "Requirement already satisfied: contourpy>=1.0.1 in /opt/conda/lib/python3.10/site-packages (from matplotlib!=3.6.1,>=3.1->seaborn) (1.0.7)\n",
      "Requirement already satisfied: pyparsing>=2.2.1 in /opt/conda/lib/python3.10/site-packages (from matplotlib!=3.6.1,>=3.1->seaborn) (3.0.9)\n",
      "Requirement already satisfied: fonttools>=4.22.0 in /opt/conda/lib/python3.10/site-packages (from matplotlib!=3.6.1,>=3.1->seaborn) (4.38.0)\n",
      "Requirement already satisfied: pytz>=2020.1 in /opt/conda/lib/python3.10/site-packages (from pandas>=0.25->seaborn) (2022.7)\n",
      "Requirement already satisfied: six>=1.5 in /opt/conda/lib/python3.10/site-packages (from python-dateutil>=2.7->matplotlib!=3.6.1,>=3.1->seaborn) (1.16.0)\n"
     ]
    }
   ],
   "source": [
    "import pandas as pd\n",
    "import numpy as np\n",
    "from numpy.linalg import svd\n",
    "import matplotlib as mpl\n",
    "import matplotlib.pyplot as plt\n",
    "\n",
    "from sklearn.preprocessing import StandardScaler\n",
    "from sklearn.decomposition import PCA\n",
    "from sklearn.cluster import KMeans\n",
    "from scipy.cluster import hierarchy\n",
    "!pip install seaborn\n",
    "import seaborn as sns\n",
    "%matplotlib inline"
   ]
  },
  {
   "cell_type": "code",
   "execution_count": 25,
   "id": "25b065c9-a4a6-4767-9c2c-8a81a63a96fc",
   "metadata": {},
   "outputs": [
    {
     "data": {
      "text/html": [
       "<div>\n",
       "<style scoped>\n",
       "    .dataframe tbody tr th:only-of-type {\n",
       "        vertical-align: middle;\n",
       "    }\n",
       "\n",
       "    .dataframe tbody tr th {\n",
       "        vertical-align: top;\n",
       "    }\n",
       "\n",
       "    .dataframe thead th {\n",
       "        text-align: right;\n",
       "    }\n",
       "</style>\n",
       "<table border=\"1\" class=\"dataframe\">\n",
       "  <thead>\n",
       "    <tr style=\"text-align: right;\">\n",
       "      <th></th>\n",
       "      <th>Class</th>\n",
       "      <th>XAVG</th>\n",
       "      <th>YAVG</th>\n",
       "      <th>ZAVG</th>\n",
       "      <th>XPEAK</th>\n",
       "      <th>YPEAK</th>\n",
       "      <th>ZPEAK</th>\n",
       "      <th>XVAR</th>\n",
       "      <th>YVAR</th>\n",
       "      <th>ZVAR</th>\n",
       "      <th>RESULTANT</th>\n",
       "      <th>ACTIVITY</th>\n",
       "    </tr>\n",
       "  </thead>\n",
       "  <tbody>\n",
       "    <tr>\n",
       "      <th>0</th>\n",
       "      <td>Person 1</td>\n",
       "      <td>9.23000</td>\n",
       "      <td>-3.22562</td>\n",
       "      <td>3.40728</td>\n",
       "      <td>40.0000</td>\n",
       "      <td>57.5758</td>\n",
       "      <td>43.4884</td>\n",
       "      <td>0.504440</td>\n",
       "      <td>0.527774</td>\n",
       "      <td>0.401989</td>\n",
       "      <td>11.55880</td>\n",
       "      <td>A</td>\n",
       "    </tr>\n",
       "    <tr>\n",
       "      <th>1</th>\n",
       "      <td>Person 1</td>\n",
       "      <td>7.75308</td>\n",
       "      <td>-3.62212</td>\n",
       "      <td>2.58781</td>\n",
       "      <td>43.4091</td>\n",
       "      <td>48.7179</td>\n",
       "      <td>51.3158</td>\n",
       "      <td>0.712498</td>\n",
       "      <td>0.531065</td>\n",
       "      <td>0.455501</td>\n",
       "      <td>12.09340</td>\n",
       "      <td>A</td>\n",
       "    </tr>\n",
       "    <tr>\n",
       "      <th>2</th>\n",
       "      <td>Person 1</td>\n",
       "      <td>8.40093</td>\n",
       "      <td>-4.04586</td>\n",
       "      <td>2.09208</td>\n",
       "      <td>41.7391</td>\n",
       "      <td>50.8108</td>\n",
       "      <td>44.3182</td>\n",
       "      <td>0.677074</td>\n",
       "      <td>0.522641</td>\n",
       "      <td>0.411418</td>\n",
       "      <td>11.96040</td>\n",
       "      <td>A</td>\n",
       "    </tr>\n",
       "    <tr>\n",
       "      <th>3</th>\n",
       "      <td>Person 1</td>\n",
       "      <td>11.43050</td>\n",
       "      <td>-3.77390</td>\n",
       "      <td>2.88670</td>\n",
       "      <td>40.6383</td>\n",
       "      <td>49.4872</td>\n",
       "      <td>43.8636</td>\n",
       "      <td>0.418373</td>\n",
       "      <td>0.546912</td>\n",
       "      <td>0.355470</td>\n",
       "      <td>13.27350</td>\n",
       "      <td>A</td>\n",
       "    </tr>\n",
       "    <tr>\n",
       "      <th>4</th>\n",
       "      <td>Person 1</td>\n",
       "      <td>10.41550</td>\n",
       "      <td>-3.66641</td>\n",
       "      <td>3.37102</td>\n",
       "      <td>46.5854</td>\n",
       "      <td>45.7143</td>\n",
       "      <td>48.0000</td>\n",
       "      <td>0.552819</td>\n",
       "      <td>0.547732</td>\n",
       "      <td>0.406682</td>\n",
       "      <td>12.89640</td>\n",
       "      <td>A</td>\n",
       "    </tr>\n",
       "    <tr>\n",
       "      <th>...</th>\n",
       "      <td>...</td>\n",
       "      <td>...</td>\n",
       "      <td>...</td>\n",
       "      <td>...</td>\n",
       "      <td>...</td>\n",
       "      <td>...</td>\n",
       "      <td>...</td>\n",
       "      <td>...</td>\n",
       "      <td>...</td>\n",
       "      <td>...</td>\n",
       "      <td>...</td>\n",
       "      <td>...</td>\n",
       "    </tr>\n",
       "    <tr>\n",
       "      <th>708</th>\n",
       "      <td>Person 2</td>\n",
       "      <td>-4.98030</td>\n",
       "      <td>-6.30830</td>\n",
       "      <td>4.07123</td>\n",
       "      <td>37.8846</td>\n",
       "      <td>31.1290</td>\n",
       "      <td>40.2083</td>\n",
       "      <td>0.324098</td>\n",
       "      <td>0.327602</td>\n",
       "      <td>0.489588</td>\n",
       "      <td>9.84407</td>\n",
       "      <td>A</td>\n",
       "    </tr>\n",
       "    <tr>\n",
       "      <th>709</th>\n",
       "      <td>Person 2</td>\n",
       "      <td>-3.96616</td>\n",
       "      <td>-7.75343</td>\n",
       "      <td>1.87951</td>\n",
       "      <td>36.4815</td>\n",
       "      <td>28.9552</td>\n",
       "      <td>38.9796</td>\n",
       "      <td>0.333311</td>\n",
       "      <td>0.283873</td>\n",
       "      <td>0.509983</td>\n",
       "      <td>9.82156</td>\n",
       "      <td>C</td>\n",
       "    </tr>\n",
       "    <tr>\n",
       "      <th>710</th>\n",
       "      <td>Person 2</td>\n",
       "      <td>-4.36883</td>\n",
       "      <td>-7.30435</td>\n",
       "      <td>2.52667</td>\n",
       "      <td>35.1786</td>\n",
       "      <td>28.5075</td>\n",
       "      <td>39.5918</td>\n",
       "      <td>0.333168</td>\n",
       "      <td>0.308339</td>\n",
       "      <td>0.513278</td>\n",
       "      <td>9.83112</td>\n",
       "      <td>S</td>\n",
       "    </tr>\n",
       "    <tr>\n",
       "      <th>711</th>\n",
       "      <td>Person 2</td>\n",
       "      <td>-3.90877</td>\n",
       "      <td>-7.46837</td>\n",
       "      <td>2.83919</td>\n",
       "      <td>36.7308</td>\n",
       "      <td>30.3175</td>\n",
       "      <td>37.2549</td>\n",
       "      <td>0.340969</td>\n",
       "      <td>0.275551</td>\n",
       "      <td>0.507417</td>\n",
       "      <td>9.79981</td>\n",
       "      <td>F</td>\n",
       "    </tr>\n",
       "    <tr>\n",
       "      <th>712</th>\n",
       "      <td>Person 2</td>\n",
       "      <td>-4.06541</td>\n",
       "      <td>-7.25140</td>\n",
       "      <td>3.34052</td>\n",
       "      <td>38.6275</td>\n",
       "      <td>31.7742</td>\n",
       "      <td>34.3860</td>\n",
       "      <td>0.318136</td>\n",
       "      <td>0.286414</td>\n",
       "      <td>0.507233</td>\n",
       "      <td>9.83474</td>\n",
       "      <td>D</td>\n",
       "    </tr>\n",
       "  </tbody>\n",
       "</table>\n",
       "<p>713 rows × 12 columns</p>\n",
       "</div>"
      ],
      "text/plain": [
       "        Class      XAVG     YAVG     ZAVG    XPEAK    YPEAK    ZPEAK  \\\n",
       "0    Person 1   9.23000 -3.22562  3.40728  40.0000  57.5758  43.4884   \n",
       "1    Person 1   7.75308 -3.62212  2.58781  43.4091  48.7179  51.3158   \n",
       "2    Person 1   8.40093 -4.04586  2.09208  41.7391  50.8108  44.3182   \n",
       "3    Person 1  11.43050 -3.77390  2.88670  40.6383  49.4872  43.8636   \n",
       "4    Person 1  10.41550 -3.66641  3.37102  46.5854  45.7143  48.0000   \n",
       "..        ...       ...      ...      ...      ...      ...      ...   \n",
       "708  Person 2  -4.98030 -6.30830  4.07123  37.8846  31.1290  40.2083   \n",
       "709  Person 2  -3.96616 -7.75343  1.87951  36.4815  28.9552  38.9796   \n",
       "710  Person 2  -4.36883 -7.30435  2.52667  35.1786  28.5075  39.5918   \n",
       "711  Person 2  -3.90877 -7.46837  2.83919  36.7308  30.3175  37.2549   \n",
       "712  Person 2  -4.06541 -7.25140  3.34052  38.6275  31.7742  34.3860   \n",
       "\n",
       "         XVAR      YVAR      ZVAR  RESULTANT ACTIVITY  \n",
       "0    0.504440  0.527774  0.401989   11.55880        A  \n",
       "1    0.712498  0.531065  0.455501   12.09340        A  \n",
       "2    0.677074  0.522641  0.411418   11.96040        A  \n",
       "3    0.418373  0.546912  0.355470   13.27350        A  \n",
       "4    0.552819  0.547732  0.406682   12.89640        A  \n",
       "..        ...       ...       ...        ...      ...  \n",
       "708  0.324098  0.327602  0.489588    9.84407        A  \n",
       "709  0.333311  0.283873  0.509983    9.82156        C  \n",
       "710  0.333168  0.308339  0.513278    9.83112        S  \n",
       "711  0.340969  0.275551  0.507417    9.79981        F  \n",
       "712  0.318136  0.286414  0.507233    9.83474        D  \n",
       "\n",
       "[713 rows x 12 columns]"
      ]
     },
     "execution_count": 25,
     "metadata": {},
     "output_type": "execute_result"
    }
   ],
   "source": [
    "Multi_data=WatchData\n",
    "Multi_data"
   ]
  },
  {
   "cell_type": "code",
   "execution_count": 26,
   "id": "a01b7ee6-383f-4d1b-b214-1e18562c2986",
   "metadata": {},
   "outputs": [],
   "source": [
    "#We get rid of the categorical variables to measure correlation\n",
    "del Multi_data[\"ACTIVITY\"]\n",
    "del Multi_data[\"Class\"]"
   ]
  },
  {
   "cell_type": "code",
   "execution_count": 27,
   "id": "2b7a22f0-94ec-4c98-a37f-439a6c63033e",
   "metadata": {},
   "outputs": [
    {
     "data": {
      "text/plain": [
       "<AxesSubplot: >"
      ]
     },
     "execution_count": 27,
     "metadata": {},
     "output_type": "execute_result"
    },
    {
     "data": {
      "image/png": "[encoded data removed]",
      "text/plain": [
       "<Figure size 1400x1000 with 2 Axes>"
      ]
     },
     "metadata": {},
     "output_type": "display_data"
    }
   ],
   "source": [
    "# We now create a correlation Matrix of our Data to look for multicollinearity in our data\n",
    "fig = plt.figure(figsize=(14,10))\n",
    "ax = fig.add_subplot(111)\n",
    "sns.heatmap(Multi_data.corr(),annot=True)"
   ]
  },
  {
   "cell_type": "markdown",
   "id": "8422b2db-3c41-42de-a270-0d37aaeac9a8",
   "metadata": {
    "tags": []
   },
   "source": [
    "##  Build Logit, LDA, QDA, Naïve Bayes, KNN models with cross validation"
   ]
  },
  {
   "cell_type": "markdown",
   "id": "31fda801-b56d-48d7-b4a1-e17cd75c4205",
   "metadata": {},
   "source": [
    "#### Logit model 80-20 cross-validation"
   ]
  },
  {
   "cell_type": "code",
   "execution_count": 28,
   "id": "f044f132-b0b7-4b0a-bd88-97fe82876027",
   "metadata": {},
   "outputs": [
    {
     "name": "stdout",
     "output_type": "stream",
     "text": [
      "     Class[Person 1]  Class[Person 2]\n",
      "357              0.0              1.0\n",
      "589              0.0              1.0\n",
      "351              0.0              1.0\n",
      "194              1.0              0.0\n",
      "254              1.0              0.0\n",
      "..               ...              ...\n",
      "517              0.0              1.0\n",
      "334              1.0              0.0\n",
      "263              1.0              0.0\n",
      "345              1.0              0.0\n",
      "294              1.0              0.0\n",
      "\n",
      "[514 rows x 2 columns]\n"
     ]
    }
   ],
   "source": [
    "# we will use the training dataset to build the logistic regression model \n",
    "y_train, X_train = dmatrices('Class~XAVG+YAVG+ZAVG+XPEAK+YPEAK+ZPEAK+XVAR+YVAR+ZVAR+RESULTANT', train_data, return_type = 'dataframe')\n",
    "print(y_train)"
   ]
  },
  {
   "cell_type": "code",
   "execution_count": 29,
   "id": "4211794a-bbd3-4054-a43c-5f0a7dad3f4c",
   "metadata": {},
   "outputs": [
    {
     "name": "stdout",
     "output_type": "stream",
     "text": [
      "Optimization terminated successfully.\n",
      "         Current function value: 0.424601\n",
      "         Iterations 7\n"
     ]
    },
    {
     "data": {
      "text/html": [
       "<table class=\"simpletable\">\n",
       "<caption>Logit Regression Results</caption>\n",
       "<tr>\n",
       "  <th>Dep. Variable:</th>    <td>Class[Person 2]</td> <th>  No. Observations:  </th>  <td>   514</td>  \n",
       "</tr>\n",
       "<tr>\n",
       "  <th>Model:</th>                 <td>Logit</td>      <th>  Df Residuals:      </th>  <td>   503</td>  \n",
       "</tr>\n",
       "<tr>\n",
       "  <th>Method:</th>                 <td>MLE</td>       <th>  Df Model:          </th>  <td>    10</td>  \n",
       "</tr>\n",
       "<tr>\n",
       "  <th>Date:</th>            <td>Thu, 30 Mar 2023</td> <th>  Pseudo R-squ.:     </th>  <td>0.3872</td>  \n",
       "</tr>\n",
       "<tr>\n",
       "  <th>Time:</th>                <td>17:07:08</td>     <th>  Log-Likelihood:    </th> <td> -218.24</td> \n",
       "</tr>\n",
       "<tr>\n",
       "  <th>converged:</th>             <td>True</td>       <th>  LL-Null:           </th> <td> -356.14</td> \n",
       "</tr>\n",
       "<tr>\n",
       "  <th>Covariance Type:</th>     <td>nonrobust</td>    <th>  LLR p-value:       </th> <td>2.016e-53</td>\n",
       "</tr>\n",
       "</table>\n",
       "<table class=\"simpletable\">\n",
       "<tr>\n",
       "      <td></td>         <th>coef</th>     <th>std err</th>      <th>z</th>      <th>P>|z|</th>  <th>[0.025</th>    <th>0.975]</th>  \n",
       "</tr>\n",
       "<tr>\n",
       "  <th>Intercept</th> <td>   -1.2812</td> <td>    1.093</td> <td>   -1.173</td> <td> 0.241</td> <td>   -3.423</td> <td>    0.860</td>\n",
       "</tr>\n",
       "<tr>\n",
       "  <th>XAVG</th>      <td>    0.0439</td> <td>    0.024</td> <td>    1.810</td> <td> 0.070</td> <td>   -0.004</td> <td>    0.091</td>\n",
       "</tr>\n",
       "<tr>\n",
       "  <th>YAVG</th>      <td>    0.2536</td> <td>    0.031</td> <td>    8.238</td> <td> 0.000</td> <td>    0.193</td> <td>    0.314</td>\n",
       "</tr>\n",
       "<tr>\n",
       "  <th>ZAVG</th>      <td>   -0.1868</td> <td>    0.039</td> <td>   -4.822</td> <td> 0.000</td> <td>   -0.263</td> <td>   -0.111</td>\n",
       "</tr>\n",
       "<tr>\n",
       "  <th>XPEAK</th>     <td>   -0.0280</td> <td>    0.015</td> <td>   -1.858</td> <td> 0.063</td> <td>   -0.058</td> <td>    0.002</td>\n",
       "</tr>\n",
       "<tr>\n",
       "  <th>YPEAK</th>     <td>   -0.1191</td> <td>    0.023</td> <td>   -5.212</td> <td> 0.000</td> <td>   -0.164</td> <td>   -0.074</td>\n",
       "</tr>\n",
       "<tr>\n",
       "  <th>ZPEAK</th>     <td>    0.1899</td> <td>    0.029</td> <td>    6.619</td> <td> 0.000</td> <td>    0.134</td> <td>    0.246</td>\n",
       "</tr>\n",
       "<tr>\n",
       "  <th>XVAR</th>      <td>    2.8822</td> <td>    1.661</td> <td>    1.736</td> <td> 0.083</td> <td>   -0.373</td> <td>    6.137</td>\n",
       "</tr>\n",
       "<tr>\n",
       "  <th>YVAR</th>      <td>    2.5212</td> <td>    1.901</td> <td>    1.326</td> <td> 0.185</td> <td>   -1.204</td> <td>    6.246</td>\n",
       "</tr>\n",
       "<tr>\n",
       "  <th>ZVAR</th>      <td>   -7.1840</td> <td>    1.713</td> <td>   -4.193</td> <td> 0.000</td> <td>  -10.542</td> <td>   -3.826</td>\n",
       "</tr>\n",
       "<tr>\n",
       "  <th>RESULTANT</th> <td>    0.0566</td> <td>    0.118</td> <td>    0.481</td> <td> 0.631</td> <td>   -0.174</td> <td>    0.287</td>\n",
       "</tr>\n",
       "</table>"
      ],
      "text/plain": [
       "<class 'statsmodels.iolib.summary.Summary'>\n",
       "\"\"\"\n",
       "                           Logit Regression Results                           \n",
       "==============================================================================\n",
       "Dep. Variable:        Class[Person 2]   No. Observations:                  514\n",
       "Model:                          Logit   Df Residuals:                      503\n",
       "Method:                           MLE   Df Model:                           10\n",
       "Date:                Thu, 30 Mar 2023   Pseudo R-squ.:                  0.3872\n",
       "Time:                        17:07:08   Log-Likelihood:                -218.24\n",
       "converged:                       True   LL-Null:                       -356.14\n",
       "Covariance Type:            nonrobust   LLR p-value:                 2.016e-53\n",
       "==============================================================================\n",
       "                 coef    std err          z      P>|z|      [0.025      0.975]\n",
       "------------------------------------------------------------------------------\n",
       "Intercept     -1.2812      1.093     -1.173      0.241      -3.423       0.860\n",
       "XAVG           0.0439      0.024      1.810      0.070      -0.004       0.091\n",
       "YAVG           0.2536      0.031      8.238      0.000       0.193       0.314\n",
       "ZAVG          -0.1868      0.039     -4.822      0.000      -0.263      -0.111\n",
       "XPEAK         -0.0280      0.015     -1.858      0.063      -0.058       0.002\n",
       "YPEAK         -0.1191      0.023     -5.212      0.000      -0.164      -0.074\n",
       "ZPEAK          0.1899      0.029      6.619      0.000       0.134       0.246\n",
       "XVAR           2.8822      1.661      1.736      0.083      -0.373       6.137\n",
       "YVAR           2.5212      1.901      1.326      0.185      -1.204       6.246\n",
       "ZVAR          -7.1840      1.713     -4.193      0.000     -10.542      -3.826\n",
       "RESULTANT      0.0566      0.118      0.481      0.631      -0.174       0.287\n",
       "==============================================================================\n",
       "\"\"\""
      ]
     },
     "execution_count": 29,
     "metadata": {},
     "output_type": "execute_result"
    }
   ],
   "source": [
    "# since we are interested in the authenticity of person1, we take the first column of y as our response variable \n",
    "# we build a model to predict whether it's person 1 or person 2. \n",
    "logit = sm.Logit(y_train.iloc[:,1], X_train)\n",
    "logit.fit().summary()"
   ]
  },
  {
   "cell_type": "code",
   "execution_count": 30,
   "id": "7edb5cf5-aef1-4e4a-b92f-81c54ff2f1c5",
   "metadata": {},
   "outputs": [
    {
     "name": "stdout",
     "output_type": "stream",
     "text": [
      "Optimization terminated successfully.\n",
      "         Current function value: 0.424601\n",
      "         Iterations 7\n"
     ]
    },
    {
     "data": {
      "text/plain": [
       "Intercept   -1.281249\n",
       "XAVG         0.043899\n",
       "YAVG         0.253641\n",
       "ZAVG        -0.186825\n",
       "XPEAK       -0.027999\n",
       "YPEAK       -0.119070\n",
       "ZPEAK        0.189906\n",
       "XVAR         2.882186\n",
       "YVAR         2.521184\n",
       "ZVAR        -7.184032\n",
       "RESULTANT    0.056553\n",
       "dtype: float64"
      ]
     },
     "execution_count": 30,
     "metadata": {},
     "output_type": "execute_result"
    }
   ],
   "source": [
    "# to extract the parameters directly\n",
    "logit.fit().params"
   ]
  },
  {
   "cell_type": "code",
   "execution_count": 31,
   "id": "93baf82f-b214-42f1-b575-13a750f9ed71",
   "metadata": {},
   "outputs": [
    {
     "name": "stdout",
     "output_type": "stream",
     "text": [
      "Optimization terminated successfully.\n",
      "         Current function value: 0.424601\n",
      "         Iterations 7\n"
     ]
    },
    {
     "data": {
      "text/plain": [
       "array([0.57263861, 0.29090747, 0.71797018, 0.00399771, 0.37310286,\n",
       "       0.31101136, 0.97656365, 0.52155913, 0.02999808, 0.11412401])"
      ]
     },
     "execution_count": 31,
     "metadata": {},
     "output_type": "execute_result"
    }
   ],
   "source": [
    "# to extract the probability of the person to be person 1 in the first 10 instances\n",
    "logit.fit().predict()[0:10] "
   ]
  },
  {
   "cell_type": "code",
   "execution_count": 32,
   "id": "4f4efb20-6fb7-4eb2-8585-0cd99f077c7f",
   "metadata": {},
   "outputs": [
    {
     "name": "stdout",
     "output_type": "stream",
     "text": [
      "Optimization terminated successfully.\n",
      "         Current function value: 0.424601\n",
      "         Iterations 7\n"
     ]
    }
   ],
   "source": [
    "# in order to make a prediction as to whether is person 2 or not, \n",
    "# we must convert these predicted probabilities into class labels, person 1 (1) or person 2 (0).\n",
    "# we will do this by threshold the probability by a threshold of 0.5\n",
    "threshold = 0.5\n",
    "predict_label = pd.DataFrame(np.zeros(shape=(514,1)), columns = ['label'])\n",
    "predict_label.iloc[logit.fit().predict()>threshold] = 1"
   ]
  },
  {
   "cell_type": "code",
   "execution_count": 33,
   "id": "a9a5b8ed-e676-416a-bbc4-c0d7618ecd49",
   "metadata": {},
   "outputs": [
    {
     "data": {
      "text/plain": [
       "array([[228,  35],\n",
       "       [ 51, 200]])"
      ]
     },
     "execution_count": 33,
     "metadata": {},
     "output_type": "execute_result"
    }
   ],
   "source": [
    "# we can evalue the TRAINING result by constructing a confusion matrix \n",
    "confusion_matrix(y_train.iloc[:,1], predict_label.iloc[:,0])"
   ]
  },
  {
   "cell_type": "code",
   "execution_count": 35,
   "id": "19996d02-107a-477b-ad5e-252aa8a024d2",
   "metadata": {},
   "outputs": [
    {
     "name": "stdout",
     "output_type": "stream",
     "text": [
      "0.8326848249027238\n"
     ]
    }
   ],
   "source": [
    "# Use the confusion matrix to compute the accuracy \n",
    "print(confusion_matrix(y_train.iloc[:,1], predict_label.iloc[:,0]).diagonal().sum()* 1.0 /confusion_matrix(y_train.iloc[:,1], predict_label.iloc[:,0]).sum())"
   ]
  },
  {
   "cell_type": "code",
   "execution_count": 36,
   "id": "032e7d93-d85c-4709-82d3-fa91be990f4d",
   "metadata": {},
   "outputs": [],
   "source": [
    "# we will use the test dataset to build the logistic regression model \n",
    "y_test, X_test = dmatrices('Class~XAVG+YAVG+ZAVG+XPEAK+YPEAK+ZPEAK+XVAR+YVAR+ZVAR+RESULTANT', validation_data, return_type = 'dataframe')"
   ]
  },
  {
   "cell_type": "code",
   "execution_count": 37,
   "id": "18f6ae32-57d8-4a30-99e7-d096fe28256e",
   "metadata": {},
   "outputs": [
    {
     "name": "stdout",
     "output_type": "stream",
     "text": [
      "Optimization terminated successfully.\n",
      "         Current function value: 0.358117\n",
      "         Iterations 8\n",
      "                           Logit Regression Results                           \n",
      "==============================================================================\n",
      "Dep. Variable:        Class[Person 2]   No. Observations:                  128\n",
      "Model:                          Logit   Df Residuals:                      117\n",
      "Method:                           MLE   Df Model:                           10\n",
      "Date:                Thu, 30 Mar 2023   Pseudo R-squ.:                  0.4740\n",
      "Time:                        17:07:36   Log-Likelihood:                -45.839\n",
      "converged:                       True   LL-Null:                       -87.154\n",
      "Covariance Type:            nonrobust   LLR p-value:                 1.529e-13\n",
      "==============================================================================\n",
      "                 coef    std err          z      P>|z|      [0.025      0.975]\n",
      "------------------------------------------------------------------------------\n",
      "Intercept      4.4415      3.292      1.349      0.177      -2.011      10.894\n",
      "XAVG          -0.0101      0.056     -0.182      0.855      -0.119       0.099\n",
      "YAVG           0.4945      0.118      4.205      0.000       0.264       0.725\n",
      "ZAVG          -0.2228      0.097     -2.289      0.022      -0.414      -0.032\n",
      "XPEAK          0.0180      0.031      0.570      0.568      -0.044       0.080\n",
      "YPEAK         -0.1219      0.046     -2.680      0.007      -0.211      -0.033\n",
      "ZPEAK          0.1209      0.059      2.066      0.039       0.006       0.236\n",
      "XVAR           8.1099      4.363      1.859      0.063      -0.442      16.662\n",
      "YVAR           6.2153      5.007      1.241      0.214      -3.598      16.029\n",
      "ZVAR         -10.6339      4.770     -2.229      0.026     -19.983      -1.284\n",
      "RESULTANT     -0.5928      0.391     -1.518      0.129      -1.358       0.173\n",
      "==============================================================================\n"
     ]
    }
   ],
   "source": [
    "logit = sm.Logit(y_test.iloc[:,1], X_test)\n",
    "print(logit.fit().summary())"
   ]
  },
  {
   "cell_type": "code",
   "execution_count": 38,
   "id": "e680f27e-8f6e-4cb0-8836-6a7e5e8030a5",
   "metadata": {},
   "outputs": [
    {
     "name": "stdout",
     "output_type": "stream",
     "text": [
      "Optimization terminated successfully.\n",
      "         Current function value: 0.358117\n",
      "         Iterations 8\n"
     ]
    },
    {
     "data": {
      "text/plain": [
       "array([[62, 12],\n",
       "       [18, 36]])"
      ]
     },
     "execution_count": 38,
     "metadata": {},
     "output_type": "execute_result"
    }
   ],
   "source": [
    "preds = logit.fit().predict(X_test)\n",
    "predict_label = pd.DataFrame(np.zeros(shape=(X_test.shape[0],1)), columns = ['label'])\n",
    "threshold = 0.5\n",
    "mark = (preds > threshold).reset_index(drop=True)\n",
    "predict_label.loc[mark] = 1\n",
    "confusion_matrix(y_test.iloc[:,1], predict_label.iloc[:,0])"
   ]
  },
  {
   "cell_type": "code",
   "execution_count": 39,
   "id": "1ba393f3-e944-47d7-b46a-11b8bc650345",
   "metadata": {},
   "outputs": [
    {
     "data": {
      "text/plain": [
       "0.765625"
      ]
     },
     "execution_count": 39,
     "metadata": {},
     "output_type": "execute_result"
    }
   ],
   "source": [
    "# to get accuracy\n",
    "np.mean(y_test.iloc[:,1].reset_index(drop=True)==predict_label.iloc[:,0].reset_index(drop=True)) "
   ]
  },
  {
   "cell_type": "markdown",
   "id": "72f08634-6d83-41ce-b4b7-981d25ec4bd8",
   "metadata": {},
   "source": [
    "#### LDA model 80-20 cross-validation"
   ]
  },
  {
   "cell_type": "code",
   "execution_count": 40,
   "id": "c4446a46-60f7-4603-908b-88f4402c5be4",
   "metadata": {},
   "outputs": [
    {
     "data": {
      "text/plain": [
       "array([1., 0.])"
      ]
     },
     "execution_count": 40,
     "metadata": {},
     "output_type": "execute_result"
    }
   ],
   "source": [
    "# we will use sklearn's implementation of LDA\n",
    "# from sklearn.discriminant_analysis import LinearDiscriminantAnalysis as LDA\n",
    "y_train.iloc[:,1].unique()"
   ]
  },
  {
   "cell_type": "code",
   "execution_count": 41,
   "id": "0ca83bdb-9111-438b-b3a6-28d8a2db0722",
   "metadata": {},
   "outputs": [
    {
     "data": {
      "text/plain": [
       "357    1.0\n",
       "589    1.0\n",
       "351    1.0\n",
       "194    0.0\n",
       "254    0.0\n",
       "      ... \n",
       "517    1.0\n",
       "334    0.0\n",
       "263    0.0\n",
       "345    0.0\n",
       "294    0.0\n",
       "Name: Class[Person 2], Length: 514, dtype: float64"
      ]
     },
     "execution_count": 41,
     "metadata": {},
     "output_type": "execute_result"
    }
   ],
   "source": [
    "y_train.iloc[:,1]"
   ]
  },
  {
   "cell_type": "code",
   "execution_count": 42,
   "id": "ea87cbcc-4561-4fa1-9fd8-a4e133a3663c",
   "metadata": {},
   "outputs": [
    {
     "data": {
      "text/html": [
       "<div>\n",
       "<style scoped>\n",
       "    .dataframe tbody tr th:only-of-type {\n",
       "        vertical-align: middle;\n",
       "    }\n",
       "\n",
       "    .dataframe tbody tr th {\n",
       "        vertical-align: top;\n",
       "    }\n",
       "\n",
       "    .dataframe thead th {\n",
       "        text-align: right;\n",
       "    }\n",
       "</style>\n",
       "<table border=\"1\" class=\"dataframe\">\n",
       "  <thead>\n",
       "    <tr style=\"text-align: right;\">\n",
       "      <th></th>\n",
       "      <th>Intercept</th>\n",
       "      <th>XAVG</th>\n",
       "      <th>YAVG</th>\n",
       "      <th>ZAVG</th>\n",
       "      <th>XPEAK</th>\n",
       "      <th>YPEAK</th>\n",
       "      <th>ZPEAK</th>\n",
       "      <th>XVAR</th>\n",
       "      <th>YVAR</th>\n",
       "      <th>ZVAR</th>\n",
       "      <th>RESULTANT</th>\n",
       "    </tr>\n",
       "  </thead>\n",
       "  <tbody>\n",
       "    <tr>\n",
       "      <th>357</th>\n",
       "      <td>1.0</td>\n",
       "      <td>10.704500</td>\n",
       "      <td>-2.21905</td>\n",
       "      <td>0.982108</td>\n",
       "      <td>41.9149</td>\n",
       "      <td>38.4314</td>\n",
       "      <td>38.0000</td>\n",
       "      <td>0.365936</td>\n",
       "      <td>0.365301</td>\n",
       "      <td>0.309757</td>\n",
       "      <td>11.19430</td>\n",
       "    </tr>\n",
       "    <tr>\n",
       "      <th>589</th>\n",
       "      <td>1.0</td>\n",
       "      <td>-2.900400</td>\n",
       "      <td>-5.37433</td>\n",
       "      <td>-2.785970</td>\n",
       "      <td>45.2381</td>\n",
       "      <td>41.3333</td>\n",
       "      <td>41.8182</td>\n",
       "      <td>0.597420</td>\n",
       "      <td>0.691054</td>\n",
       "      <td>0.627051</td>\n",
       "      <td>11.44960</td>\n",
       "    </tr>\n",
       "    <tr>\n",
       "      <th>351</th>\n",
       "      <td>1.0</td>\n",
       "      <td>10.915600</td>\n",
       "      <td>-2.34888</td>\n",
       "      <td>0.939455</td>\n",
       "      <td>40.8889</td>\n",
       "      <td>44.7619</td>\n",
       "      <td>46.0976</td>\n",
       "      <td>0.377213</td>\n",
       "      <td>0.369548</td>\n",
       "      <td>0.339454</td>\n",
       "      <td>11.45750</td>\n",
       "    </tr>\n",
       "    <tr>\n",
       "      <th>194</th>\n",
       "      <td>1.0</td>\n",
       "      <td>-4.844720</td>\n",
       "      <td>-6.21669</td>\n",
       "      <td>0.138983</td>\n",
       "      <td>81.3043</td>\n",
       "      <td>81.6667</td>\n",
       "      <td>50.2857</td>\n",
       "      <td>0.473196</td>\n",
       "      <td>0.533581</td>\n",
       "      <td>0.449494</td>\n",
       "      <td>9.71982</td>\n",
       "    </tr>\n",
       "    <tr>\n",
       "      <th>254</th>\n",
       "      <td>1.0</td>\n",
       "      <td>0.862035</td>\n",
       "      <td>-5.27075</td>\n",
       "      <td>1.106060</td>\n",
       "      <td>48.0000</td>\n",
       "      <td>41.7021</td>\n",
       "      <td>42.3913</td>\n",
       "      <td>0.849369</td>\n",
       "      <td>0.742699</td>\n",
       "      <td>0.634916</td>\n",
       "      <td>13.57650</td>\n",
       "    </tr>\n",
       "    <tr>\n",
       "      <th>...</th>\n",
       "      <td>...</td>\n",
       "      <td>...</td>\n",
       "      <td>...</td>\n",
       "      <td>...</td>\n",
       "      <td>...</td>\n",
       "      <td>...</td>\n",
       "      <td>...</td>\n",
       "      <td>...</td>\n",
       "      <td>...</td>\n",
       "      <td>...</td>\n",
       "      <td>...</td>\n",
       "    </tr>\n",
       "    <tr>\n",
       "      <th>517</th>\n",
       "      <td>1.0</td>\n",
       "      <td>5.740050</td>\n",
       "      <td>7.56083</td>\n",
       "      <td>0.326898</td>\n",
       "      <td>39.5833</td>\n",
       "      <td>36.8627</td>\n",
       "      <td>40.6250</td>\n",
       "      <td>0.318549</td>\n",
       "      <td>0.333552</td>\n",
       "      <td>0.351524</td>\n",
       "      <td>9.85906</td>\n",
       "    </tr>\n",
       "    <tr>\n",
       "      <th>334</th>\n",
       "      <td>1.0</td>\n",
       "      <td>0.516160</td>\n",
       "      <td>-7.13439</td>\n",
       "      <td>-0.715507</td>\n",
       "      <td>37.4510</td>\n",
       "      <td>30.9524</td>\n",
       "      <td>34.2105</td>\n",
       "      <td>0.537163</td>\n",
       "      <td>0.519102</td>\n",
       "      <td>0.655096</td>\n",
       "      <td>10.53030</td>\n",
       "    </tr>\n",
       "    <tr>\n",
       "      <th>263</th>\n",
       "      <td>1.0</td>\n",
       "      <td>0.650023</td>\n",
       "      <td>-2.73732</td>\n",
       "      <td>1.158720</td>\n",
       "      <td>57.5758</td>\n",
       "      <td>45.2381</td>\n",
       "      <td>38.0000</td>\n",
       "      <td>0.781360</td>\n",
       "      <td>0.731876</td>\n",
       "      <td>0.775470</td>\n",
       "      <td>13.27440</td>\n",
       "    </tr>\n",
       "    <tr>\n",
       "      <th>345</th>\n",
       "      <td>1.0</td>\n",
       "      <td>2.783390</td>\n",
       "      <td>-6.62922</td>\n",
       "      <td>-2.064640</td>\n",
       "      <td>40.0000</td>\n",
       "      <td>35.6364</td>\n",
       "      <td>40.6250</td>\n",
       "      <td>0.604880</td>\n",
       "      <td>0.563364</td>\n",
       "      <td>0.604905</td>\n",
       "      <td>10.82630</td>\n",
       "    </tr>\n",
       "    <tr>\n",
       "      <th>294</th>\n",
       "      <td>1.0</td>\n",
       "      <td>0.456716</td>\n",
       "      <td>-6.90708</td>\n",
       "      <td>2.002290</td>\n",
       "      <td>32.8070</td>\n",
       "      <td>32.1667</td>\n",
       "      <td>38.6275</td>\n",
       "      <td>0.582089</td>\n",
       "      <td>0.639051</td>\n",
       "      <td>0.597456</td>\n",
       "      <td>10.76230</td>\n",
       "    </tr>\n",
       "  </tbody>\n",
       "</table>\n",
       "<p>514 rows × 11 columns</p>\n",
       "</div>"
      ],
      "text/plain": [
       "     Intercept       XAVG     YAVG      ZAVG    XPEAK    YPEAK    ZPEAK  \\\n",
       "357        1.0  10.704500 -2.21905  0.982108  41.9149  38.4314  38.0000   \n",
       "589        1.0  -2.900400 -5.37433 -2.785970  45.2381  41.3333  41.8182   \n",
       "351        1.0  10.915600 -2.34888  0.939455  40.8889  44.7619  46.0976   \n",
       "194        1.0  -4.844720 -6.21669  0.138983  81.3043  81.6667  50.2857   \n",
       "254        1.0   0.862035 -5.27075  1.106060  48.0000  41.7021  42.3913   \n",
       "..         ...        ...      ...       ...      ...      ...      ...   \n",
       "517        1.0   5.740050  7.56083  0.326898  39.5833  36.8627  40.6250   \n",
       "334        1.0   0.516160 -7.13439 -0.715507  37.4510  30.9524  34.2105   \n",
       "263        1.0   0.650023 -2.73732  1.158720  57.5758  45.2381  38.0000   \n",
       "345        1.0   2.783390 -6.62922 -2.064640  40.0000  35.6364  40.6250   \n",
       "294        1.0   0.456716 -6.90708  2.002290  32.8070  32.1667  38.6275   \n",
       "\n",
       "         XVAR      YVAR      ZVAR  RESULTANT  \n",
       "357  0.365936  0.365301  0.309757   11.19430  \n",
       "589  0.597420  0.691054  0.627051   11.44960  \n",
       "351  0.377213  0.369548  0.339454   11.45750  \n",
       "194  0.473196  0.533581  0.449494    9.71982  \n",
       "254  0.849369  0.742699  0.634916   13.57650  \n",
       "..        ...       ...       ...        ...  \n",
       "517  0.318549  0.333552  0.351524    9.85906  \n",
       "334  0.537163  0.519102  0.655096   10.53030  \n",
       "263  0.781360  0.731876  0.775470   13.27440  \n",
       "345  0.604880  0.563364  0.604905   10.82630  \n",
       "294  0.582089  0.639051  0.597456   10.76230  \n",
       "\n",
       "[514 rows x 11 columns]"
      ]
     },
     "execution_count": 42,
     "metadata": {},
     "output_type": "execute_result"
    }
   ],
   "source": [
    "X_train.iloc[:,0:11]"
   ]
  },
  {
   "cell_type": "code",
   "execution_count": 43,
   "id": "92035eba-cde0-469a-a009-6cebf9c34a77",
   "metadata": {},
   "outputs": [],
   "source": [
    "# the training process \n",
    "sklearn_lda = LDA(n_components=1) #creating a LDA object\n",
    "lda = sklearn_lda.fit(X_train.iloc[:,1:11], y_train.iloc[:,1]) #learning the projection matrix\n",
    "X_lda = lda.transform(X_train.iloc[:,1:11]) #using the model to project X \n",
    "X_labels = lda.predict(X_train.iloc[:,1:11]) #gives you the predicted label for each sample\n",
    "X_prob = lda.predict_proba(X_train.iloc[:,1:11]) #the probability of each sample to belong to each class"
   ]
  },
  {
   "cell_type": "code",
   "execution_count": 44,
   "id": "80a0d1a0-4e14-4b7e-8c2c-5dc1e44d4123",
   "metadata": {},
   "outputs": [
    {
     "data": {
      "text/plain": [
       "array([[0.36233945, 0.63766055],\n",
       "       [0.80703666, 0.19296334],\n",
       "       [0.23912947, 0.76087053],\n",
       "       ...,\n",
       "       [0.94936746, 0.05063254],\n",
       "       [0.74054166, 0.25945834],\n",
       "       [0.86238901, 0.13761099]])"
      ]
     },
     "execution_count": 44,
     "metadata": {},
     "output_type": "execute_result"
    }
   ],
   "source": [
    "X_prob"
   ]
  },
  {
   "cell_type": "code",
   "execution_count": 45,
   "id": "66005397-456c-4ae6-80a4-5ab5f237aabd",
   "metadata": {},
   "outputs": [
    {
     "name": "stdout",
     "output_type": "stream",
     "text": [
      "[[0.90515093 0.09484907]\n",
      " [0.75925679 0.24074321]\n",
      " [0.56178868 0.43821132]\n",
      " [0.14802783 0.85197217]\n",
      " [0.58544313 0.41455687]]\n"
     ]
    }
   ],
   "source": [
    "# testing step \n",
    "X_test_labels =lda.predict(X_test.iloc[:,1:11])\n",
    "X_test_prob = lda.predict_proba(X_test.iloc[:,1:11]) \n",
    "print(X_test_prob[0:5,:])"
   ]
  },
  {
   "cell_type": "code",
   "execution_count": 46,
   "id": "c3dbce2d-fcbe-41a1-8432-4b1542326684",
   "metadata": {},
   "outputs": [
    {
     "data": {
      "text/plain": [
       "105    0.0\n",
       "276    0.0\n",
       "236    0.0\n",
       "394    1.0\n",
       "51     0.0\n",
       "      ... \n",
       "29     0.0\n",
       "214    0.0\n",
       "622    1.0\n",
       "79     0.0\n",
       "451    1.0\n",
       "Name: Class[Person 2], Length: 128, dtype: float64"
      ]
     },
     "execution_count": 46,
     "metadata": {},
     "output_type": "execute_result"
    }
   ],
   "source": [
    "y_test.iloc[:,1]"
   ]
  },
  {
   "cell_type": "code",
   "execution_count": 47,
   "id": "73c5df58-7643-4c9b-9910-c992b1e66018",
   "metadata": {},
   "outputs": [
    {
     "data": {
      "text/plain": [
       "0.8125"
      ]
     },
     "execution_count": 47,
     "metadata": {},
     "output_type": "execute_result"
    }
   ],
   "source": [
    "# get the accuracy of the test set using a threshold of 0.5\n",
    "threshold=0.5\n",
    "np.mean(y_test.iloc[:,1]==X_test_labels) "
   ]
  },
  {
   "cell_type": "code",
   "execution_count": 48,
   "id": "0512a339-c229-47a8-b85b-1d83f1e4c86d",
   "metadata": {},
   "outputs": [
    {
     "data": {
      "text/html": [
       "<div>\n",
       "<style scoped>\n",
       "    .dataframe tbody tr th:only-of-type {\n",
       "        vertical-align: middle;\n",
       "    }\n",
       "\n",
       "    .dataframe tbody tr th {\n",
       "        vertical-align: top;\n",
       "    }\n",
       "\n",
       "    .dataframe thead th {\n",
       "        text-align: right;\n",
       "    }\n",
       "</style>\n",
       "<table border=\"1\" class=\"dataframe\">\n",
       "  <thead>\n",
       "    <tr style=\"text-align: right;\">\n",
       "      <th></th>\n",
       "      <th>No</th>\n",
       "      <th>Yes</th>\n",
       "    </tr>\n",
       "  </thead>\n",
       "  <tbody>\n",
       "    <tr>\n",
       "      <th>No</th>\n",
       "      <td>38</td>\n",
       "      <td>8</td>\n",
       "    </tr>\n",
       "    <tr>\n",
       "      <th>Yes</th>\n",
       "      <td>16</td>\n",
       "      <td>66</td>\n",
       "    </tr>\n",
       "  </tbody>\n",
       "</table>\n",
       "</div>"
      ],
      "text/plain": [
       "     No  Yes\n",
       "No   38    8\n",
       "Yes  16   66"
      ]
     },
     "execution_count": 48,
     "metadata": {},
     "output_type": "execute_result"
    }
   ],
   "source": [
    "threshold = 0.5\n",
    "confusion_matrix(y_test.iloc[:,0],X_test_prob[:,0]>=threshold)\n",
    "cm = pd.DataFrame(confusion_matrix(y_test.iloc[:,0],X_test_prob[:,0]>=threshold).T, index=['No', 'Yes'], columns=['No', 'Yes'])\n",
    "cm"
   ]
  },
  {
   "cell_type": "markdown",
   "id": "f15e4ff4-bf8f-4054-841c-d1250c6cdc46",
   "metadata": {},
   "source": [
    "#### QDA model 80-20 cross-validation"
   ]
  },
  {
   "cell_type": "code",
   "execution_count": 49,
   "id": "a2a46f8a-8082-4bd6-8ca7-ca2affb2b0c1",
   "metadata": {},
   "outputs": [
    {
     "name": "stdout",
     "output_type": "stream",
     "text": [
      "0.8828125\n"
     ]
    }
   ],
   "source": [
    "# from sklearn.discriminant_analysis import QuadraticDiscriminantAnalysis as QDA\n",
    "sklearn_qda = QDA(priors=None,store_covariance=True) #creating a QDA object\n",
    "qda = sklearn_qda.fit(X_train.iloc[:,1:11], y_train.iloc[:,1]) #learning the projection matrix\n",
    "X_labels = qda.predict(X_train.iloc[:,1:11]) #gives you the predicted label for each sample\n",
    "X_prob = qda.predict_proba(X_train.iloc[:,1:11]) #the probability of each sample to belong to each class\n",
    "\n",
    "X_test_labels=qda.predict(X_test.iloc[:,1:11])\n",
    "X_test_prob = qda.predict_proba(X_test.iloc[:,1:11]) \n",
    "\n",
    "print(np.mean(y_test.iloc[:,1]==X_test_labels))"
   ]
  },
  {
   "cell_type": "code",
   "execution_count": 50,
   "id": "2e37ae83-dc02-4afe-8e20-5d0971386be0",
   "metadata": {},
   "outputs": [
    {
     "data": {
      "text/plain": [
       "array([[66,  8],\n",
       "       [ 7, 47]])"
      ]
     },
     "execution_count": 50,
     "metadata": {},
     "output_type": "execute_result"
    }
   ],
   "source": [
    "threshold = 0.5\n",
    "confusion_matrix(y_test.iloc[:,1],X_test_prob[:,1]>=threshold)"
   ]
  },
  {
   "cell_type": "code",
   "execution_count": 51,
   "id": "96dee896-e770-4eb1-94f3-8d58e2cd320c",
   "metadata": {},
   "outputs": [
    {
     "data": {
      "text/html": [
       "<div>\n",
       "<style scoped>\n",
       "    .dataframe tbody tr th:only-of-type {\n",
       "        vertical-align: middle;\n",
       "    }\n",
       "\n",
       "    .dataframe tbody tr th {\n",
       "        vertical-align: top;\n",
       "    }\n",
       "\n",
       "    .dataframe thead th {\n",
       "        text-align: right;\n",
       "    }\n",
       "</style>\n",
       "<table border=\"1\" class=\"dataframe\">\n",
       "  <thead>\n",
       "    <tr style=\"text-align: right;\">\n",
       "      <th></th>\n",
       "      <th>No</th>\n",
       "      <th>Yes</th>\n",
       "    </tr>\n",
       "  </thead>\n",
       "  <tbody>\n",
       "    <tr>\n",
       "      <th>No</th>\n",
       "      <td>47</td>\n",
       "      <td>8</td>\n",
       "    </tr>\n",
       "    <tr>\n",
       "      <th>Yes</th>\n",
       "      <td>7</td>\n",
       "      <td>66</td>\n",
       "    </tr>\n",
       "  </tbody>\n",
       "</table>\n",
       "</div>"
      ],
      "text/plain": [
       "     No  Yes\n",
       "No   47    8\n",
       "Yes   7   66"
      ]
     },
     "execution_count": 51,
     "metadata": {},
     "output_type": "execute_result"
    }
   ],
   "source": [
    "cm = pd.DataFrame(confusion_matrix(y_test.iloc[:,0],X_test_prob[:,0]>=threshold).T, index=['No', 'Yes'], columns=['No', 'Yes'])\n",
    "cm"
   ]
  },
  {
   "cell_type": "markdown",
   "id": "7014bc47-cbc7-4801-8de7-7de49ef4099c",
   "metadata": {},
   "source": [
    "#### Naive Bayes model 80-20 cross-validation"
   ]
  },
  {
   "cell_type": "code",
   "execution_count": 52,
   "id": "66f0104a-1110-44d9-92ea-7ffb6cabfc0b",
   "metadata": {},
   "outputs": [
    {
     "name": "stdout",
     "output_type": "stream",
     "text": [
      "0.734375\n"
     ]
    }
   ],
   "source": [
    "# from sklearn.naive_bayes import GaussianNB as NB\n",
    "NB_class = NB()\n",
    "NB_class.fit(X_train.iloc[:,1:11], y_train.iloc[:,1])\n",
    "X_test_labels=NB_class.predict(X_test.iloc[:,1:11])\n",
    "X_test_prob = NB_class.predict_proba(X_test.iloc[:,1:11]) \n",
    "print(np.mean(y_test.iloc[:,1]==X_test_labels))\n"
   ]
  },
  {
   "cell_type": "code",
   "execution_count": 53,
   "id": "124d9ff9-17ad-4845-9c65-bc7114536924",
   "metadata": {},
   "outputs": [
    {
     "data": {
      "text/plain": [
       "array([[43, 11],\n",
       "       [23, 51]])"
      ]
     },
     "execution_count": 53,
     "metadata": {},
     "output_type": "execute_result"
    }
   ],
   "source": [
    "threshold = 0.5\n",
    "confusion_matrix(y_test.iloc[:,0],X_test_prob[:,0]>=threshold)"
   ]
  },
  {
   "cell_type": "code",
   "execution_count": 54,
   "id": "0a7f0c65-d693-443c-8c0f-071231c0642b",
   "metadata": {},
   "outputs": [
    {
     "data": {
      "text/html": [
       "<div>\n",
       "<style scoped>\n",
       "    .dataframe tbody tr th:only-of-type {\n",
       "        vertical-align: middle;\n",
       "    }\n",
       "\n",
       "    .dataframe tbody tr th {\n",
       "        vertical-align: top;\n",
       "    }\n",
       "\n",
       "    .dataframe thead th {\n",
       "        text-align: right;\n",
       "    }\n",
       "</style>\n",
       "<table border=\"1\" class=\"dataframe\">\n",
       "  <thead>\n",
       "    <tr style=\"text-align: right;\">\n",
       "      <th></th>\n",
       "      <th>No</th>\n",
       "      <th>Yes</th>\n",
       "    </tr>\n",
       "  </thead>\n",
       "  <tbody>\n",
       "    <tr>\n",
       "      <th>No</th>\n",
       "      <td>43</td>\n",
       "      <td>23</td>\n",
       "    </tr>\n",
       "    <tr>\n",
       "      <th>Yes</th>\n",
       "      <td>11</td>\n",
       "      <td>51</td>\n",
       "    </tr>\n",
       "  </tbody>\n",
       "</table>\n",
       "</div>"
      ],
      "text/plain": [
       "     No  Yes\n",
       "No   43   23\n",
       "Yes  11   51"
      ]
     },
     "execution_count": 54,
     "metadata": {},
     "output_type": "execute_result"
    }
   ],
   "source": [
    "cm = pd.DataFrame(confusion_matrix(y_test.iloc[:,0],X_test_prob[:,0]>=threshold).T, index=['No', 'Yes'], columns=['No', 'Yes'])\n",
    "cm"
   ]
  },
  {
   "cell_type": "markdown",
   "id": "c254556a-2184-4fe3-917a-6c8803555dc8",
   "metadata": {},
   "source": [
    "#### KNN model 80-20 cross-validation"
   ]
  },
  {
   "cell_type": "code",
   "execution_count": 55,
   "id": "b630e44e-4caf-471e-8e30-bbb5c2cb9c54",
   "metadata": {},
   "outputs": [
    {
     "name": "stdout",
     "output_type": "stream",
     "text": [
      "0.9296875\n"
     ]
    }
   ],
   "source": [
    "# from sklearn.neighbors import KNeighborsClassifier as KNN\n",
    "neigh = KNN(n_neighbors= 5) # use n_neighbors to change the # of tune the performance of KNN\n",
    "KNN_fit = neigh.fit(X_train.iloc[:,1:11], y_train.iloc[:,1]) #learning the projection matrix\n",
    "X_test_labels=KNN_fit.predict(X_test.iloc[:,1:11])\n",
    "X_test_prob = KNN_fit.predict_proba(X_test.iloc[:,1:11]) \n",
    "print(np.mean(y_test.iloc[:,1]==X_test_labels))\n",
    "\n",
    "#dir(neigh) # use dir command to check what KNN offers"
   ]
  },
  {
   "cell_type": "code",
   "execution_count": 56,
   "id": "12bc3b8c-3011-4f67-bbe9-3509ed792ecc",
   "metadata": {},
   "outputs": [
    {
     "data": {
      "text/plain": [
       "array([[68,  6],\n",
       "       [ 3, 51]])"
      ]
     },
     "execution_count": 56,
     "metadata": {},
     "output_type": "execute_result"
    }
   ],
   "source": [
    "threshold = 0.5\n",
    "confusion_matrix(y_test.iloc[:,1],X_test_prob[:,1]>=threshold)"
   ]
  },
  {
   "cell_type": "code",
   "execution_count": 57,
   "id": "e1f9f7a3-7a5d-468f-b00b-f9fb137336f9",
   "metadata": {},
   "outputs": [
    {
     "data": {
      "text/html": [
       "<div>\n",
       "<style scoped>\n",
       "    .dataframe tbody tr th:only-of-type {\n",
       "        vertical-align: middle;\n",
       "    }\n",
       "\n",
       "    .dataframe tbody tr th {\n",
       "        vertical-align: top;\n",
       "    }\n",
       "\n",
       "    .dataframe thead th {\n",
       "        text-align: right;\n",
       "    }\n",
       "</style>\n",
       "<table border=\"1\" class=\"dataframe\">\n",
       "  <thead>\n",
       "    <tr style=\"text-align: right;\">\n",
       "      <th></th>\n",
       "      <th>No</th>\n",
       "      <th>Yes</th>\n",
       "    </tr>\n",
       "  </thead>\n",
       "  <tbody>\n",
       "    <tr>\n",
       "      <th>No</th>\n",
       "      <td>68</td>\n",
       "      <td>3</td>\n",
       "    </tr>\n",
       "    <tr>\n",
       "      <th>Yes</th>\n",
       "      <td>6</td>\n",
       "      <td>51</td>\n",
       "    </tr>\n",
       "  </tbody>\n",
       "</table>\n",
       "</div>"
      ],
      "text/plain": [
       "     No  Yes\n",
       "No   68    3\n",
       "Yes   6   51"
      ]
     },
     "execution_count": 57,
     "metadata": {},
     "output_type": "execute_result"
    }
   ],
   "source": [
    "cm = pd.DataFrame(confusion_matrix(y_test.iloc[:,1],X_test_prob[:,1]>=threshold).T, index=['No', 'Yes'], columns=['No', 'Yes'])\n",
    "cm"
   ]
  },
  {
   "cell_type": "markdown",
   "id": "caf41ea3-5b42-4194-a9dd-61092356543d",
   "metadata": {},
   "source": [
    "## 10 Fold cross validation results"
   ]
  },
  {
   "cell_type": "markdown",
   "id": "188b7225-d740-415e-bd12-4c78722e3b75",
   "metadata": {},
   "source": [
    "### logit 10 fold cross validation"
   ]
  },
  {
   "cell_type": "code",
   "execution_count": 58,
   "id": "f9e2aa08-a12d-4f6a-88db-5b1d81070b20",
   "metadata": {},
   "outputs": [
    {
     "name": "stdout",
     "output_type": "stream",
     "text": [
      "Average accuracy: 0.8193509615384615\n"
     ]
    }
   ],
   "source": [
    "# Prepare the data\n",
    "y, X = dmatrices('Class~XAVG+YAVG+ZAVG+XPEAK+YPEAK+ZPEAK+XVAR+YVAR+ZVAR+RESULTANT', training_data, return_type='dataframe')\n",
    "y = y.iloc[:, 1].values\n",
    "\n",
    "np.random.seed(0)\n",
    "n_split = 10\n",
    "k_fold = KFold(n_splits=n_split)\n",
    "\n",
    "accuracy_list = []\n",
    "\n",
    "for train_index, test_index in k_fold.split(X):\n",
    "    X_train, X_test = X.iloc[train_index], X.iloc[test_index]\n",
    "    y_train, y_test = y[train_index], y[test_index]\n",
    "\n",
    "    # Train the Logit model\n",
    "    logit = sm.Logit(y_train, X_train)\n",
    "    result = logit.fit(disp=0)\n",
    "\n",
    "    # Predict on the test dataset\n",
    "    preds = result.predict(X_test)\n",
    "    threshold = 0.5\n",
    "    y_pred = (preds > threshold).astype(int)\n",
    "\n",
    "    # Calculate the accuracy\n",
    "    accuracy = np.mean(y_test == y_pred)\n",
    "    accuracy_list.append(accuracy)\n",
    "    # to get average accuracy\n",
    "average_accuracy = np.mean(accuracy_list)\n",
    "print(f\"Average accuracy: {average_accuracy}\")"
   ]
  },
  {
   "cell_type": "markdown",
   "id": "357e017a-572c-46fb-a658-90d3f687e488",
   "metadata": {},
   "source": [
    "### 10-fold cross-validation for LDA"
   ]
  },
  {
   "cell_type": "code",
   "execution_count": 59,
   "id": "1b72e361-6f31-418c-8d6f-d05bbc2b0bc7",
   "metadata": {},
   "outputs": [
    {
     "name": "stdout",
     "output_type": "stream",
     "text": [
      "Average accuracy (LDA): 0.8131009615384615\n"
     ]
    }
   ],
   "source": [
    "lda = LDA()\n",
    "lda_accuracy = cross_val_score(lda, X, y, cv=k_fold, scoring=\"accuracy\")\n",
    "print(f\"Average accuracy (LDA): {np.mean(lda_accuracy)}\")"
   ]
  },
  {
   "cell_type": "markdown",
   "id": "06f6ee44-b9dd-416f-9f25-f91b5c133bc1",
   "metadata": {},
   "source": [
    "### 10-fold cross-validation for QDA"
   ]
  },
  {
   "cell_type": "code",
   "execution_count": 60,
   "id": "5abecb72-446d-4441-9cb9-71eb6c9037b8",
   "metadata": {},
   "outputs": [
    {
     "name": "stdout",
     "output_type": "stream",
     "text": [
      "Average accuracy (QDA): 0.9169388989715669\n"
     ]
    }
   ],
   "source": [
    "X = X_train.iloc[:,1:11]\n",
    "y = y_train\n",
    "\n",
    "sklearn_qda = QDA(priors=None, store_covariance=True)\n",
    "\n",
    "kf = KFold(n_splits=10, shuffle=True, random_state=0)\n",
    "\n",
    "accuracy_list = []\n",
    "\n",
    "for train_index, test_index in kf.split(X):\n",
    "    X_train_cv, X_test_cv = X.iloc[train_index], X.iloc[test_index]\n",
    "    y_train_cv, y_test_cv = y[train_index], y[test_index]\n",
    "\n",
    "    qda = sklearn_qda.fit(X_train_cv, y_train_cv)\n",
    "\n",
    "    X_test_labels = qda.predict(X_test_cv)\n",
    "    X_test_prob = qda.predict_proba(X_test_cv)\n",
    "\n",
    "    accuracy = np.mean(y_test_cv == X_test_labels)\n",
    "    accuracy_list.append(accuracy)\n",
    "\n",
    "qda_accuracy = np.mean(accuracy_list)\n",
    "print(f\"Average accuracy (QDA): {np.mean(qda_accuracy)}\")"
   ]
  },
  {
   "cell_type": "markdown",
   "id": "f72fbd96-9d9e-4495-b764-e3788dea0d6e",
   "metadata": {},
   "source": [
    "### 10-fold cross-validation for Naive Bayes"
   ]
  },
  {
   "cell_type": "code",
   "execution_count": 61,
   "id": "5690ff79-6aaa-4ce5-9a68-b502daa8ce0d",
   "metadata": {},
   "outputs": [
    {
     "name": "stdout",
     "output_type": "stream",
     "text": [
      "Average accuracy (Naive Bayes): 0.7751058681185723\n"
     ]
    }
   ],
   "source": [
    "nb = NB()\n",
    "nb_accuracy = cross_val_score(nb, X, y, cv=k_fold, scoring=\"accuracy\")\n",
    "print(f\"Average accuracy (Naive Bayes): {np.mean(nb_accuracy)}\")"
   ]
  },
  {
   "cell_type": "markdown",
   "id": "2b75b941-6908-4310-b538-8bec50cf991f",
   "metadata": {},
   "source": [
    "### 10-fold cross-validation for KNN"
   ]
  },
  {
   "cell_type": "code",
   "execution_count": 62,
   "id": "5f813b8a-3f73-4932-9bed-56c5af86d428",
   "metadata": {},
   "outputs": [
    {
     "name": "stdout",
     "output_type": "stream",
     "text": [
      "Average accuracy (KNN): 0.9273442226255293\n"
     ]
    }
   ],
   "source": [
    "knn = KNN()\n",
    "knn_accuracy = cross_val_score(knn, X, y, cv=k_fold, scoring=\"accuracy\")\n",
    "print(f\"Average accuracy (KNN): {np.mean(knn_accuracy)}\")"
   ]
  },
  {
   "cell_type": "markdown",
   "id": "9d38c01b-cc62-4fd1-9d48-87544dd80838",
   "metadata": {
    "tags": []
   },
   "source": [
    "## Regularization Methods"
   ]
  },
  {
   "cell_type": "code",
   "execution_count": 63,
   "id": "3446c62e-5fb6-46d0-8e90-efea8d15b5b3",
   "metadata": {},
   "outputs": [],
   "source": [
    "import numpy as np\n",
    "import matplotlib.pyplot as plt\n",
    "import scipy\n",
    "import pandas as pd \n",
    "import math\n",
    "import random\n",
    "import itertools\n",
    "import statsmodels.api as sm\n",
    "import statsmodels.formula.api as smf\n",
    "from statsmodels.graphics.regressionplots import *\n",
    "from sklearn import datasets, linear_model\n",
    "from sklearn.decomposition import PCA \n",
    "from sklearn.cross_decomposition import PLSRegression, PLSSVD\n",
    "from sklearn.preprocessing import StandardScaler, scale \n",
    "from sklearn import linear_model \n",
    "from sklearn.model_selection import cross_val_predict \n",
    "from sklearn.metrics import mean_squared_error, r2_score\n",
    "from sklearn.model_selection import train_test_split\n",
    "from sklearn.linear_model import Ridge, RidgeCV, Lasso, LassoCV\n",
    "max_feature = 11"
   ]
  },
  {
   "cell_type": "code",
   "execution_count": 64,
   "id": "3142896b-2123-48c3-b813-7f09848b6bb2",
   "metadata": {},
   "outputs": [
    {
     "name": "stdout",
     "output_type": "stream",
     "text": [
      "['Class', 'XAVG', 'YAVG', 'ZAVG', 'XPEAK', 'YPEAK', 'ZPEAK', 'XVAR', 'YVAR', 'ZVAR', 'RESULTANT', 'ACTIVITY', 'label']\n",
      "(642, 13)\n"
     ]
    },
    {
     "data": {
      "text/html": [
       "<div>\n",
       "<style scoped>\n",
       "    .dataframe tbody tr th:only-of-type {\n",
       "        vertical-align: middle;\n",
       "    }\n",
       "\n",
       "    .dataframe tbody tr th {\n",
       "        vertical-align: top;\n",
       "    }\n",
       "\n",
       "    .dataframe thead th {\n",
       "        text-align: right;\n",
       "    }\n",
       "</style>\n",
       "<table border=\"1\" class=\"dataframe\">\n",
       "  <thead>\n",
       "    <tr style=\"text-align: right;\">\n",
       "      <th></th>\n",
       "      <th>Class</th>\n",
       "      <th>XAVG</th>\n",
       "      <th>YAVG</th>\n",
       "      <th>ZAVG</th>\n",
       "      <th>XPEAK</th>\n",
       "      <th>YPEAK</th>\n",
       "      <th>ZPEAK</th>\n",
       "      <th>XVAR</th>\n",
       "      <th>YVAR</th>\n",
       "      <th>ZVAR</th>\n",
       "      <th>RESULTANT</th>\n",
       "      <th>ACTIVITY</th>\n",
       "      <th>label</th>\n",
       "    </tr>\n",
       "  </thead>\n",
       "  <tbody>\n",
       "    <tr>\n",
       "      <th>153</th>\n",
       "      <td>Person 1</td>\n",
       "      <td>-5.28946</td>\n",
       "      <td>-1.51346</td>\n",
       "      <td>5.562830</td>\n",
       "      <td>31.1111</td>\n",
       "      <td>31.8644</td>\n",
       "      <td>31.3115</td>\n",
       "      <td>0.399393</td>\n",
       "      <td>0.608256</td>\n",
       "      <td>0.456229</td>\n",
       "      <td>10.01530</td>\n",
       "      <td>I</td>\n",
       "      <td>True</td>\n",
       "    </tr>\n",
       "    <tr>\n",
       "      <th>242</th>\n",
       "      <td>Person 1</td>\n",
       "      <td>9.61315</td>\n",
       "      <td>-3.38037</td>\n",
       "      <td>1.860200</td>\n",
       "      <td>47.0732</td>\n",
       "      <td>47.8947</td>\n",
       "      <td>47.0732</td>\n",
       "      <td>0.514246</td>\n",
       "      <td>0.478662</td>\n",
       "      <td>0.423773</td>\n",
       "      <td>11.22820</td>\n",
       "      <td>M</td>\n",
       "      <td>True</td>\n",
       "    </tr>\n",
       "    <tr>\n",
       "      <th>454</th>\n",
       "      <td>Person 2</td>\n",
       "      <td>3.29881</td>\n",
       "      <td>6.51685</td>\n",
       "      <td>6.470920</td>\n",
       "      <td>35.0000</td>\n",
       "      <td>29.8485</td>\n",
       "      <td>33.3333</td>\n",
       "      <td>0.162849</td>\n",
       "      <td>0.241471</td>\n",
       "      <td>0.218491</td>\n",
       "      <td>9.81234</td>\n",
       "      <td>F</td>\n",
       "      <td>False</td>\n",
       "    </tr>\n",
       "    <tr>\n",
       "      <th>655</th>\n",
       "      <td>Person 2</td>\n",
       "      <td>1.41707</td>\n",
       "      <td>7.90551</td>\n",
       "      <td>0.323367</td>\n",
       "      <td>48.7500</td>\n",
       "      <td>35.2727</td>\n",
       "      <td>34.9091</td>\n",
       "      <td>0.560060</td>\n",
       "      <td>0.423212</td>\n",
       "      <td>0.541532</td>\n",
       "      <td>10.19880</td>\n",
       "      <td>S</td>\n",
       "      <td>False</td>\n",
       "    </tr>\n",
       "    <tr>\n",
       "      <th>531</th>\n",
       "      <td>Person 2</td>\n",
       "      <td>5.29846</td>\n",
       "      <td>6.61931</td>\n",
       "      <td>2.537780</td>\n",
       "      <td>43.0952</td>\n",
       "      <td>35.1786</td>\n",
       "      <td>39.7917</td>\n",
       "      <td>0.436097</td>\n",
       "      <td>0.450649</td>\n",
       "      <td>0.352184</td>\n",
       "      <td>9.83467</td>\n",
       "      <td>K</td>\n",
       "      <td>False</td>\n",
       "    </tr>\n",
       "  </tbody>\n",
       "</table>\n",
       "</div>"
      ],
      "text/plain": [
       "        Class     XAVG     YAVG      ZAVG    XPEAK    YPEAK    ZPEAK  \\\n",
       "153  Person 1 -5.28946 -1.51346  5.562830  31.1111  31.8644  31.3115   \n",
       "242  Person 1  9.61315 -3.38037  1.860200  47.0732  47.8947  47.0732   \n",
       "454  Person 2  3.29881  6.51685  6.470920  35.0000  29.8485  33.3333   \n",
       "655  Person 2  1.41707  7.90551  0.323367  48.7500  35.2727  34.9091   \n",
       "531  Person 2  5.29846  6.61931  2.537780  43.0952  35.1786  39.7917   \n",
       "\n",
       "         XVAR      YVAR      ZVAR  RESULTANT ACTIVITY  label  \n",
       "153  0.399393  0.608256  0.456229   10.01530        I   True  \n",
       "242  0.514246  0.478662  0.423773   11.22820        M   True  \n",
       "454  0.162849  0.241471  0.218491    9.81234        F  False  \n",
       "655  0.560060  0.423212  0.541532   10.19880        S  False  \n",
       "531  0.436097  0.450649  0.352184    9.83467        K  False  "
      ]
     },
     "execution_count": 64,
     "metadata": {},
     "output_type": "execute_result"
    }
   ],
   "source": [
    "# do some feature engineering to prepare for the model training\n",
    "WatchData = pd.read_csv('/home/jovyan/mid_project/NEWmerged.csv', header=0)\n",
    "WatchData['label'] = WatchData['Class'] == \"Person 1\"\n",
    "training_data = WatchData.sample(frac=0.9, random_state=25)\n",
    "print(list(training_data)) # get the header of this data\n",
    "print(training_data.shape) # get the dimension of this \n",
    "training_data.head() # pull a sample of this dataset"
   ]
  },
  {
   "cell_type": "code",
   "execution_count": 65,
   "id": "b3fc5c70-bfbc-44bb-a6fe-b92193a5b501",
   "metadata": {},
   "outputs": [
    {
     "data": {
      "text/html": [
       "<div>\n",
       "<style scoped>\n",
       "    .dataframe tbody tr th:only-of-type {\n",
       "        vertical-align: middle;\n",
       "    }\n",
       "\n",
       "    .dataframe tbody tr th {\n",
       "        vertical-align: top;\n",
       "    }\n",
       "\n",
       "    .dataframe thead th {\n",
       "        text-align: right;\n",
       "    }\n",
       "</style>\n",
       "<table border=\"1\" class=\"dataframe\">\n",
       "  <thead>\n",
       "    <tr style=\"text-align: right;\">\n",
       "      <th></th>\n",
       "      <th>XAVG</th>\n",
       "      <th>YAVG</th>\n",
       "      <th>ZAVG</th>\n",
       "      <th>XPEAK</th>\n",
       "      <th>YPEAK</th>\n",
       "      <th>ZPEAK</th>\n",
       "      <th>XVAR</th>\n",
       "      <th>YVAR</th>\n",
       "      <th>ZVAR</th>\n",
       "      <th>RESULTANT</th>\n",
       "      <th>...</th>\n",
       "      <th>ACTIVITY_I</th>\n",
       "      <th>ACTIVITY_J</th>\n",
       "      <th>ACTIVITY_K</th>\n",
       "      <th>ACTIVITY_L</th>\n",
       "      <th>ACTIVITY_M</th>\n",
       "      <th>ACTIVITY_O</th>\n",
       "      <th>ACTIVITY_P</th>\n",
       "      <th>ACTIVITY_Q</th>\n",
       "      <th>ACTIVITY_R</th>\n",
       "      <th>ACTIVITY_S</th>\n",
       "    </tr>\n",
       "  </thead>\n",
       "  <tbody>\n",
       "    <tr>\n",
       "      <th>153</th>\n",
       "      <td>-5.28946</td>\n",
       "      <td>-1.51346</td>\n",
       "      <td>5.562830</td>\n",
       "      <td>31.1111</td>\n",
       "      <td>31.8644</td>\n",
       "      <td>31.3115</td>\n",
       "      <td>0.399393</td>\n",
       "      <td>0.608256</td>\n",
       "      <td>0.456229</td>\n",
       "      <td>10.01530</td>\n",
       "      <td>...</td>\n",
       "      <td>1</td>\n",
       "      <td>0</td>\n",
       "      <td>0</td>\n",
       "      <td>0</td>\n",
       "      <td>0</td>\n",
       "      <td>0</td>\n",
       "      <td>0</td>\n",
       "      <td>0</td>\n",
       "      <td>0</td>\n",
       "      <td>0</td>\n",
       "    </tr>\n",
       "    <tr>\n",
       "      <th>242</th>\n",
       "      <td>9.61315</td>\n",
       "      <td>-3.38037</td>\n",
       "      <td>1.860200</td>\n",
       "      <td>47.0732</td>\n",
       "      <td>47.8947</td>\n",
       "      <td>47.0732</td>\n",
       "      <td>0.514246</td>\n",
       "      <td>0.478662</td>\n",
       "      <td>0.423773</td>\n",
       "      <td>11.22820</td>\n",
       "      <td>...</td>\n",
       "      <td>0</td>\n",
       "      <td>0</td>\n",
       "      <td>0</td>\n",
       "      <td>0</td>\n",
       "      <td>1</td>\n",
       "      <td>0</td>\n",
       "      <td>0</td>\n",
       "      <td>0</td>\n",
       "      <td>0</td>\n",
       "      <td>0</td>\n",
       "    </tr>\n",
       "    <tr>\n",
       "      <th>454</th>\n",
       "      <td>3.29881</td>\n",
       "      <td>6.51685</td>\n",
       "      <td>6.470920</td>\n",
       "      <td>35.0000</td>\n",
       "      <td>29.8485</td>\n",
       "      <td>33.3333</td>\n",
       "      <td>0.162849</td>\n",
       "      <td>0.241471</td>\n",
       "      <td>0.218491</td>\n",
       "      <td>9.81234</td>\n",
       "      <td>...</td>\n",
       "      <td>0</td>\n",
       "      <td>0</td>\n",
       "      <td>0</td>\n",
       "      <td>0</td>\n",
       "      <td>0</td>\n",
       "      <td>0</td>\n",
       "      <td>0</td>\n",
       "      <td>0</td>\n",
       "      <td>0</td>\n",
       "      <td>0</td>\n",
       "    </tr>\n",
       "    <tr>\n",
       "      <th>655</th>\n",
       "      <td>1.41707</td>\n",
       "      <td>7.90551</td>\n",
       "      <td>0.323367</td>\n",
       "      <td>48.7500</td>\n",
       "      <td>35.2727</td>\n",
       "      <td>34.9091</td>\n",
       "      <td>0.560060</td>\n",
       "      <td>0.423212</td>\n",
       "      <td>0.541532</td>\n",
       "      <td>10.19880</td>\n",
       "      <td>...</td>\n",
       "      <td>0</td>\n",
       "      <td>0</td>\n",
       "      <td>0</td>\n",
       "      <td>0</td>\n",
       "      <td>0</td>\n",
       "      <td>0</td>\n",
       "      <td>0</td>\n",
       "      <td>0</td>\n",
       "      <td>0</td>\n",
       "      <td>1</td>\n",
       "    </tr>\n",
       "    <tr>\n",
       "      <th>531</th>\n",
       "      <td>5.29846</td>\n",
       "      <td>6.61931</td>\n",
       "      <td>2.537780</td>\n",
       "      <td>43.0952</td>\n",
       "      <td>35.1786</td>\n",
       "      <td>39.7917</td>\n",
       "      <td>0.436097</td>\n",
       "      <td>0.450649</td>\n",
       "      <td>0.352184</td>\n",
       "      <td>9.83467</td>\n",
       "      <td>...</td>\n",
       "      <td>0</td>\n",
       "      <td>0</td>\n",
       "      <td>1</td>\n",
       "      <td>0</td>\n",
       "      <td>0</td>\n",
       "      <td>0</td>\n",
       "      <td>0</td>\n",
       "      <td>0</td>\n",
       "      <td>0</td>\n",
       "      <td>0</td>\n",
       "    </tr>\n",
       "  </tbody>\n",
       "</table>\n",
       "<p>5 rows × 28 columns</p>\n",
       "</div>"
      ],
      "text/plain": [
       "        XAVG     YAVG      ZAVG    XPEAK    YPEAK    ZPEAK      XVAR  \\\n",
       "153 -5.28946 -1.51346  5.562830  31.1111  31.8644  31.3115  0.399393   \n",
       "242  9.61315 -3.38037  1.860200  47.0732  47.8947  47.0732  0.514246   \n",
       "454  3.29881  6.51685  6.470920  35.0000  29.8485  33.3333  0.162849   \n",
       "655  1.41707  7.90551  0.323367  48.7500  35.2727  34.9091  0.560060   \n",
       "531  5.29846  6.61931  2.537780  43.0952  35.1786  39.7917  0.436097   \n",
       "\n",
       "         YVAR      ZVAR  RESULTANT  ...  ACTIVITY_I  ACTIVITY_J  ACTIVITY_K  \\\n",
       "153  0.608256  0.456229   10.01530  ...           1           0           0   \n",
       "242  0.478662  0.423773   11.22820  ...           0           0           0   \n",
       "454  0.241471  0.218491    9.81234  ...           0           0           0   \n",
       "655  0.423212  0.541532   10.19880  ...           0           0           0   \n",
       "531  0.450649  0.352184    9.83467  ...           0           0           1   \n",
       "\n",
       "     ACTIVITY_L  ACTIVITY_M  ACTIVITY_O  ACTIVITY_P  ACTIVITY_Q  ACTIVITY_R  \\\n",
       "153           0           0           0           0           0           0   \n",
       "242           0           1           0           0           0           0   \n",
       "454           0           0           0           0           0           0   \n",
       "655           0           0           0           0           0           0   \n",
       "531           0           0           0           0           0           0   \n",
       "\n",
       "     ACTIVITY_S  \n",
       "153           0  \n",
       "242           0  \n",
       "454           0  \n",
       "655           1  \n",
       "531           0  \n",
       "\n",
       "[5 rows x 28 columns]"
      ]
     },
     "execution_count": 65,
     "metadata": {},
     "output_type": "execute_result"
    }
   ],
   "source": [
    "# do some feature engineering to prepare for the model training\n",
    "y = training_data.label\n",
    "#take care of the features, change category into dummy variables, Choose (n-1) dummy variable into the feature set: n is the unique values of each categorical variable.\n",
    "X = pd.get_dummies(training_data, columns=['ACTIVITY']).drop(['Class', 'label'], axis=1)\n",
    "X.head()"
   ]
  },
  {
   "cell_type": "markdown",
   "id": "f8cf2c8b-200d-4a05-a95c-cd529e15e667",
   "metadata": {},
   "source": [
    "### Forward Subset "
   ]
  },
  {
   "cell_type": "code",
   "execution_count": 66,
   "id": "11b94f7b-e216-44a1-b064-8a75bd98c111",
   "metadata": {},
   "outputs": [],
   "source": [
    "'''\n",
    "Since in Python there is no well-defined function for best subset selection, \n",
    "we will need to define some functions ourselves.\n",
    "1. Define a function to run on a subset of feature and extract RSS\n",
    "2. Select the best model (models) for a fix number of features\n",
    "'''\n",
    "def getRSS(y, X, feature_list):\n",
    "    model = sm.OLS(y, X[list(feature_list)]).fit()\n",
    "    RSS = ((model.predict(X[list(feature_list)]) - y) ** 2).sum()\n",
    "    return {'Model':model, \"RSS\":RSS}\n",
    "\n",
    "def bestModel(y, X, K):\n",
    "    results = []\n",
    "    for c in itertools.combinations(X.columns, K):\n",
    "        results.append(getRSS(y, X, c))     \n",
    "    model_all =  pd.DataFrame(results)\n",
    "    \n",
    "    best_model = model_all.loc[model_all[\"RSS\"].idxmin()] ## this could be modified to have the top several models\n",
    "    return best_model"
   ]
  },
  {
   "cell_type": "code",
   "execution_count": 67,
   "id": "682e3eac-9be7-4ccd-b1dc-3bb0564ddc70",
   "metadata": {},
   "outputs": [],
   "source": [
    "# to add 1 feature at a time (start from 0 feature) for forward stepwise selection \n",
    "def forward_select(y, X, feature_list):\n",
    "    remaining_predictors = [p for p in X.columns if p not in feature_list]\n",
    "    results = []\n",
    "    for p in remaining_predictors:\n",
    "        results.append(getRSS(y, X, feature_list+[p]))\n",
    "\n",
    "    models = pd.DataFrame(results)\n",
    "    best_model = models.loc[models['RSS'].idxmin()]\n",
    "    return best_model  "
   ]
  },
  {
   "cell_type": "code",
   "execution_count": 68,
   "id": "116a4b8c-ac6b-4f15-a944-6bc081c8e49c",
   "metadata": {},
   "outputs": [],
   "source": [
    "models2 = pd.DataFrame(columns=[\"RSS\", \"Model\"])\n",
    "feature_list = []\n",
    "for i in range(1,len(X.columns)+1):\n",
    "    models2.loc[i] = forward_select(y, X, feature_list)\n",
    "    feature_list = models2.loc[i][\"Model\"].model.exog_names"
   ]
  },
  {
   "cell_type": "code",
   "execution_count": 69,
   "id": "b75e50cc-abe6-41bc-9185-54f1e122831d",
   "metadata": {},
   "outputs": [
    {
     "name": "stdout",
     "output_type": "stream",
     "text": [
      "Best max_feature variable from forward selection on tranining\n",
      "ZVAR          0.750647\n",
      "YAVG         -0.041991\n",
      "ZAVG          0.027721\n",
      "ACTIVITY_E    0.128342\n",
      "XAVG         -0.016634\n",
      "YPEAK         0.015921\n",
      "ACTIVITY_O   -0.495695\n",
      "ZPEAK        -0.020559\n",
      "ACTIVITY_B   -0.565694\n",
      "ACTIVITY_P   -0.369586\n",
      "RESULTANT     0.041046\n",
      "dtype: float64\n"
     ]
    }
   ],
   "source": [
    "# we can see the result of the forward selection\n",
    "print('Best max_feature variable from forward selection on tranining')\n",
    "print(models2.loc[max_feature, 'Model'].params)"
   ]
  },
  {
   "cell_type": "code",
   "execution_count": 70,
   "id": "3094f240-34a0-4732-8de3-1486c942ffdb",
   "metadata": {},
   "outputs": [
    {
     "data": {
      "image/png": "[encoded data removed]",
      "text/plain": [
       "<Figure size 640x480 with 1 Axes>"
      ]
     },
     "metadata": {},
     "output_type": "display_data"
    }
   ],
   "source": [
    "# this show an example to plot the RSS of best models with different number of parameters\n",
    "plt.figure()\n",
    "plt.plot(models2[\"RSS\"])\n",
    "plt.xlabel('# features')\n",
    "plt.ylabel('RSS')\n",
    "plt.show()"
   ]
  },
  {
   "cell_type": "markdown",
   "id": "b2c12fdc-d197-450c-962d-411a7a1df7cc",
   "metadata": {},
   "source": [
    "### Ridge"
   ]
  },
  {
   "cell_type": "code",
   "execution_count": 71,
   "id": "eaebd6a6-8da3-4146-9d4e-67c0b9129802",
   "metadata": {},
   "outputs": [],
   "source": [
    "# do some feature engineering to prepare for the model training\n",
    "y = training_data.label\n",
    "#take care of the features, change category into dummy variables, Choose (n-1) dummy variable into the feature set: n is the unique values of each categorical variable.\n",
    "dummies = pd.get_dummies(training_data[['ACTIVITY']])\n",
    "\n",
    "X_prep = training_data.drop (['ACTIVITY', 'Class', 'label'], axis = 1).astype('float64')\n",
    "X = pd.concat([X_prep,  dummies[['ACTIVITY_A','ACTIVITY_B','ACTIVITY_C','ACTIVITY_D','ACTIVITY_E','ACTIVITY_F','ACTIVITY_G',\n",
    "                                 'ACTIVITY_H','ACTIVITY_I','ACTIVITY_J','ACTIVITY_K','ACTIVITY_L','ACTIVITY_M','ACTIVITY_O','ACTIVITY_P','ACTIVITY_Q','ACTIVITY_R','ACTIVITY_S']]], axis=1)"
   ]
  },
  {
   "cell_type": "code",
   "execution_count": 72,
   "id": "15f2ea84-e457-45a0-9caf-b0cf0cd26fe8",
   "metadata": {},
   "outputs": [
    {
     "name": "stdout",
     "output_type": "stream",
     "text": [
      "[1.00000000e+10 7.56463328e+09 5.72236766e+09 4.32876128e+09\n",
      " 3.27454916e+09 2.47707636e+09 1.87381742e+09 1.41747416e+09\n",
      " 1.07226722e+09 8.11130831e+08 6.13590727e+08 4.64158883e+08\n",
      " 3.51119173e+08 2.65608778e+08 2.00923300e+08 1.51991108e+08\n",
      " 1.14975700e+08 8.69749003e+07 6.57933225e+07 4.97702356e+07\n",
      " 3.76493581e+07 2.84803587e+07 2.15443469e+07 1.62975083e+07\n",
      " 1.23284674e+07 9.32603347e+06 7.05480231e+06 5.33669923e+06\n",
      " 4.03701726e+06 3.05385551e+06 2.31012970e+06 1.74752840e+06\n",
      " 1.32194115e+06 1.00000000e+06 7.56463328e+05 5.72236766e+05\n",
      " 4.32876128e+05 3.27454916e+05 2.47707636e+05 1.87381742e+05\n",
      " 1.41747416e+05 1.07226722e+05 8.11130831e+04 6.13590727e+04\n",
      " 4.64158883e+04 3.51119173e+04 2.65608778e+04 2.00923300e+04\n",
      " 1.51991108e+04 1.14975700e+04 8.69749003e+03 6.57933225e+03\n",
      " 4.97702356e+03 3.76493581e+03 2.84803587e+03 2.15443469e+03\n",
      " 1.62975083e+03 1.23284674e+03 9.32603347e+02 7.05480231e+02\n",
      " 5.33669923e+02 4.03701726e+02 3.05385551e+02 2.31012970e+02\n",
      " 1.74752840e+02 1.32194115e+02 1.00000000e+02 7.56463328e+01\n",
      " 5.72236766e+01 4.32876128e+01 3.27454916e+01 2.47707636e+01\n",
      " 1.87381742e+01 1.41747416e+01 1.07226722e+01 8.11130831e+00\n",
      " 6.13590727e+00 4.64158883e+00 3.51119173e+00 2.65608778e+00\n",
      " 2.00923300e+00 1.51991108e+00 1.14975700e+00 8.69749003e-01\n",
      " 6.57933225e-01 4.97702356e-01 3.76493581e-01 2.84803587e-01\n",
      " 2.15443469e-01 1.62975083e-01 1.23284674e-01 9.32603347e-02\n",
      " 7.05480231e-02 5.33669923e-02 4.03701726e-02 3.05385551e-02\n",
      " 2.31012970e-02 1.74752840e-02 1.32194115e-02 1.00000000e-02]\n"
     ]
    },
    {
     "data": {
      "text/html": [
       "<div>\n",
       "<style scoped>\n",
       "    .dataframe tbody tr th:only-of-type {\n",
       "        vertical-align: middle;\n",
       "    }\n",
       "\n",
       "    .dataframe tbody tr th {\n",
       "        vertical-align: top;\n",
       "    }\n",
       "\n",
       "    .dataframe thead th {\n",
       "        text-align: right;\n",
       "    }\n",
       "</style>\n",
       "<table border=\"1\" class=\"dataframe\">\n",
       "  <thead>\n",
       "    <tr style=\"text-align: right;\">\n",
       "      <th></th>\n",
       "      <th>XAVG</th>\n",
       "      <th>YAVG</th>\n",
       "      <th>ZAVG</th>\n",
       "      <th>XPEAK</th>\n",
       "      <th>YPEAK</th>\n",
       "      <th>ZPEAK</th>\n",
       "      <th>XVAR</th>\n",
       "      <th>YVAR</th>\n",
       "      <th>ZVAR</th>\n",
       "      <th>RESULTANT</th>\n",
       "      <th>...</th>\n",
       "      <th>ACTIVITY_I</th>\n",
       "      <th>ACTIVITY_J</th>\n",
       "      <th>ACTIVITY_K</th>\n",
       "      <th>ACTIVITY_L</th>\n",
       "      <th>ACTIVITY_M</th>\n",
       "      <th>ACTIVITY_O</th>\n",
       "      <th>ACTIVITY_P</th>\n",
       "      <th>ACTIVITY_Q</th>\n",
       "      <th>ACTIVITY_R</th>\n",
       "      <th>ACTIVITY_S</th>\n",
       "    </tr>\n",
       "  </thead>\n",
       "  <tbody>\n",
       "    <tr>\n",
       "      <th>153</th>\n",
       "      <td>-5.289460</td>\n",
       "      <td>-1.51346</td>\n",
       "      <td>5.562830</td>\n",
       "      <td>31.1111</td>\n",
       "      <td>31.8644</td>\n",
       "      <td>31.3115</td>\n",
       "      <td>0.399393</td>\n",
       "      <td>0.608256</td>\n",
       "      <td>0.456229</td>\n",
       "      <td>10.01530</td>\n",
       "      <td>...</td>\n",
       "      <td>1</td>\n",
       "      <td>0</td>\n",
       "      <td>0</td>\n",
       "      <td>0</td>\n",
       "      <td>0</td>\n",
       "      <td>0</td>\n",
       "      <td>0</td>\n",
       "      <td>0</td>\n",
       "      <td>0</td>\n",
       "      <td>0</td>\n",
       "    </tr>\n",
       "    <tr>\n",
       "      <th>242</th>\n",
       "      <td>9.613150</td>\n",
       "      <td>-3.38037</td>\n",
       "      <td>1.860200</td>\n",
       "      <td>47.0732</td>\n",
       "      <td>47.8947</td>\n",
       "      <td>47.0732</td>\n",
       "      <td>0.514246</td>\n",
       "      <td>0.478662</td>\n",
       "      <td>0.423773</td>\n",
       "      <td>11.22820</td>\n",
       "      <td>...</td>\n",
       "      <td>0</td>\n",
       "      <td>0</td>\n",
       "      <td>0</td>\n",
       "      <td>0</td>\n",
       "      <td>1</td>\n",
       "      <td>0</td>\n",
       "      <td>0</td>\n",
       "      <td>0</td>\n",
       "      <td>0</td>\n",
       "      <td>0</td>\n",
       "    </tr>\n",
       "    <tr>\n",
       "      <th>454</th>\n",
       "      <td>3.298810</td>\n",
       "      <td>6.51685</td>\n",
       "      <td>6.470920</td>\n",
       "      <td>35.0000</td>\n",
       "      <td>29.8485</td>\n",
       "      <td>33.3333</td>\n",
       "      <td>0.162849</td>\n",
       "      <td>0.241471</td>\n",
       "      <td>0.218491</td>\n",
       "      <td>9.81234</td>\n",
       "      <td>...</td>\n",
       "      <td>0</td>\n",
       "      <td>0</td>\n",
       "      <td>0</td>\n",
       "      <td>0</td>\n",
       "      <td>0</td>\n",
       "      <td>0</td>\n",
       "      <td>0</td>\n",
       "      <td>0</td>\n",
       "      <td>0</td>\n",
       "      <td>0</td>\n",
       "    </tr>\n",
       "    <tr>\n",
       "      <th>655</th>\n",
       "      <td>1.417070</td>\n",
       "      <td>7.90551</td>\n",
       "      <td>0.323367</td>\n",
       "      <td>48.7500</td>\n",
       "      <td>35.2727</td>\n",
       "      <td>34.9091</td>\n",
       "      <td>0.560060</td>\n",
       "      <td>0.423212</td>\n",
       "      <td>0.541532</td>\n",
       "      <td>10.19880</td>\n",
       "      <td>...</td>\n",
       "      <td>0</td>\n",
       "      <td>0</td>\n",
       "      <td>0</td>\n",
       "      <td>0</td>\n",
       "      <td>0</td>\n",
       "      <td>0</td>\n",
       "      <td>0</td>\n",
       "      <td>0</td>\n",
       "      <td>0</td>\n",
       "      <td>1</td>\n",
       "    </tr>\n",
       "    <tr>\n",
       "      <th>531</th>\n",
       "      <td>5.298460</td>\n",
       "      <td>6.61931</td>\n",
       "      <td>2.537780</td>\n",
       "      <td>43.0952</td>\n",
       "      <td>35.1786</td>\n",
       "      <td>39.7917</td>\n",
       "      <td>0.436097</td>\n",
       "      <td>0.450649</td>\n",
       "      <td>0.352184</td>\n",
       "      <td>9.83467</td>\n",
       "      <td>...</td>\n",
       "      <td>0</td>\n",
       "      <td>0</td>\n",
       "      <td>1</td>\n",
       "      <td>0</td>\n",
       "      <td>0</td>\n",
       "      <td>0</td>\n",
       "      <td>0</td>\n",
       "      <td>0</td>\n",
       "      <td>0</td>\n",
       "      <td>0</td>\n",
       "    </tr>\n",
       "    <tr>\n",
       "      <th>...</th>\n",
       "      <td>...</td>\n",
       "      <td>...</td>\n",
       "      <td>...</td>\n",
       "      <td>...</td>\n",
       "      <td>...</td>\n",
       "      <td>...</td>\n",
       "      <td>...</td>\n",
       "      <td>...</td>\n",
       "      <td>...</td>\n",
       "      <td>...</td>\n",
       "      <td>...</td>\n",
       "      <td>...</td>\n",
       "      <td>...</td>\n",
       "      <td>...</td>\n",
       "      <td>...</td>\n",
       "      <td>...</td>\n",
       "      <td>...</td>\n",
       "      <td>...</td>\n",
       "      <td>...</td>\n",
       "      <td>...</td>\n",
       "      <td>...</td>\n",
       "    </tr>\n",
       "    <tr>\n",
       "      <th>517</th>\n",
       "      <td>5.740050</td>\n",
       "      <td>7.56083</td>\n",
       "      <td>0.326898</td>\n",
       "      <td>39.5833</td>\n",
       "      <td>36.8627</td>\n",
       "      <td>40.6250</td>\n",
       "      <td>0.318549</td>\n",
       "      <td>0.333552</td>\n",
       "      <td>0.351524</td>\n",
       "      <td>9.85906</td>\n",
       "      <td>...</td>\n",
       "      <td>0</td>\n",
       "      <td>1</td>\n",
       "      <td>0</td>\n",
       "      <td>0</td>\n",
       "      <td>0</td>\n",
       "      <td>0</td>\n",
       "      <td>0</td>\n",
       "      <td>0</td>\n",
       "      <td>0</td>\n",
       "      <td>0</td>\n",
       "    </tr>\n",
       "    <tr>\n",
       "      <th>685</th>\n",
       "      <td>-8.870200</td>\n",
       "      <td>-3.34848</td>\n",
       "      <td>0.975901</td>\n",
       "      <td>41.3043</td>\n",
       "      <td>34.2105</td>\n",
       "      <td>43.5556</td>\n",
       "      <td>0.211943</td>\n",
       "      <td>0.298638</td>\n",
       "      <td>0.387309</td>\n",
       "      <td>9.85571</td>\n",
       "      <td>...</td>\n",
       "      <td>0</td>\n",
       "      <td>0</td>\n",
       "      <td>0</td>\n",
       "      <td>0</td>\n",
       "      <td>0</td>\n",
       "      <td>0</td>\n",
       "      <td>0</td>\n",
       "      <td>0</td>\n",
       "      <td>0</td>\n",
       "      <td>1</td>\n",
       "    </tr>\n",
       "    <tr>\n",
       "      <th>79</th>\n",
       "      <td>5.069220</td>\n",
       "      <td>1.67523</td>\n",
       "      <td>-8.225230</td>\n",
       "      <td>32.8333</td>\n",
       "      <td>32.7119</td>\n",
       "      <td>27.9412</td>\n",
       "      <td>0.080105</td>\n",
       "      <td>0.107664</td>\n",
       "      <td>0.082907</td>\n",
       "      <td>9.80808</td>\n",
       "      <td>...</td>\n",
       "      <td>0</td>\n",
       "      <td>0</td>\n",
       "      <td>0</td>\n",
       "      <td>0</td>\n",
       "      <td>0</td>\n",
       "      <td>0</td>\n",
       "      <td>0</td>\n",
       "      <td>0</td>\n",
       "      <td>0</td>\n",
       "      <td>0</td>\n",
       "    </tr>\n",
       "    <tr>\n",
       "      <th>451</th>\n",
       "      <td>3.362970</td>\n",
       "      <td>7.10657</td>\n",
       "      <td>5.778170</td>\n",
       "      <td>37.4510</td>\n",
       "      <td>34.0351</td>\n",
       "      <td>38.3673</td>\n",
       "      <td>0.147915</td>\n",
       "      <td>0.192259</td>\n",
       "      <td>0.206871</td>\n",
       "      <td>9.79058</td>\n",
       "      <td>...</td>\n",
       "      <td>0</td>\n",
       "      <td>0</td>\n",
       "      <td>0</td>\n",
       "      <td>0</td>\n",
       "      <td>0</td>\n",
       "      <td>0</td>\n",
       "      <td>0</td>\n",
       "      <td>0</td>\n",
       "      <td>0</td>\n",
       "      <td>0</td>\n",
       "    </tr>\n",
       "    <tr>\n",
       "      <th>251</th>\n",
       "      <td>0.442784</td>\n",
       "      <td>-4.17056</td>\n",
       "      <td>2.124220</td>\n",
       "      <td>45.5556</td>\n",
       "      <td>39.2000</td>\n",
       "      <td>37.8431</td>\n",
       "      <td>0.835155</td>\n",
       "      <td>0.798051</td>\n",
       "      <td>0.703256</td>\n",
       "      <td>14.12810</td>\n",
       "      <td>...</td>\n",
       "      <td>0</td>\n",
       "      <td>0</td>\n",
       "      <td>0</td>\n",
       "      <td>0</td>\n",
       "      <td>0</td>\n",
       "      <td>1</td>\n",
       "      <td>0</td>\n",
       "      <td>0</td>\n",
       "      <td>0</td>\n",
       "      <td>0</td>\n",
       "    </tr>\n",
       "  </tbody>\n",
       "</table>\n",
       "<p>642 rows × 28 columns</p>\n",
       "</div>"
      ],
      "text/plain": [
       "         XAVG     YAVG      ZAVG    XPEAK    YPEAK    ZPEAK      XVAR  \\\n",
       "153 -5.289460 -1.51346  5.562830  31.1111  31.8644  31.3115  0.399393   \n",
       "242  9.613150 -3.38037  1.860200  47.0732  47.8947  47.0732  0.514246   \n",
       "454  3.298810  6.51685  6.470920  35.0000  29.8485  33.3333  0.162849   \n",
       "655  1.417070  7.90551  0.323367  48.7500  35.2727  34.9091  0.560060   \n",
       "531  5.298460  6.61931  2.537780  43.0952  35.1786  39.7917  0.436097   \n",
       "..        ...      ...       ...      ...      ...      ...       ...   \n",
       "517  5.740050  7.56083  0.326898  39.5833  36.8627  40.6250  0.318549   \n",
       "685 -8.870200 -3.34848  0.975901  41.3043  34.2105  43.5556  0.211943   \n",
       "79   5.069220  1.67523 -8.225230  32.8333  32.7119  27.9412  0.080105   \n",
       "451  3.362970  7.10657  5.778170  37.4510  34.0351  38.3673  0.147915   \n",
       "251  0.442784 -4.17056  2.124220  45.5556  39.2000  37.8431  0.835155   \n",
       "\n",
       "         YVAR      ZVAR  RESULTANT  ...  ACTIVITY_I  ACTIVITY_J  ACTIVITY_K  \\\n",
       "153  0.608256  0.456229   10.01530  ...           1           0           0   \n",
       "242  0.478662  0.423773   11.22820  ...           0           0           0   \n",
       "454  0.241471  0.218491    9.81234  ...           0           0           0   \n",
       "655  0.423212  0.541532   10.19880  ...           0           0           0   \n",
       "531  0.450649  0.352184    9.83467  ...           0           0           1   \n",
       "..        ...       ...        ...  ...         ...         ...         ...   \n",
       "517  0.333552  0.351524    9.85906  ...           0           1           0   \n",
       "685  0.298638  0.387309    9.85571  ...           0           0           0   \n",
       "79   0.107664  0.082907    9.80808  ...           0           0           0   \n",
       "451  0.192259  0.206871    9.79058  ...           0           0           0   \n",
       "251  0.798051  0.703256   14.12810  ...           0           0           0   \n",
       "\n",
       "     ACTIVITY_L  ACTIVITY_M  ACTIVITY_O  ACTIVITY_P  ACTIVITY_Q  ACTIVITY_R  \\\n",
       "153           0           0           0           0           0           0   \n",
       "242           0           1           0           0           0           0   \n",
       "454           0           0           0           0           0           0   \n",
       "655           0           0           0           0           0           0   \n",
       "531           0           0           0           0           0           0   \n",
       "..          ...         ...         ...         ...         ...         ...   \n",
       "517           0           0           0           0           0           0   \n",
       "685           0           0           0           0           0           0   \n",
       "79            0           0           0           0           0           0   \n",
       "451           0           0           0           0           0           0   \n",
       "251           0           0           1           0           0           0   \n",
       "\n",
       "     ACTIVITY_S  \n",
       "153           0  \n",
       "242           0  \n",
       "454           0  \n",
       "655           1  \n",
       "531           0  \n",
       "..          ...  \n",
       "517           0  \n",
       "685           1  \n",
       "79            0  \n",
       "451           0  \n",
       "251           0  \n",
       "\n",
       "[642 rows x 28 columns]"
      ]
     },
     "execution_count": 72,
     "metadata": {},
     "output_type": "execute_result"
    }
   ],
   "source": [
    "# next, we will generate a few canadidates regularization strength(in sklearn, the keyword is alphas) \n",
    "alphas = 10**np.linspace(10,-2,100)\n",
    "print(alphas)\n",
    "X"
   ]
  },
  {
   "cell_type": "code",
   "execution_count": 73,
   "id": "34d78eb4-4dea-4c7b-81d2-f1afe6bfc694",
   "metadata": {},
   "outputs": [],
   "source": [
    "# associated with each value of alpha is a vector of ridge regression coefficients, \n",
    "# stored in a matrix that can be accessed by coeffs. In this case, it is a 29×100, \n",
    "# 29 is the dimension of the features + (intercept needs to call separately) and 100 \n",
    "# is the len of the alphas. The result is a numpy series with len 100 and len(coffes[0]) is 29. \n",
    "# In this specific implementation, the default is no intercept. \n",
    "# here I used list to store them, we could also use dictionary to store them as we did before.\n",
    "ridge = Ridge(fit_intercept=True)\n",
    "coeffs = []\n",
    "intercepts = []\n",
    "\n",
    "for a in alphas:\n",
    "    ridge.set_params(alpha=a)\n",
    "    ridge.fit(X, y)\n",
    "    coeffs.append(ridge.coef_)\n",
    "    intercepts.append(ridge.intercept_)"
   ]
  },
  {
   "cell_type": "code",
   "execution_count": 74,
   "id": "9c36fc3a-8543-4690-84fb-6d6e2cc93ca2",
   "metadata": {},
   "outputs": [
    {
     "name": "stdout",
     "output_type": "stream",
     "text": [
      "100\n",
      "28\n",
      "100\n",
      "0.5249221153007476\n"
     ]
    }
   ],
   "source": [
    "print(len(coeffs))\n",
    "print(len(coeffs[0]))\n",
    "print(len(intercepts))\n",
    "print(intercepts[0])"
   ]
  },
  {
   "cell_type": "code",
   "execution_count": 75,
   "id": "2c28a244-476a-4d97-82c8-b08a1e4e9d0a",
   "metadata": {},
   "outputs": [
    {
     "data": {
      "image/png": "[encoded data removed]",
      "text/plain": [
       "<Figure size 640x480 with 1 Axes>"
      ]
     },
     "metadata": {},
     "output_type": "display_data"
    }
   ],
   "source": [
    "# as design, as alphas get bigger, magnitude of coefficients turn to be closer to zero. \n",
    "# one thing to remember is that the decay is quite smooth\n",
    "ax = plt.gca()\n",
    "ax.plot(alphas, coeffs)\n",
    "\"\"\"\n",
    "Typically, we scale the alpha in log scale.\n",
    "Try to plot it without. \n",
    "\"\"\"\n",
    "ax.set_xscale('log') \n",
    "plt.axis('tight')\n",
    "plt.xlabel('alpha')\n",
    "plt.ylabel('weights')\n",
    "plt.show()"
   ]
  },
  {
   "cell_type": "code",
   "execution_count": 76,
   "id": "6248e8e1-2ac3-4b7c-8a51-0b931377620f",
   "metadata": {},
   "outputs": [],
   "source": [
    "# we now split the samples into a training set and a test set in order to estimate \n",
    "# the test error of ridge regression and the lasso. \n",
    "# Python provides a built-in function to produce training and test data set.\n",
    "X_train, X_test , y_train, y_test = train_test_split(X, y, test_size=0.66)"
   ]
  },
  {
   "cell_type": "code",
   "execution_count": 77,
   "id": "60277aef-bd8f-4d17-bd91-6ac363fbfd11",
   "metadata": {},
   "outputs": [
    {
     "name": "stdout",
     "output_type": "stream",
     "text": [
      "XAVG         -0.019527\n",
      "YAVG         -0.045665\n",
      "ZAVG          0.016095\n",
      "XPEAK         0.004976\n",
      "YPEAK         0.009980\n",
      "ZPEAK        -0.021926\n",
      "XVAR          0.011932\n",
      "YVAR          0.035412\n",
      "ZVAR          0.249138\n",
      "RESULTANT     0.036508\n",
      "ACTIVITY_A    0.040893\n",
      "ACTIVITY_B   -0.380561\n",
      "ACTIVITY_C   -0.136014\n",
      "ACTIVITY_D    0.292538\n",
      "ACTIVITY_E    0.069260\n",
      "ACTIVITY_F    0.031721\n",
      "ACTIVITY_G    0.073394\n",
      "ACTIVITY_H    0.106666\n",
      "ACTIVITY_I    0.039020\n",
      "ACTIVITY_J    0.075738\n",
      "ACTIVITY_K   -0.084125\n",
      "ACTIVITY_L    0.011715\n",
      "ACTIVITY_M    0.062711\n",
      "ACTIVITY_O   -0.265480\n",
      "ACTIVITY_P   -0.065661\n",
      "ACTIVITY_Q   -0.014714\n",
      "ACTIVITY_R    0.078124\n",
      "ACTIVITY_S    0.064774\n",
      "dtype: float64\n",
      "0.13315029429584355\n"
     ]
    }
   ],
   "source": [
    "# train the model and do prediction on test dataset\n",
    "ridge = Ridge(fit_intercept=True, alpha=4)\n",
    "ridge.fit(X_train, y_train)             # Fit a ridge regression on the training data\n",
    "pred = ridge.predict(X_test)           # Use this model to predict the test data\n",
    "print(pd.Series(ridge.coef_, index=X.columns)) # Print coefficients\n",
    "print(mean_squared_error(y_test, pred))        # Calculate the test MSE"
   ]
  },
  {
   "cell_type": "code",
   "execution_count": 78,
   "id": "934e8cfc-e8d3-4654-9dc4-f339ee9ba950",
   "metadata": {},
   "outputs": [
    {
     "data": {
      "text/plain": [
       "0.49770235643321137"
      ]
     },
     "execution_count": 78,
     "metadata": {},
     "output_type": "execute_result"
    }
   ],
   "source": [
    "# to select best alpha, we will use cross validation. \n",
    "# as standard, we will report test set performance as the final performance metric\n",
    "ridgecv =  RidgeCV(alphas, scoring='neg_mean_squared_error')\n",
    "ridgecv.fit(X_train, y_train)\n",
    "ridgecv.alpha_"
   ]
  },
  {
   "cell_type": "code",
   "execution_count": 79,
   "id": "33a07372-ee06-45e2-979c-93129b52a62f",
   "metadata": {},
   "outputs": [
    {
     "data": {
      "text/plain": [
       "0.13010738708161076"
      ]
     },
     "execution_count": 79,
     "metadata": {},
     "output_type": "execute_result"
    }
   ],
   "source": [
    "# produce the mean squred error of the selected alpha on test dataset\n",
    "ridge_best = Ridge(alpha=ridgecv.alpha_)\n",
    "ridge_best.fit(X_train, y_train)\n",
    "mean_squared_error(y_test, ridge_best.predict(X_test))"
   ]
  },
  {
   "cell_type": "code",
   "execution_count": 80,
   "id": "71362889-f144-4a21-9ba5-ef0899faca93",
   "metadata": {},
   "outputs": [
    {
     "data": {
      "text/plain": [
       "XAVG         -0.017405\n",
       "YAVG         -0.048042\n",
       "ZAVG          0.018680\n",
       "XPEAK         0.006292\n",
       "YPEAK         0.011151\n",
       "ZPEAK        -0.023784\n",
       "XVAR         -0.059453\n",
       "YVAR          0.007655\n",
       "ZVAR          0.871327\n",
       "RESULTANT     0.048052\n",
       "ACTIVITY_A    0.042290\n",
       "ACTIVITY_B   -0.567372\n",
       "ACTIVITY_C   -0.199049\n",
       "ACTIVITY_D    0.494565\n",
       "ACTIVITY_E    0.211898\n",
       "ACTIVITY_F    0.136312\n",
       "ACTIVITY_G    0.121297\n",
       "ACTIVITY_H    0.160282\n",
       "ACTIVITY_I    0.114931\n",
       "ACTIVITY_J    0.096343\n",
       "ACTIVITY_K   -0.067535\n",
       "ACTIVITY_L    0.058152\n",
       "ACTIVITY_M    0.091991\n",
       "ACTIVITY_O   -0.505320\n",
       "ACTIVITY_P   -0.344213\n",
       "ACTIVITY_Q    0.084822\n",
       "ACTIVITY_R    0.049615\n",
       "ACTIVITY_S    0.020989\n",
       "dtype: float64"
      ]
     },
     "execution_count": 80,
     "metadata": {},
     "output_type": "execute_result"
    }
   ],
   "source": [
    "# we can exame the values of the coefficients \n",
    "\"\"\"\n",
    "If we exam the values of the coefficients, most of them are tiny, but none of them is zero.\n",
    "This is a diff between ridge and lasso. Ridge shrinks the coefficients proportionally.\n",
    "\"\"\"\n",
    "pd.Series(ridge_best.coef_, index=X.columns)"
   ]
  },
  {
   "cell_type": "markdown",
   "id": "e850c221-3faf-4a34-a769-c82261d82b46",
   "metadata": {},
   "source": [
    "### Lasso"
   ]
  },
  {
   "cell_type": "code",
   "execution_count": 81,
   "id": "071481b6-1e7d-4f0f-a41c-6d3596832ab5",
   "metadata": {},
   "outputs": [
    {
     "data": {
      "image/png": "[encoded data removed]",
      "text/plain": [
       "<Figure size 640x480 with 1 Axes>"
      ]
     },
     "metadata": {},
     "output_type": "display_data"
    },
    {
     "data": {
      "text/plain": [
       "0.13155051790699254"
      ]
     },
     "execution_count": 81,
     "metadata": {},
     "output_type": "execute_result"
    }
   ],
   "source": [
    "# same precedure as before, we will use cross validation to select the best alpha\n",
    "lasso= Lasso( max_iter=100000) \n",
    "coeffs = []\n",
    "\n",
    "for a in alphas:\n",
    "    lasso.set_params(alpha=a)\n",
    "    lasso.fit(X_train, y_train)\n",
    "    coeffs.append(lasso.coef_)\n",
    "    \n",
    "ax = plt.gca()\n",
    "ax.plot(alphas, coeffs)\n",
    "ax.set_xscale('log')\n",
    "plt.axis('tight')\n",
    "plt.xlabel('alpha')\n",
    "plt.ylabel('weights')\n",
    "plt.show()\n",
    "\n",
    "lassocv = LassoCV(alphas=None, cv=10, max_iter=100000)\n",
    "lassocv.fit(X_train, y_train)\n",
    "\n",
    "lasso.set_params(alpha=lassocv.alpha_)\n",
    "lasso.fit(X_train, y_train)\n",
    "mean_squared_error(y_test, lasso.predict(X_test))"
   ]
  },
  {
   "cell_type": "code",
   "execution_count": 82,
   "id": "51a1a1aa-0b32-478b-833a-021988719bdb",
   "metadata": {},
   "outputs": [
    {
     "data": {
      "text/plain": [
       "XAVG         -0.018085\n",
       "YAVG         -0.046717\n",
       "ZAVG          0.016870\n",
       "XPEAK         0.005305\n",
       "YPEAK         0.011243\n",
       "ZPEAK        -0.022948\n",
       "XVAR         -0.000000\n",
       "YVAR         -0.000000\n",
       "ZVAR          0.709856\n",
       "RESULTANT     0.034127\n",
       "ACTIVITY_A   -0.000000\n",
       "ACTIVITY_B   -0.571464\n",
       "ACTIVITY_C   -0.223963\n",
       "ACTIVITY_D    0.380505\n",
       "ACTIVITY_E    0.078756\n",
       "ACTIVITY_F    0.023981\n",
       "ACTIVITY_G    0.023204\n",
       "ACTIVITY_H    0.035762\n",
       "ACTIVITY_I    0.000000\n",
       "ACTIVITY_J    0.000000\n",
       "ACTIVITY_K   -0.122538\n",
       "ACTIVITY_L   -0.000000\n",
       "ACTIVITY_M    0.000000\n",
       "ACTIVITY_O   -0.494330\n",
       "ACTIVITY_P   -0.271413\n",
       "ACTIVITY_Q   -0.000000\n",
       "ACTIVITY_R   -0.000000\n",
       "ACTIVITY_S   -0.000000\n",
       "dtype: float64"
      ]
     },
     "execution_count": 82,
     "metadata": {},
     "output_type": "execute_result"
    }
   ],
   "source": [
    "# some of the coefficients should reduce to exact zero\n",
    "pd.Series(lasso.coef_, index=X.columns)"
   ]
  },
  {
   "cell_type": "markdown",
   "id": "06a285d9-f073-429f-ad34-518ee7d0b554",
   "metadata": {
    "tags": []
   },
   "source": [
    "## Bootstrap"
   ]
  },
  {
   "cell_type": "code",
   "execution_count": 83,
   "id": "e4ba416d-2f91-4a95-bf15-d4d843a8a475",
   "metadata": {},
   "outputs": [],
   "source": [
    "import numpy as np\n",
    "import matplotlib.pyplot as plt\n",
    "import scipy\n",
    "import pandas as pd \n",
    "import math\n",
    "import random\n",
    "import statsmodels.api as sm\n",
    "import statsmodels.formula.api as smf\n",
    "from statsmodels.graphics.regressionplots import *\n",
    "from sklearn import datasets, linear_model\n",
    "from sklearn.model_selection import KFold, cross_val_score\n",
    "from sklearn.preprocessing import PolynomialFeatures\n",
    "from sklearn.linear_model import LinearRegression\n",
    "from sklearn.pipeline import Pipeline\n",
    "from collections import OrderedDict\n",
    "import sklearn.linear_model as lm"
   ]
  },
  {
   "cell_type": "code",
   "execution_count": 84,
   "id": "2b5e3584-683f-455d-8d8b-46fbb0f45734",
   "metadata": {},
   "outputs": [],
   "source": [
    "# For the bootstrap we are going to see the coefficient for the linear regression for person 1 as the dependent variable y\n",
    "WatchData = pd.read_csv('/home/jovyan/mid_project/NEWmerged.csv', header=0)\n",
    "WatchData['label'] = WatchData['Class'] == \"Person 1\""
   ]
  },
  {
   "cell_type": "code",
   "execution_count": 85,
   "id": "4cdea2b6-0d94-426b-b345-3af22c87e340",
   "metadata": {},
   "outputs": [
    {
     "data": {
      "text/html": [
       "<div>\n",
       "<style scoped>\n",
       "    .dataframe tbody tr th:only-of-type {\n",
       "        vertical-align: middle;\n",
       "    }\n",
       "\n",
       "    .dataframe tbody tr th {\n",
       "        vertical-align: top;\n",
       "    }\n",
       "\n",
       "    .dataframe thead th {\n",
       "        text-align: right;\n",
       "    }\n",
       "</style>\n",
       "<table border=\"1\" class=\"dataframe\">\n",
       "  <thead>\n",
       "    <tr style=\"text-align: right;\">\n",
       "      <th></th>\n",
       "      <th>XAVG</th>\n",
       "      <th>YAVG</th>\n",
       "      <th>ZAVG</th>\n",
       "      <th>XPEAK</th>\n",
       "      <th>YPEAK</th>\n",
       "      <th>ZPEAK</th>\n",
       "      <th>XVAR</th>\n",
       "      <th>YVAR</th>\n",
       "      <th>ZVAR</th>\n",
       "      <th>RESULTANT</th>\n",
       "      <th>...</th>\n",
       "      <th>ACTIVITY_K</th>\n",
       "      <th>ACTIVITY_L</th>\n",
       "      <th>ACTIVITY_M</th>\n",
       "      <th>ACTIVITY_O</th>\n",
       "      <th>ACTIVITY_P</th>\n",
       "      <th>ACTIVITY_Q</th>\n",
       "      <th>ACTIVITY_R</th>\n",
       "      <th>ACTIVITY_S</th>\n",
       "      <th>Class_Person 1</th>\n",
       "      <th>Class_Person 2</th>\n",
       "    </tr>\n",
       "  </thead>\n",
       "  <tbody>\n",
       "    <tr>\n",
       "      <th>0</th>\n",
       "      <td>9.23000</td>\n",
       "      <td>-3.22562</td>\n",
       "      <td>3.40728</td>\n",
       "      <td>40.0000</td>\n",
       "      <td>57.5758</td>\n",
       "      <td>43.4884</td>\n",
       "      <td>0.504440</td>\n",
       "      <td>0.527774</td>\n",
       "      <td>0.401989</td>\n",
       "      <td>11.55880</td>\n",
       "      <td>...</td>\n",
       "      <td>0</td>\n",
       "      <td>0</td>\n",
       "      <td>0</td>\n",
       "      <td>0</td>\n",
       "      <td>0</td>\n",
       "      <td>0</td>\n",
       "      <td>0</td>\n",
       "      <td>0</td>\n",
       "      <td>1</td>\n",
       "      <td>0</td>\n",
       "    </tr>\n",
       "    <tr>\n",
       "      <th>1</th>\n",
       "      <td>7.75308</td>\n",
       "      <td>-3.62212</td>\n",
       "      <td>2.58781</td>\n",
       "      <td>43.4091</td>\n",
       "      <td>48.7179</td>\n",
       "      <td>51.3158</td>\n",
       "      <td>0.712498</td>\n",
       "      <td>0.531065</td>\n",
       "      <td>0.455501</td>\n",
       "      <td>12.09340</td>\n",
       "      <td>...</td>\n",
       "      <td>0</td>\n",
       "      <td>0</td>\n",
       "      <td>0</td>\n",
       "      <td>0</td>\n",
       "      <td>0</td>\n",
       "      <td>0</td>\n",
       "      <td>0</td>\n",
       "      <td>0</td>\n",
       "      <td>1</td>\n",
       "      <td>0</td>\n",
       "    </tr>\n",
       "    <tr>\n",
       "      <th>2</th>\n",
       "      <td>8.40093</td>\n",
       "      <td>-4.04586</td>\n",
       "      <td>2.09208</td>\n",
       "      <td>41.7391</td>\n",
       "      <td>50.8108</td>\n",
       "      <td>44.3182</td>\n",
       "      <td>0.677074</td>\n",
       "      <td>0.522641</td>\n",
       "      <td>0.411418</td>\n",
       "      <td>11.96040</td>\n",
       "      <td>...</td>\n",
       "      <td>0</td>\n",
       "      <td>0</td>\n",
       "      <td>0</td>\n",
       "      <td>0</td>\n",
       "      <td>0</td>\n",
       "      <td>0</td>\n",
       "      <td>0</td>\n",
       "      <td>0</td>\n",
       "      <td>1</td>\n",
       "      <td>0</td>\n",
       "    </tr>\n",
       "    <tr>\n",
       "      <th>3</th>\n",
       "      <td>11.43050</td>\n",
       "      <td>-3.77390</td>\n",
       "      <td>2.88670</td>\n",
       "      <td>40.6383</td>\n",
       "      <td>49.4872</td>\n",
       "      <td>43.8636</td>\n",
       "      <td>0.418373</td>\n",
       "      <td>0.546912</td>\n",
       "      <td>0.355470</td>\n",
       "      <td>13.27350</td>\n",
       "      <td>...</td>\n",
       "      <td>0</td>\n",
       "      <td>0</td>\n",
       "      <td>0</td>\n",
       "      <td>0</td>\n",
       "      <td>0</td>\n",
       "      <td>0</td>\n",
       "      <td>0</td>\n",
       "      <td>0</td>\n",
       "      <td>1</td>\n",
       "      <td>0</td>\n",
       "    </tr>\n",
       "    <tr>\n",
       "      <th>4</th>\n",
       "      <td>10.41550</td>\n",
       "      <td>-3.66641</td>\n",
       "      <td>3.37102</td>\n",
       "      <td>46.5854</td>\n",
       "      <td>45.7143</td>\n",
       "      <td>48.0000</td>\n",
       "      <td>0.552819</td>\n",
       "      <td>0.547732</td>\n",
       "      <td>0.406682</td>\n",
       "      <td>12.89640</td>\n",
       "      <td>...</td>\n",
       "      <td>0</td>\n",
       "      <td>0</td>\n",
       "      <td>0</td>\n",
       "      <td>0</td>\n",
       "      <td>0</td>\n",
       "      <td>0</td>\n",
       "      <td>0</td>\n",
       "      <td>0</td>\n",
       "      <td>1</td>\n",
       "      <td>0</td>\n",
       "    </tr>\n",
       "    <tr>\n",
       "      <th>...</th>\n",
       "      <td>...</td>\n",
       "      <td>...</td>\n",
       "      <td>...</td>\n",
       "      <td>...</td>\n",
       "      <td>...</td>\n",
       "      <td>...</td>\n",
       "      <td>...</td>\n",
       "      <td>...</td>\n",
       "      <td>...</td>\n",
       "      <td>...</td>\n",
       "      <td>...</td>\n",
       "      <td>...</td>\n",
       "      <td>...</td>\n",
       "      <td>...</td>\n",
       "      <td>...</td>\n",
       "      <td>...</td>\n",
       "      <td>...</td>\n",
       "      <td>...</td>\n",
       "      <td>...</td>\n",
       "      <td>...</td>\n",
       "      <td>...</td>\n",
       "    </tr>\n",
       "    <tr>\n",
       "      <th>708</th>\n",
       "      <td>-4.98030</td>\n",
       "      <td>-6.30830</td>\n",
       "      <td>4.07123</td>\n",
       "      <td>37.8846</td>\n",
       "      <td>31.1290</td>\n",
       "      <td>40.2083</td>\n",
       "      <td>0.324098</td>\n",
       "      <td>0.327602</td>\n",
       "      <td>0.489588</td>\n",
       "      <td>9.84407</td>\n",
       "      <td>...</td>\n",
       "      <td>0</td>\n",
       "      <td>0</td>\n",
       "      <td>0</td>\n",
       "      <td>0</td>\n",
       "      <td>0</td>\n",
       "      <td>0</td>\n",
       "      <td>0</td>\n",
       "      <td>0</td>\n",
       "      <td>0</td>\n",
       "      <td>1</td>\n",
       "    </tr>\n",
       "    <tr>\n",
       "      <th>709</th>\n",
       "      <td>-3.96616</td>\n",
       "      <td>-7.75343</td>\n",
       "      <td>1.87951</td>\n",
       "      <td>36.4815</td>\n",
       "      <td>28.9552</td>\n",
       "      <td>38.9796</td>\n",
       "      <td>0.333311</td>\n",
       "      <td>0.283873</td>\n",
       "      <td>0.509983</td>\n",
       "      <td>9.82156</td>\n",
       "      <td>...</td>\n",
       "      <td>0</td>\n",
       "      <td>0</td>\n",
       "      <td>0</td>\n",
       "      <td>0</td>\n",
       "      <td>0</td>\n",
       "      <td>0</td>\n",
       "      <td>0</td>\n",
       "      <td>0</td>\n",
       "      <td>0</td>\n",
       "      <td>1</td>\n",
       "    </tr>\n",
       "    <tr>\n",
       "      <th>710</th>\n",
       "      <td>-4.36883</td>\n",
       "      <td>-7.30435</td>\n",
       "      <td>2.52667</td>\n",
       "      <td>35.1786</td>\n",
       "      <td>28.5075</td>\n",
       "      <td>39.5918</td>\n",
       "      <td>0.333168</td>\n",
       "      <td>0.308339</td>\n",
       "      <td>0.513278</td>\n",
       "      <td>9.83112</td>\n",
       "      <td>...</td>\n",
       "      <td>0</td>\n",
       "      <td>0</td>\n",
       "      <td>0</td>\n",
       "      <td>0</td>\n",
       "      <td>0</td>\n",
       "      <td>0</td>\n",
       "      <td>0</td>\n",
       "      <td>1</td>\n",
       "      <td>0</td>\n",
       "      <td>1</td>\n",
       "    </tr>\n",
       "    <tr>\n",
       "      <th>711</th>\n",
       "      <td>-3.90877</td>\n",
       "      <td>-7.46837</td>\n",
       "      <td>2.83919</td>\n",
       "      <td>36.7308</td>\n",
       "      <td>30.3175</td>\n",
       "      <td>37.2549</td>\n",
       "      <td>0.340969</td>\n",
       "      <td>0.275551</td>\n",
       "      <td>0.507417</td>\n",
       "      <td>9.79981</td>\n",
       "      <td>...</td>\n",
       "      <td>0</td>\n",
       "      <td>0</td>\n",
       "      <td>0</td>\n",
       "      <td>0</td>\n",
       "      <td>0</td>\n",
       "      <td>0</td>\n",
       "      <td>0</td>\n",
       "      <td>0</td>\n",
       "      <td>0</td>\n",
       "      <td>1</td>\n",
       "    </tr>\n",
       "    <tr>\n",
       "      <th>712</th>\n",
       "      <td>-4.06541</td>\n",
       "      <td>-7.25140</td>\n",
       "      <td>3.34052</td>\n",
       "      <td>38.6275</td>\n",
       "      <td>31.7742</td>\n",
       "      <td>34.3860</td>\n",
       "      <td>0.318136</td>\n",
       "      <td>0.286414</td>\n",
       "      <td>0.507233</td>\n",
       "      <td>9.83474</td>\n",
       "      <td>...</td>\n",
       "      <td>0</td>\n",
       "      <td>0</td>\n",
       "      <td>0</td>\n",
       "      <td>0</td>\n",
       "      <td>0</td>\n",
       "      <td>0</td>\n",
       "      <td>0</td>\n",
       "      <td>0</td>\n",
       "      <td>0</td>\n",
       "      <td>1</td>\n",
       "    </tr>\n",
       "  </tbody>\n",
       "</table>\n",
       "<p>713 rows × 30 columns</p>\n",
       "</div>"
      ],
      "text/plain": [
       "         XAVG     YAVG     ZAVG    XPEAK    YPEAK    ZPEAK      XVAR  \\\n",
       "0     9.23000 -3.22562  3.40728  40.0000  57.5758  43.4884  0.504440   \n",
       "1     7.75308 -3.62212  2.58781  43.4091  48.7179  51.3158  0.712498   \n",
       "2     8.40093 -4.04586  2.09208  41.7391  50.8108  44.3182  0.677074   \n",
       "3    11.43050 -3.77390  2.88670  40.6383  49.4872  43.8636  0.418373   \n",
       "4    10.41550 -3.66641  3.37102  46.5854  45.7143  48.0000  0.552819   \n",
       "..        ...      ...      ...      ...      ...      ...       ...   \n",
       "708  -4.98030 -6.30830  4.07123  37.8846  31.1290  40.2083  0.324098   \n",
       "709  -3.96616 -7.75343  1.87951  36.4815  28.9552  38.9796  0.333311   \n",
       "710  -4.36883 -7.30435  2.52667  35.1786  28.5075  39.5918  0.333168   \n",
       "711  -3.90877 -7.46837  2.83919  36.7308  30.3175  37.2549  0.340969   \n",
       "712  -4.06541 -7.25140  3.34052  38.6275  31.7742  34.3860  0.318136   \n",
       "\n",
       "         YVAR      ZVAR  RESULTANT  ...  ACTIVITY_K  ACTIVITY_L  ACTIVITY_M  \\\n",
       "0    0.527774  0.401989   11.55880  ...           0           0           0   \n",
       "1    0.531065  0.455501   12.09340  ...           0           0           0   \n",
       "2    0.522641  0.411418   11.96040  ...           0           0           0   \n",
       "3    0.546912  0.355470   13.27350  ...           0           0           0   \n",
       "4    0.547732  0.406682   12.89640  ...           0           0           0   \n",
       "..        ...       ...        ...  ...         ...         ...         ...   \n",
       "708  0.327602  0.489588    9.84407  ...           0           0           0   \n",
       "709  0.283873  0.509983    9.82156  ...           0           0           0   \n",
       "710  0.308339  0.513278    9.83112  ...           0           0           0   \n",
       "711  0.275551  0.507417    9.79981  ...           0           0           0   \n",
       "712  0.286414  0.507233    9.83474  ...           0           0           0   \n",
       "\n",
       "     ACTIVITY_O  ACTIVITY_P  ACTIVITY_Q  ACTIVITY_R  ACTIVITY_S  \\\n",
       "0             0           0           0           0           0   \n",
       "1             0           0           0           0           0   \n",
       "2             0           0           0           0           0   \n",
       "3             0           0           0           0           0   \n",
       "4             0           0           0           0           0   \n",
       "..          ...         ...         ...         ...         ...   \n",
       "708           0           0           0           0           0   \n",
       "709           0           0           0           0           0   \n",
       "710           0           0           0           0           1   \n",
       "711           0           0           0           0           0   \n",
       "712           0           0           0           0           0   \n",
       "\n",
       "     Class_Person 1  Class_Person 2  \n",
       "0                 1               0  \n",
       "1                 1               0  \n",
       "2                 1               0  \n",
       "3                 1               0  \n",
       "4                 1               0  \n",
       "..              ...             ...  \n",
       "708               0               1  \n",
       "709               0               1  \n",
       "710               0               1  \n",
       "711               0               1  \n",
       "712               0               1  \n",
       "\n",
       "[713 rows x 30 columns]"
      ]
     },
     "execution_count": 85,
     "metadata": {},
     "output_type": "execute_result"
    }
   ],
   "source": [
    "bootstrap_data = pd.get_dummies(WatchData, columns=['ACTIVITY','Class']).drop(['label'], axis=1)\n",
    "bootstrap_data"
   ]
  },
  {
   "cell_type": "code",
   "execution_count": 86,
   "id": "fe226df6-3498-441d-91e4-588ef63155d5",
   "metadata": {},
   "outputs": [
    {
     "data": {
      "text/html": [
       "<div>\n",
       "<style scoped>\n",
       "    .dataframe tbody tr th:only-of-type {\n",
       "        vertical-align: middle;\n",
       "    }\n",
       "\n",
       "    .dataframe tbody tr th {\n",
       "        vertical-align: top;\n",
       "    }\n",
       "\n",
       "    .dataframe thead th {\n",
       "        text-align: right;\n",
       "    }\n",
       "</style>\n",
       "<table border=\"1\" class=\"dataframe\">\n",
       "  <thead>\n",
       "    <tr style=\"text-align: right;\">\n",
       "      <th></th>\n",
       "      <th>XAVG</th>\n",
       "      <th>YAVG</th>\n",
       "      <th>ZAVG</th>\n",
       "      <th>XPEAK</th>\n",
       "      <th>YPEAK</th>\n",
       "      <th>ZPEAK</th>\n",
       "      <th>XVAR</th>\n",
       "      <th>YVAR</th>\n",
       "      <th>ZVAR</th>\n",
       "      <th>RESULTANT</th>\n",
       "      <th>...</th>\n",
       "      <th>ACTIVITY_I</th>\n",
       "      <th>ACTIVITY_J</th>\n",
       "      <th>ACTIVITY_K</th>\n",
       "      <th>ACTIVITY_L</th>\n",
       "      <th>ACTIVITY_M</th>\n",
       "      <th>ACTIVITY_O</th>\n",
       "      <th>ACTIVITY_P</th>\n",
       "      <th>ACTIVITY_Q</th>\n",
       "      <th>ACTIVITY_R</th>\n",
       "      <th>ACTIVITY_S</th>\n",
       "    </tr>\n",
       "  </thead>\n",
       "  <tbody>\n",
       "    <tr>\n",
       "      <th>0</th>\n",
       "      <td>9.23000</td>\n",
       "      <td>-3.22562</td>\n",
       "      <td>3.40728</td>\n",
       "      <td>40.0000</td>\n",
       "      <td>57.5758</td>\n",
       "      <td>43.4884</td>\n",
       "      <td>0.504440</td>\n",
       "      <td>0.527774</td>\n",
       "      <td>0.401989</td>\n",
       "      <td>11.5588</td>\n",
       "      <td>...</td>\n",
       "      <td>0</td>\n",
       "      <td>0</td>\n",
       "      <td>0</td>\n",
       "      <td>0</td>\n",
       "      <td>0</td>\n",
       "      <td>0</td>\n",
       "      <td>0</td>\n",
       "      <td>0</td>\n",
       "      <td>0</td>\n",
       "      <td>0</td>\n",
       "    </tr>\n",
       "    <tr>\n",
       "      <th>1</th>\n",
       "      <td>7.75308</td>\n",
       "      <td>-3.62212</td>\n",
       "      <td>2.58781</td>\n",
       "      <td>43.4091</td>\n",
       "      <td>48.7179</td>\n",
       "      <td>51.3158</td>\n",
       "      <td>0.712498</td>\n",
       "      <td>0.531065</td>\n",
       "      <td>0.455501</td>\n",
       "      <td>12.0934</td>\n",
       "      <td>...</td>\n",
       "      <td>0</td>\n",
       "      <td>0</td>\n",
       "      <td>0</td>\n",
       "      <td>0</td>\n",
       "      <td>0</td>\n",
       "      <td>0</td>\n",
       "      <td>0</td>\n",
       "      <td>0</td>\n",
       "      <td>0</td>\n",
       "      <td>0</td>\n",
       "    </tr>\n",
       "    <tr>\n",
       "      <th>2</th>\n",
       "      <td>8.40093</td>\n",
       "      <td>-4.04586</td>\n",
       "      <td>2.09208</td>\n",
       "      <td>41.7391</td>\n",
       "      <td>50.8108</td>\n",
       "      <td>44.3182</td>\n",
       "      <td>0.677074</td>\n",
       "      <td>0.522641</td>\n",
       "      <td>0.411418</td>\n",
       "      <td>11.9604</td>\n",
       "      <td>...</td>\n",
       "      <td>0</td>\n",
       "      <td>0</td>\n",
       "      <td>0</td>\n",
       "      <td>0</td>\n",
       "      <td>0</td>\n",
       "      <td>0</td>\n",
       "      <td>0</td>\n",
       "      <td>0</td>\n",
       "      <td>0</td>\n",
       "      <td>0</td>\n",
       "    </tr>\n",
       "    <tr>\n",
       "      <th>3</th>\n",
       "      <td>11.43050</td>\n",
       "      <td>-3.77390</td>\n",
       "      <td>2.88670</td>\n",
       "      <td>40.6383</td>\n",
       "      <td>49.4872</td>\n",
       "      <td>43.8636</td>\n",
       "      <td>0.418373</td>\n",
       "      <td>0.546912</td>\n",
       "      <td>0.355470</td>\n",
       "      <td>13.2735</td>\n",
       "      <td>...</td>\n",
       "      <td>0</td>\n",
       "      <td>0</td>\n",
       "      <td>0</td>\n",
       "      <td>0</td>\n",
       "      <td>0</td>\n",
       "      <td>0</td>\n",
       "      <td>0</td>\n",
       "      <td>0</td>\n",
       "      <td>0</td>\n",
       "      <td>0</td>\n",
       "    </tr>\n",
       "    <tr>\n",
       "      <th>4</th>\n",
       "      <td>10.41550</td>\n",
       "      <td>-3.66641</td>\n",
       "      <td>3.37102</td>\n",
       "      <td>46.5854</td>\n",
       "      <td>45.7143</td>\n",
       "      <td>48.0000</td>\n",
       "      <td>0.552819</td>\n",
       "      <td>0.547732</td>\n",
       "      <td>0.406682</td>\n",
       "      <td>12.8964</td>\n",
       "      <td>...</td>\n",
       "      <td>0</td>\n",
       "      <td>0</td>\n",
       "      <td>0</td>\n",
       "      <td>0</td>\n",
       "      <td>0</td>\n",
       "      <td>0</td>\n",
       "      <td>0</td>\n",
       "      <td>0</td>\n",
       "      <td>0</td>\n",
       "      <td>0</td>\n",
       "    </tr>\n",
       "  </tbody>\n",
       "</table>\n",
       "<p>5 rows × 28 columns</p>\n",
       "</div>"
      ],
      "text/plain": [
       "       XAVG     YAVG     ZAVG    XPEAK    YPEAK    ZPEAK      XVAR      YVAR  \\\n",
       "0   9.23000 -3.22562  3.40728  40.0000  57.5758  43.4884  0.504440  0.527774   \n",
       "1   7.75308 -3.62212  2.58781  43.4091  48.7179  51.3158  0.712498  0.531065   \n",
       "2   8.40093 -4.04586  2.09208  41.7391  50.8108  44.3182  0.677074  0.522641   \n",
       "3  11.43050 -3.77390  2.88670  40.6383  49.4872  43.8636  0.418373  0.546912   \n",
       "4  10.41550 -3.66641  3.37102  46.5854  45.7143  48.0000  0.552819  0.547732   \n",
       "\n",
       "       ZVAR  RESULTANT  ...  ACTIVITY_I  ACTIVITY_J  ACTIVITY_K  ACTIVITY_L  \\\n",
       "0  0.401989    11.5588  ...           0           0           0           0   \n",
       "1  0.455501    12.0934  ...           0           0           0           0   \n",
       "2  0.411418    11.9604  ...           0           0           0           0   \n",
       "3  0.355470    13.2735  ...           0           0           0           0   \n",
       "4  0.406682    12.8964  ...           0           0           0           0   \n",
       "\n",
       "   ACTIVITY_M  ACTIVITY_O  ACTIVITY_P  ACTIVITY_Q  ACTIVITY_R  ACTIVITY_S  \n",
       "0           0           0           0           0           0           0  \n",
       "1           0           0           0           0           0           0  \n",
       "2           0           0           0           0           0           0  \n",
       "3           0           0           0           0           0           0  \n",
       "4           0           0           0           0           0           0  \n",
       "\n",
       "[5 rows x 28 columns]"
      ]
     },
     "execution_count": 86,
     "metadata": {},
     "output_type": "execute_result"
    }
   ],
   "source": [
    "X = bootstrap_data.loc[:, [\"XAVG\", \"YAVG\",'ZAVG','XPEAK','YPEAK','ZPEAK','XVAR','YVAR','ZVAR','RESULTANT','ACTIVITY_A','ACTIVITY_B','ACTIVITY_C','ACTIVITY_D','ACTIVITY_E','ACTIVITY_F','ACTIVITY_G','ACTIVITY_H','ACTIVITY_I','ACTIVITY_J','ACTIVITY_K','ACTIVITY_L','ACTIVITY_M','ACTIVITY_O','ACTIVITY_P','ACTIVITY_Q','ACTIVITY_R','ACTIVITY_S']]\n",
    "X.head()"
   ]
  },
  {
   "cell_type": "code",
   "execution_count": 87,
   "id": "1f647128-4e9f-45fd-9be2-73a981cd513d",
   "metadata": {},
   "outputs": [
    {
     "data": {
      "text/plain": [
       "0    1\n",
       "1    1\n",
       "2    1\n",
       "3    1\n",
       "4    1\n",
       "Name: Class_Person 1, dtype: uint8"
      ]
     },
     "execution_count": 87,
     "metadata": {},
     "output_type": "execute_result"
    }
   ],
   "source": [
    "y = bootstrap_data.loc[:, \"Class_Person 1\"]\n"
   ]
  },
  {
   "cell_type": "code",
   "execution_count": 90,
   "id": "b134f74b-9b2a-49ea-92ed-bbd40aeefb09",
   "metadata": {},
   "outputs": [
    {
     "data": {
      "text/html": [
       "<table class=\"simpletable\">\n",
       "<caption>OLS Regression Results</caption>\n",
       "<tr>\n",
       "  <th>Dep. Variable:</th>     <td>Class_Person 1</td>  <th>  R-squared:         </th> <td>   0.553</td> \n",
       "</tr>\n",
       "<tr>\n",
       "  <th>Model:</th>                   <td>OLS</td>       <th>  Adj. R-squared:    </th> <td>   0.536</td> \n",
       "</tr>\n",
       "<tr>\n",
       "  <th>Method:</th>             <td>Least Squares</td>  <th>  F-statistic:       </th> <td>   31.43</td> \n",
       "</tr>\n",
       "<tr>\n",
       "  <th>Date:</th>             <td>Thu, 30 Mar 2023</td> <th>  Prob (F-statistic):</th> <td>2.95e-101</td>\n",
       "</tr>\n",
       "<tr>\n",
       "  <th>Time:</th>                 <td>17:10:05</td>     <th>  Log-Likelihood:    </th> <td> -229.09</td> \n",
       "</tr>\n",
       "<tr>\n",
       "  <th>No. Observations:</th>      <td>   713</td>      <th>  AIC:               </th> <td>   514.2</td> \n",
       "</tr>\n",
       "<tr>\n",
       "  <th>Df Residuals:</th>          <td>   685</td>      <th>  BIC:               </th> <td>   642.1</td> \n",
       "</tr>\n",
       "<tr>\n",
       "  <th>Df Model:</th>              <td>    27</td>      <th>                     </th>     <td> </td>    \n",
       "</tr>\n",
       "<tr>\n",
       "  <th>Covariance Type:</th>      <td>nonrobust</td>    <th>                     </th>     <td> </td>    \n",
       "</tr>\n",
       "</table>\n",
       "<table class=\"simpletable\">\n",
       "<tr>\n",
       "       <td></td>         <th>coef</th>     <th>std err</th>      <th>t</th>      <th>P>|t|</th>  <th>[0.025</th>    <th>0.975]</th>  \n",
       "</tr>\n",
       "<tr>\n",
       "  <th>XAVG</th>       <td>   -0.0147</td> <td>    0.004</td> <td>   -4.161</td> <td> 0.000</td> <td>   -0.022</td> <td>   -0.008</td>\n",
       "</tr>\n",
       "<tr>\n",
       "  <th>YAVG</th>       <td>   -0.0456</td> <td>    0.003</td> <td>  -14.541</td> <td> 0.000</td> <td>   -0.052</td> <td>   -0.039</td>\n",
       "</tr>\n",
       "<tr>\n",
       "  <th>ZAVG</th>       <td>    0.0315</td> <td>    0.006</td> <td>    5.186</td> <td> 0.000</td> <td>    0.020</td> <td>    0.043</td>\n",
       "</tr>\n",
       "<tr>\n",
       "  <th>XPEAK</th>      <td>    0.0091</td> <td>    0.002</td> <td>    4.934</td> <td> 0.000</td> <td>    0.005</td> <td>    0.013</td>\n",
       "</tr>\n",
       "<tr>\n",
       "  <th>YPEAK</th>      <td>    0.0104</td> <td>    0.002</td> <td>    4.616</td> <td> 0.000</td> <td>    0.006</td> <td>    0.015</td>\n",
       "</tr>\n",
       "<tr>\n",
       "  <th>ZPEAK</th>      <td>   -0.0227</td> <td>    0.003</td> <td>   -8.672</td> <td> 0.000</td> <td>   -0.028</td> <td>   -0.018</td>\n",
       "</tr>\n",
       "<tr>\n",
       "  <th>XVAR</th>       <td>   -0.3188</td> <td>    0.222</td> <td>   -1.433</td> <td> 0.152</td> <td>   -0.756</td> <td>    0.118</td>\n",
       "</tr>\n",
       "<tr>\n",
       "  <th>YVAR</th>       <td>    0.2868</td> <td>    0.255</td> <td>    1.126</td> <td> 0.260</td> <td>   -0.213</td> <td>    0.787</td>\n",
       "</tr>\n",
       "<tr>\n",
       "  <th>ZVAR</th>       <td>    0.8983</td> <td>    0.225</td> <td>    3.996</td> <td> 0.000</td> <td>    0.457</td> <td>    1.340</td>\n",
       "</tr>\n",
       "<tr>\n",
       "  <th>RESULTANT</th>  <td>    0.0946</td> <td>    0.020</td> <td>    4.756</td> <td> 0.000</td> <td>    0.056</td> <td>    0.134</td>\n",
       "</tr>\n",
       "<tr>\n",
       "  <th>ACTIVITY_A</th> <td>   -0.7793</td> <td>    0.200</td> <td>   -3.891</td> <td> 0.000</td> <td>   -1.173</td> <td>   -0.386</td>\n",
       "</tr>\n",
       "<tr>\n",
       "  <th>ACTIVITY_B</th> <td>   -1.4589</td> <td>    0.230</td> <td>   -6.353</td> <td> 0.000</td> <td>   -1.910</td> <td>   -1.008</td>\n",
       "</tr>\n",
       "<tr>\n",
       "  <th>ACTIVITY_C</th> <td>   -0.8892</td> <td>    0.191</td> <td>   -4.648</td> <td> 0.000</td> <td>   -1.265</td> <td>   -0.514</td>\n",
       "</tr>\n",
       "<tr>\n",
       "  <th>ACTIVITY_D</th> <td>   -0.4863</td> <td>    0.199</td> <td>   -2.444</td> <td> 0.015</td> <td>   -0.877</td> <td>   -0.096</td>\n",
       "</tr>\n",
       "<tr>\n",
       "  <th>ACTIVITY_E</th> <td>   -0.4435</td> <td>    0.189</td> <td>   -2.350</td> <td> 0.019</td> <td>   -0.814</td> <td>   -0.073</td>\n",
       "</tr>\n",
       "<tr>\n",
       "  <th>ACTIVITY_F</th> <td>   -0.6755</td> <td>    0.199</td> <td>   -3.396</td> <td> 0.001</td> <td>   -1.066</td> <td>   -0.285</td>\n",
       "</tr>\n",
       "<tr>\n",
       "  <th>ACTIVITY_G</th> <td>   -0.6892</td> <td>    0.197</td> <td>   -3.491</td> <td> 0.001</td> <td>   -1.077</td> <td>   -0.302</td>\n",
       "</tr>\n",
       "<tr>\n",
       "  <th>ACTIVITY_H</th> <td>   -0.6776</td> <td>    0.192</td> <td>   -3.537</td> <td> 0.000</td> <td>   -1.054</td> <td>   -0.301</td>\n",
       "</tr>\n",
       "<tr>\n",
       "  <th>ACTIVITY_I</th> <td>   -0.6734</td> <td>    0.192</td> <td>   -3.514</td> <td> 0.000</td> <td>   -1.050</td> <td>   -0.297</td>\n",
       "</tr>\n",
       "<tr>\n",
       "  <th>ACTIVITY_J</th> <td>   -0.6113</td> <td>    0.188</td> <td>   -3.260</td> <td> 0.001</td> <td>   -0.979</td> <td>   -0.243</td>\n",
       "</tr>\n",
       "<tr>\n",
       "  <th>ACTIVITY_K</th> <td>   -0.7906</td> <td>    0.186</td> <td>   -4.240</td> <td> 0.000</td> <td>   -1.157</td> <td>   -0.424</td>\n",
       "</tr>\n",
       "<tr>\n",
       "  <th>ACTIVITY_L</th> <td>   -0.7004</td> <td>    0.186</td> <td>   -3.763</td> <td> 0.000</td> <td>   -1.066</td> <td>   -0.335</td>\n",
       "</tr>\n",
       "<tr>\n",
       "  <th>ACTIVITY_M</th> <td>   -0.6952</td> <td>    0.196</td> <td>   -3.547</td> <td> 0.000</td> <td>   -1.080</td> <td>   -0.310</td>\n",
       "</tr>\n",
       "<tr>\n",
       "  <th>ACTIVITY_O</th> <td>   -1.3653</td> <td>    0.227</td> <td>   -6.021</td> <td> 0.000</td> <td>   -1.811</td> <td>   -0.920</td>\n",
       "</tr>\n",
       "<tr>\n",
       "  <th>ACTIVITY_P</th> <td>   -1.5557</td> <td>    0.257</td> <td>   -6.044</td> <td> 0.000</td> <td>   -2.061</td> <td>   -1.050</td>\n",
       "</tr>\n",
       "<tr>\n",
       "  <th>ACTIVITY_Q</th> <td>   -0.6446</td> <td>    0.192</td> <td>   -3.362</td> <td> 0.001</td> <td>   -1.021</td> <td>   -0.268</td>\n",
       "</tr>\n",
       "<tr>\n",
       "  <th>ACTIVITY_R</th> <td>   -0.6864</td> <td>    0.207</td> <td>   -3.313</td> <td> 0.001</td> <td>   -1.093</td> <td>   -0.280</td>\n",
       "</tr>\n",
       "<tr>\n",
       "  <th>ACTIVITY_S</th> <td>   -0.7756</td> <td>    0.192</td> <td>   -4.040</td> <td> 0.000</td> <td>   -1.153</td> <td>   -0.399</td>\n",
       "</tr>\n",
       "</table>\n",
       "<table class=\"simpletable\">\n",
       "<tr>\n",
       "  <th>Omnibus:</th>       <td>10.197</td> <th>  Durbin-Watson:     </th> <td>   0.429</td>\n",
       "</tr>\n",
       "<tr>\n",
       "  <th>Prob(Omnibus):</th> <td> 0.006</td> <th>  Jarque-Bera (JB):  </th> <td>  15.185</td>\n",
       "</tr>\n",
       "<tr>\n",
       "  <th>Skew:</th>          <td>-0.092</td> <th>  Prob(JB):          </th> <td>0.000504</td>\n",
       "</tr>\n",
       "<tr>\n",
       "  <th>Kurtosis:</th>      <td> 3.691</td> <th>  Cond. No.          </th> <td>4.85e+03</td>\n",
       "</tr>\n",
       "</table><br/><br/>Notes:<br/>[1] Standard Errors assume that the covariance matrix of the errors is correctly specified.<br/>[2] The condition number is large, 4.85e+03. This might indicate that there are<br/>strong multicollinearity or other numerical problems."
      ],
      "text/plain": [
       "<class 'statsmodels.iolib.summary.Summary'>\n",
       "\"\"\"\n",
       "                            OLS Regression Results                            \n",
       "==============================================================================\n",
       "Dep. Variable:         Class_Person 1   R-squared:                       0.553\n",
       "Model:                            OLS   Adj. R-squared:                  0.536\n",
       "Method:                 Least Squares   F-statistic:                     31.43\n",
       "Date:                Thu, 30 Mar 2023   Prob (F-statistic):          2.95e-101\n",
       "Time:                        17:10:05   Log-Likelihood:                -229.09\n",
       "No. Observations:                 713   AIC:                             514.2\n",
       "Df Residuals:                     685   BIC:                             642.1\n",
       "Df Model:                          27                                         \n",
       "Covariance Type:            nonrobust                                         \n",
       "==============================================================================\n",
       "                 coef    std err          t      P>|t|      [0.025      0.975]\n",
       "------------------------------------------------------------------------------\n",
       "XAVG          -0.0147      0.004     -4.161      0.000      -0.022      -0.008\n",
       "YAVG          -0.0456      0.003    -14.541      0.000      -0.052      -0.039\n",
       "ZAVG           0.0315      0.006      5.186      0.000       0.020       0.043\n",
       "XPEAK          0.0091      0.002      4.934      0.000       0.005       0.013\n",
       "YPEAK          0.0104      0.002      4.616      0.000       0.006       0.015\n",
       "ZPEAK         -0.0227      0.003     -8.672      0.000      -0.028      -0.018\n",
       "XVAR          -0.3188      0.222     -1.433      0.152      -0.756       0.118\n",
       "YVAR           0.2868      0.255      1.126      0.260      -0.213       0.787\n",
       "ZVAR           0.8983      0.225      3.996      0.000       0.457       1.340\n",
       "RESULTANT      0.0946      0.020      4.756      0.000       0.056       0.134\n",
       "ACTIVITY_A    -0.7793      0.200     -3.891      0.000      -1.173      -0.386\n",
       "ACTIVITY_B    -1.4589      0.230     -6.353      0.000      -1.910      -1.008\n",
       "ACTIVITY_C    -0.8892      0.191     -4.648      0.000      -1.265      -0.514\n",
       "ACTIVITY_D    -0.4863      0.199     -2.444      0.015      -0.877      -0.096\n",
       "ACTIVITY_E    -0.4435      0.189     -2.350      0.019      -0.814      -0.073\n",
       "ACTIVITY_F    -0.6755      0.199     -3.396      0.001      -1.066      -0.285\n",
       "ACTIVITY_G    -0.6892      0.197     -3.491      0.001      -1.077      -0.302\n",
       "ACTIVITY_H    -0.6776      0.192     -3.537      0.000      -1.054      -0.301\n",
       "ACTIVITY_I    -0.6734      0.192     -3.514      0.000      -1.050      -0.297\n",
       "ACTIVITY_J    -0.6113      0.188     -3.260      0.001      -0.979      -0.243\n",
       "ACTIVITY_K    -0.7906      0.186     -4.240      0.000      -1.157      -0.424\n",
       "ACTIVITY_L    -0.7004      0.186     -3.763      0.000      -1.066      -0.335\n",
       "ACTIVITY_M    -0.6952      0.196     -3.547      0.000      -1.080      -0.310\n",
       "ACTIVITY_O    -1.3653      0.227     -6.021      0.000      -1.811      -0.920\n",
       "ACTIVITY_P    -1.5557      0.257     -6.044      0.000      -2.061      -1.050\n",
       "ACTIVITY_Q    -0.6446      0.192     -3.362      0.001      -1.021      -0.268\n",
       "ACTIVITY_R    -0.6864      0.207     -3.313      0.001      -1.093      -0.280\n",
       "ACTIVITY_S    -0.7756      0.192     -4.040      0.000      -1.153      -0.399\n",
       "==============================================================================\n",
       "Omnibus:                       10.197   Durbin-Watson:                   0.429\n",
       "Prob(Omnibus):                  0.006   Jarque-Bera (JB):               15.185\n",
       "Skew:                          -0.092   Prob(JB):                     0.000504\n",
       "Kurtosis:                       3.691   Cond. No.                     4.85e+03\n",
       "==============================================================================\n",
       "\n",
       "Notes:\n",
       "[1] Standard Errors assume that the covariance matrix of the errors is correctly specified.\n",
       "[2] The condition number is large, 4.85e+03. This might indicate that there are\n",
       "strong multicollinearity or other numerical problems.\n",
       "\"\"\""
      ]
     },
     "execution_count": 90,
     "metadata": {},
     "output_type": "execute_result"
    }
   ],
   "source": [
    "# Normal linear regression\n",
    "linear_model = sm.OLS(y,X)\n",
    "result = linear_model.fit()\n",
    "result.summary()"
   ]
  },
  {
   "cell_type": "code",
   "execution_count": 91,
   "id": "abf899fa-1a15-434c-958b-874276b97b59",
   "metadata": {},
   "outputs": [],
   "source": [
    "bootstrap_data = pd.get_dummies(WatchData, columns=['ACTIVITY','Class']).drop(['label'], axis=1)\n"
   ]
  },
  {
   "cell_type": "code",
   "execution_count": 92,
   "id": "4f5c92a9-2658-4ea9-8514-5ff0ec084084",
   "metadata": {},
   "outputs": [],
   "source": [
    "# In our bootstrapping methods and analysis, we will focus on the coefficient of RESULTANT. We would like to explore the partial relationship between Person1 and RESULTANT holding all the other variables constant\n",
    "def simple_resample(n): \n",
    "    return(np.random.randint(low = 0, high = n, size = n))\n",
    "\n",
    "def bootstrap(boot_pop, statistic, resample = simple_resample, replicates = 1000):\n",
    "    n = len(boot_pop)\n",
    "    resample_estimates = np.array([statistic(boot_pop[resample(n)]) for _ in range(replicates)])\n",
    "    return resample_estimates\n"
   ]
  },
  {
   "cell_type": "code",
   "execution_count": 93,
   "id": "d9478ec1-309e-491d-bc96-6683a014d85c",
   "metadata": {},
   "outputs": [],
   "source": [
    "def RESULTANT_coeff(data_array):\n",
    "    X = data_array[:, 9:10]\n",
    "    y = data_array[:, 28:29]\n",
    "    \n",
    "    linear_model = lm.LinearRegression()\n",
    "    model = linear_model.fit(X, y)\n",
    "    theta_RESULTANT = model.coef_[0]\n",
    "\n",
    "    return theta_RESULTANT\n",
    "\n",
    "data_array = bootstrap_data.loc[:, [\"XAVG\", \"YAVG\",'ZAVG','XPEAK','YPEAK','ZPEAK','XVAR','YVAR','ZVAR','RESULTANT','ACTIVITY_A','ACTIVITY_B','ACTIVITY_C','ACTIVITY_D','ACTIVITY_E','ACTIVITY_F','ACTIVITY_G','ACTIVITY_H','ACTIVITY_I','ACTIVITY_J','ACTIVITY_K','ACTIVITY_L','ACTIVITY_M','ACTIVITY_O','ACTIVITY_P','ACTIVITY_Q','ACTIVITY_R','ACTIVITY_S','Class_Person 1','Class_Person 2']].values\n",
    "\n",
    "theta_hat_sampling = bootstrap(data_array, RESULTANT_coeff)"
   ]
  },
  {
   "cell_type": "code",
   "execution_count": 94,
   "id": "10e57447-f0ec-4577-914d-196938b7caaf",
   "metadata": {},
   "outputs": [
    {
     "data": {
      "image/png": "[encoded data removed]",
      "text/plain": [
       "<Figure size 700x500 with 1 Axes>"
      ]
     },
     "metadata": {},
     "output_type": "display_data"
    }
   ],
   "source": [
    "plt.figure(figsize = (7, 5))\n",
    "plt.hist(theta_hat_sampling, bins = 30)\n",
    "plt.xlabel(\"$\\\\tilde{\\\\theta}_{RESULTANT}$ Values\")\n",
    "plt.ylabel(\"Proportion per Unit\")\n",
    "plt.title(\"Bootstrap Sampling Distribution of $\\\\tilde{\\\\theta}_{RESULTANT}$ (Nonparametric)\");\n",
    "plt.show()"
   ]
  },
  {
   "cell_type": "code",
   "execution_count": 95,
   "id": "a9370667-eee6-41d2-b7b6-34dad183608b",
   "metadata": {},
   "outputs": [
    {
     "name": "stdout",
     "output_type": "stream",
     "text": [
      "0.02309386675827301 0.06495355480059813\n",
      "0.011045466236045664\n",
      "0.04369990245131869\n"
     ]
    }
   ],
   "source": [
    "#We construct an approximate 95% confidence interval for the true coefficient and we also calculate the standard deviation and mean \n",
    "left_confidence_interval_endpoint = np.percentile(theta_hat_sampling, 2.5)\n",
    "right_confidence_interval_endpoint = np.percentile(theta_hat_sampling, 97.5)\n",
    "\n",
    "print(left_confidence_interval_endpoint, right_confidence_interval_endpoint)\n",
    "print(np.std(theta_hat_sampling))\n",
    "print(np.mean(theta_hat_sampling))"
   ]
  },
  {
   "cell_type": "markdown",
   "id": "33d097dc-e86c-4017-94a5-764ea8e2f816",
   "metadata": {
    "jp-MarkdownHeadingCollapsed": true,
    "tags": []
   },
   "source": [
    "# Step 3"
   ]
  },
  {
   "cell_type": "markdown",
   "id": "9e1da25c-4548-49f0-9f90-dc38631ed580",
   "metadata": {
    "tags": []
   },
   "source": [
    "## ROC Curve"
   ]
  },
  {
   "cell_type": "code",
   "execution_count": 96,
   "id": "76f41e51-082d-4be6-b41f-7751c092c9b5",
   "metadata": {},
   "outputs": [],
   "source": [
    "import numpy as np\n",
    "import matplotlib.pyplot as plt\n",
    "from itertools import cycle\n",
    "from sklearn import svm, datasets\n",
    "from sklearn.metrics import roc_curve, auc\n",
    "from sklearn.model_selection import train_test_split\n",
    "from sklearn.preprocessing import label_binarize\n",
    "from sklearn.multiclass import OneVsRestClassifier\n",
    "from sklearn.metrics import roc_auc_score"
   ]
  },
  {
   "cell_type": "code",
   "execution_count": 97,
   "id": "b3b0acd2-57d6-4bc6-8a1c-33a1f0075797",
   "metadata": {},
   "outputs": [],
   "source": [
    "# Binarize the output\n",
    "y = label_binarize(y, classes=[0, 1])\n",
    "n_classes = y.shape[1]"
   ]
  },
  {
   "cell_type": "code",
   "execution_count": 98,
   "id": "281f3c18-72fe-458d-ad3b-c312331a9801",
   "metadata": {},
   "outputs": [],
   "source": [
    "# shuffle and split training and test sets\n",
    "X_train, X_test, y_train, y_test = train_test_split(X, y, test_size=0.5, random_state=0)"
   ]
  },
  {
   "cell_type": "code",
   "execution_count": 99,
   "id": "df266c11-0fe2-45b0-9c50-c88db5b8ab6b",
   "metadata": {},
   "outputs": [
    {
     "name": "stderr",
     "output_type": "stream",
     "text": [
      "/opt/conda/lib/python3.10/site-packages/sklearn/discriminant_analysis.py:926: UserWarning: Variables are collinear\n",
      "  warnings.warn(\"Variables are collinear\")\n"
     ]
    }
   ],
   "source": [
    "# Create classifiers\n",
    "classifiers = {\n",
    "    'Logit': sm.Logit(y_train.ravel(), X_train).fit(disp=0),\n",
    "    'LDA': LDA().fit(X_train, y_train.ravel()),\n",
    "    'QDA': QDA().fit(X_train, y_train.ravel()),\n",
    "    'Naive Bayes': NB().fit(X_train, y_train.ravel()),\n",
    "    'KNN': KNN().fit(X_train, y_train.ravel())\n",
    "}\n"
   ]
  },
  {
   "cell_type": "code",
   "execution_count": 100,
   "id": "4e772f9d-dc94-4e3e-b619-ef2c449609f1",
   "metadata": {},
   "outputs": [],
   "source": [
    "# Compute ROC curve and ROC area for each classifier\n",
    "fpr = dict()\n",
    "tpr = dict()\n",
    "roc_auc = dict()\n",
    "\n",
    "for name, classifier in classifiers.items():\n",
    "    y_score = classifier.predict(X_test)\n",
    "    fpr[name], tpr[name], _ = roc_curve(y_test.ravel(), y_score)\n",
    "    roc_auc[name] = auc(fpr[name], tpr[name])"
   ]
  },
  {
   "cell_type": "code",
   "execution_count": 101,
   "id": "57cd8fae-501e-427e-acd5-afbf20668654",
   "metadata": {},
   "outputs": [
    {
     "data": {
      "image/png": "[encoded data removed]",
      "text/plain": [
       "<Figure size 640x480 with 1 Axes>"
      ]
     },
     "metadata": {},
     "output_type": "display_data"
    }
   ],
   "source": [
    "# Plot all ROC curves\n",
    "plt.figure()\n",
    "\n",
    "colors = cycle(['aqua', 'darkorange', 'cornflowerblue', 'deeppink', 'navy'])\n",
    "for name, color in zip(classifiers.keys(), colors):\n",
    "    plt.plot(fpr[name], tpr[name], color=color, lw=1,\n",
    "             label='ROC curve of {0} (area = {1:0.2f})'.format(name, roc_auc[name]))\n",
    "\n",
    "plt.plot([0, 1], [0, 1], 'k--', lw=1)\n",
    "plt.xlim([0.0, 1.0])\n",
    "plt.ylim([0.0, 1.05])\n",
    "plt.xlabel('False Positive Rate')\n",
    "plt.ylabel('True Positive Rate')\n",
    "plt.title('Receiver Operating Characteristic for Different Models')\n",
    "plt.legend(loc=\"lower right\")\n",
    "plt.show()"
   ]
  },
  {
   "cell_type": "markdown",
   "id": "bc8879b5-25d8-4782-b1ea-36da5156680e",
   "metadata": {
    "jp-MarkdownHeadingCollapsed": true,
    "tags": []
   },
   "source": [
    "# Step4"
   ]
  },
  {
   "cell_type": "markdown",
   "id": "08692138-9c97-4753-81d8-dc4503e602b0",
   "metadata": {
    "tags": []
   },
   "source": [
    "## Model Assesment"
   ]
  },
  {
   "cell_type": "code",
   "execution_count": 102,
   "id": "3e560848-6071-4b6c-ae00-fb31aa1ffd7f",
   "metadata": {},
   "outputs": [
    {
     "name": "stdout",
     "output_type": "stream",
     "text": [
      "No. of training examples: 57\n",
      "No. of testing examples: 14\n"
     ]
    }
   ],
   "source": [
    "#We split the data again to be able to do cross-validation\n",
    "test_data = testing_data.sample(frac=0.8, random_state=25)\n",
    "validationtest_data = testing_data.drop(test_data.index)\n",
    "\n",
    "print(f\"No. of training examples: {test_data.shape[0]}\")\n",
    "print(f\"No. of testing examples: {validationtest_data.shape[0]}\")"
   ]
  },
  {
   "cell_type": "code",
   "execution_count": 103,
   "id": "a539cb22-7158-47a0-8b8b-d23185246deb",
   "metadata": {},
   "outputs": [],
   "source": [
    "y_train, X_train = dmatrices('Class~XAVG+YAVG+ZAVG+XPEAK+YPEAK+ZPEAK+XVAR+YVAR+ZVAR+RESULTANT', test_data, return_type = 'dataframe')\n"
   ]
  },
  {
   "cell_type": "code",
   "execution_count": 104,
   "id": "c174290e-f030-444f-b74c-47cddb824143",
   "metadata": {},
   "outputs": [],
   "source": [
    "y_test, X_test = dmatrices('Class~XAVG+YAVG+ZAVG+XPEAK+YPEAK+ZPEAK+XVAR+YVAR+ZVAR+RESULTANT', validationtest_data, return_type = 'dataframe')"
   ]
  },
  {
   "cell_type": "markdown",
   "id": "062191a2-f90e-4f00-b264-a0fdae1e4359",
   "metadata": {},
   "source": [
    "### QDA"
   ]
  },
  {
   "cell_type": "code",
   "execution_count": 106,
   "id": "bc46a885-d99a-47d3-9011-b7d569ba7b59",
   "metadata": {},
   "outputs": [
    {
     "name": "stdout",
     "output_type": "stream",
     "text": [
      "0.9285714285714286\n"
     ]
    }
   ],
   "source": [
    "#We first perform the 80-20 cross validation \n",
    "sklearn_qda = QDA(priors=None,store_covariance=True) #creating a QDA object\n",
    "qda = sklearn_qda.fit(X_train.iloc[:,1:11], y_train.iloc[:,1]) #learning the projection matrix\n",
    "X_labels = qda.predict(X_train.iloc[:,1:11]) #gives you the predicted label for each sample\n",
    "X_prob = qda.predict_proba(X_train.iloc[:,1:11]) #the probability of each sample to belong to each class\n",
    "\n",
    "X_test_labels=qda.predict(X_test.iloc[:,1:11])\n",
    "X_test_prob = qda.predict_proba(X_test.iloc[:,1:11]) \n",
    "\n",
    "print(np.mean(y_test.iloc[:,1]==X_test_labels))"
   ]
  },
  {
   "cell_type": "code",
   "execution_count": 107,
   "id": "b6edc0ea-e4f5-450d-87b1-0eed6eaf2f5c",
   "metadata": {},
   "outputs": [
    {
     "data": {
      "text/plain": [
       "array([[7, 0],\n",
       "       [1, 6]])"
      ]
     },
     "execution_count": 107,
     "metadata": {},
     "output_type": "execute_result"
    }
   ],
   "source": [
    "threshold = 0.5\n",
    "confusion_matrix(y_test.iloc[:,1],X_test_prob[:,1]>=threshold)"
   ]
  },
  {
   "cell_type": "code",
   "execution_count": 108,
   "id": "0a69a298-1912-440c-a60b-9fcecda17c6a",
   "metadata": {},
   "outputs": [],
   "source": [
    "from sklearn.model_selection import KFold, cross_val_score"
   ]
  },
  {
   "cell_type": "code",
   "execution_count": 109,
   "id": "8100565d-98c3-4e63-8c6a-09dbdf1580f0",
   "metadata": {},
   "outputs": [],
   "source": [
    "#Now we perform the 10 fold cross validation\n",
    "# Prepare the data\n",
    "y, X = dmatrices('Class~XAVG+YAVG+ZAVG+XPEAK+YPEAK+ZPEAK+XVAR+YVAR+ZVAR+RESULTANT', testing_data, return_type='dataframe')\n",
    "y = y.iloc[:, 1].values\n",
    "\n",
    "np.random.seed(0)\n",
    "n_split = 10\n",
    "k_fold = KFold(n_splits=n_split)\n",
    "\n",
    "accuracy_list = []\n",
    "\n",
    "for train_index, test_index in k_fold.split(X):\n",
    "    X_train, X_test = X.iloc[train_index], X.iloc[test_index]\n",
    "    y_train, y_test = y[train_index], y[test_index]"
   ]
  },
  {
   "cell_type": "code",
   "execution_count": 110,
   "id": "0abc584a-0552-428e-bd9e-d199095e5fb6",
   "metadata": {},
   "outputs": [
    {
     "name": "stdout",
     "output_type": "stream",
     "text": [
      "Average accuracy (QDA): 0.9047619047619048\n"
     ]
    }
   ],
   "source": [
    "X = X_train.iloc[:,1:11]\n",
    "y = y_train\n",
    "\n",
    "sklearn_qda = QDA(priors=None, store_covariance=True)\n",
    "\n",
    "kf = KFold(n_splits=10, shuffle=True, random_state=0)\n",
    "\n",
    "accuracy_list = []\n",
    "\n",
    "for train_index, test_index in kf.split(X):\n",
    "    X_train_cv, X_test_cv = X.iloc[train_index], X.iloc[test_index]\n",
    "    y_train_cv, y_test_cv = y[train_index], y[test_index]\n",
    "\n",
    "    qda = sklearn_qda.fit(X_train_cv, y_train_cv)\n",
    "\n",
    "    X_test_labels = qda.predict(X_test_cv)\n",
    "    X_test_prob = qda.predict_proba(X_test_cv)\n",
    "\n",
    "    accuracy = np.mean(y_test_cv == X_test_labels)\n",
    "    accuracy_list.append(accuracy)\n",
    "\n",
    "qda_accuracy = np.mean(accuracy_list)\n",
    "print(f\"Average accuracy (QDA): {np.mean(qda_accuracy)}\")"
   ]
  },
  {
   "cell_type": "code",
   "execution_count": null,
   "id": "ee17580f-e00e-41c7-b164-cf8d16498dd0",
   "metadata": {},
   "outputs": [],
   "source": []
  }
 ],
 "metadata": {
  "kernelspec": {
   "display_name": "Python 3 (ipykernel)",
   "language": "python",
   "name": "python3"
  },
  "language_info": {
   "codemirror_mode": {
    "name": "ipython",
    "version": 3
   },
   "file_extension": ".py",
   "mimetype": "text/x-python",
   "name": "python",
   "nbconvert_exporter": "python",
   "pygments_lexer": "ipython3",
   "version": "3.10.8"
  }
 },
 "nbformat": 4,
 "nbformat_minor": 5
}
